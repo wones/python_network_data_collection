{
 "cells": [
  {
   "cell_type": "markdown",
   "metadata": {},
   "source": [
    "# 一、创建爬虫"
   ]
  },
  {
   "cell_type": "markdown",
   "metadata": {},
   "source": [
    "### 1初见网络爬虫"
   ]
  },
  {
   "cell_type": "code",
   "execution_count": 13,
   "metadata": {},
   "outputs": [],
   "source": [
    "#导入需要用到的包\n",
    "from urllib.request import urlopen\n",
    "from urllib.error import HTTPError,URLError\n",
    "from bs4 import BeautifulSoup    \n",
    "import re\n",
    "from urllib.parse import quote,urlparse\n",
    "\n",
    "import random\n",
    "import datetime\n",
    "import time\n",
    "\n",
    "import smtplib\n",
    "from email.mime.text import MIMEText"
   ]
  },
  {
   "cell_type": "code",
   "execution_count": 19,
   "metadata": {},
   "outputs": [],
   "source": [
    "try:\n",
    "    html=urlopen('http://pythonscraping.com/pages/page1.html')\n",
    "except HTTPError as e:\n",
    "    print(e)\n",
    "else:\n",
    "    if html is None:\n",
    "        print('URL is not found')"
   ]
  },
  {
   "cell_type": "code",
   "execution_count": 26,
   "metadata": {
    "collapsed": true,
    "jupyter": {
     "outputs_hidden": true
    }
   },
   "outputs": [
    {
     "name": "stdout",
     "output_type": "stream",
     "text": [
      "Tag was not found\n"
     ]
    }
   ],
   "source": [
    "bsObj=BeautifulSoup(html.read())\n",
    "try:\n",
    "    badContent=bsObj.h1\n",
    "except AttributeError as e:\n",
    "    print('Tag was not found')\n",
    "else:\n",
    "    if badContent ==None:\n",
    "        print('Tag was not found')\n",
    "    else:\n",
    "        print(badContent)"
   ]
  },
  {
   "cell_type": "markdown",
   "metadata": {},
   "source": [
    "### 2复杂HTML解析"
   ]
  },
  {
   "cell_type": "code",
   "execution_count": null,
   "metadata": {},
   "outputs": [],
   "source": [
    "html=urlopen('http://www.pythonscraping.com/pages/warandpeace.html')\n",
    "bsObj=BeautifulSoup(html)\n",
    "# print(bsObj.h1)\n",
    "# namelist=bsObj.findAll(\"span\",{\"class\":\"green\"})\n",
    "# namelist=bsObj.findAll(text='the prince')\n",
    "# namelist=bsObj.findAll(['h1','h2','h3'])\n",
    "# namelist=bsObj.findAll(\"span\",{\"class\":{\"green\",\"red\"}})\n",
    "# namelist=bsObj.findAll(id='text')\n",
    "namelist=bsObj.findAll(class_='green')\n",
    "for name in namelist:\n",
    "    print(name,end='')\n"
   ]
  },
  {
   "cell_type": "code",
   "execution_count": 4,
   "metadata": {
    "collapsed": true,
    "jupyter": {
     "outputs_hidden": true
    }
   },
   "outputs": [
    {
     "name": "stdout",
     "output_type": "stream",
     "text": [
      "\n",
      "$15.00\n",
      "\n"
     ]
    }
   ],
   "source": [
    "html=urlopen(\"http://www.pythonscraping.com/pages/page3.html\")\n",
    "bsObj=BeautifulSoup(html)\n",
    "# for child in bsObj.find('table',{'id':'giftList'}).children:\n",
    "#     print(child)\n",
    "# for sibling in bsObj.find('table',{'id':'giftList'}).tr.next_siblings:  #previous_siblings\n",
    "#     print(sibling)\n",
    "print(bsObj.find(\"img\",{'src':'../img/gifts/img1.jpg'}).parent.previous_sibling.get_text())"
   ]
  },
  {
   "cell_type": "code",
   "execution_count": 6,
   "metadata": {
    "collapsed": true,
    "jupyter": {
     "outputs_hidden": true
    }
   },
   "outputs": [
    {
     "name": "stdout",
     "output_type": "stream",
     "text": [
      "../img/gifts/img1.jpg\n",
      "../img/gifts/img2.jpg\n",
      "../img/gifts/img3.jpg\n",
      "../img/gifts/img4.jpg\n",
      "../img/gifts/img6.jpg\n"
     ]
    }
   ],
   "source": [
    "\n",
    "html=urlopen(\"http://www.pythonscraping.com/pages/page3.html\")\n",
    "bsObj=BeautifulSoup(html)\n",
    "images=bsObj.findAll('img',{'src':re.compile(\"\\.\\.\\/img\\/gifts\\/img.*\\.jpg\")})\n",
    "for img in images:\n",
    "    print(img.attrs['src']) #img['src']\n",
    "\n",
    "# #获取有两个属性的标签\n",
    "# bsObj.findAll(lambda tag:len(tag.attrs)==2)\n"
   ]
  },
  {
   "cell_type": "markdown",
   "metadata": {},
   "source": [
    "### 3开始采集"
   ]
  },
  {
   "cell_type": "code",
   "execution_count": 19,
   "metadata": {
    "collapsed": true,
    "jupyter": {
     "outputs_hidden": true
    }
   },
   "outputs": [
    {
     "name": "stdout",
     "output_type": "stream",
     "text": [
      "/item/%E8%92%8B%E8%8B%B1/2511157\n",
      "/item/%E9%92%B1%E6%B0%B8%E5%88%9A/6595519\n",
      "/item/%E9%92%B1%E6%B0%B8%E7%9C%9F/2621098\n",
      "/item/%E9%92%B1%E5%9D%87%E5%A4%AB/2586519\n",
      "/item/%E8%92%8B%E7%99%BE%E9%87%8C/642539\n",
      "/item/%E9%92%B1%E6%B0%B8%E4%BD%91/6770778\n",
      "/item/%E9%92%B1%E6%B0%B8%E5%81%A5/29857\n",
      "/item/%E7%8E%8B%E6%AF%93%E4%BA%91/9184928\n"
     ]
    }
   ],
   "source": [
    "html=urlopen(\"https://baike.baidu.com/item/%E9%92%B1%E5%AD%A6%E6%A3%AE/26105\")\n",
    "bsObj=BeautifulSoup(html)\n",
    "for link in bsObj.find('div',{'class':'star-info-block relations'}).findAll('a',href=re.compile(\"^(/item/)((?!:).)*$\")):\n",
    "    if 'href' in link.attrs:\n",
    "        print(link.attrs['href'])"
   ]
  },
  {
   "cell_type": "code",
   "execution_count": 34,
   "metadata": {
    "collapsed": true,
    "jupyter": {
     "outputs_hidden": true
    }
   },
   "outputs": [
    {
     "name": "stdout",
     "output_type": "stream",
     "text": [
      "/item/%E9%92%B1%E4%BB%A4%E5%B8%8C/444132\n",
      "/item/%E5%8A%9B%E5%AD%A6/648839\n",
      "/item/%E8%BE%B9%E7%BC%98%E5%AD%A6%E7%A7%91/2515678\n"
     ]
    }
   ],
   "source": [
    "# random.seed(datetime.datetime.now())\n",
    "def getLinks(articleUrl):\n",
    "    html=urlopen(\"https://baike.baidu.com\"+articleUrl)\n",
    "    bsObj=BeautifulSoup(html)\n",
    "    return bsObj.findAll('a',href=re.compile(\"^(/item/)((?!:).)*/[0-9]*$\"))\n",
    "\n",
    "links=getLinks('/item/%E9%92%B1%E5%AD%A6%E6%A3%AE/26105')\n",
    "while len(links)>0:\n",
    "    newArticle=links[random.randint(0,len(links)-1)].attrs['href']\n",
    "    print(newArticle)\n",
    "    links=getLinks(newArticle)\n",
    "    \n",
    "    "
   ]
  },
  {
   "cell_type": "code",
   "execution_count": null,
   "metadata": {
    "collapsed": true,
    "jupyter": {
     "outputs_hidden": true
    }
   },
   "outputs": [
    {
     "name": "stdout",
     "output_type": "stream",
     "text": [
      "百度百科_全球最大中文百科全书\n",
      "百度百科是一部内容开放、自由的网络百科全书，旨在创造一个涵盖所有领域知识，服务所有互联网用户的中文知识性百科全书。在这里你可以参与词条编辑，分享贡献你的知识。\n",
      "------------------------------------------------\n",
      "/item/秒懂本尊答\n",
      "秒懂本尊答_百度百科\n",
      "秒懂本尊答是百度公司推出的权威人物短视频品牌。由明星大咖本尊出镜，直面网友最感兴趣的个人及行业话题，分享自身的观点和态度，解读现象背后的知识。让复杂的知识更简单的同时，带你了解人物的另一面。这些本尊亲自回应的权威小视频，将优先于其他第三方结果，通过百度搜索和本人词条，直达用户。这也使“秒懂本尊答”成为明星大咖们表达自我的重要窗口和发声渠道。百度APP搜索“秒懂本尊答”，一键get所有本尊答视频。...\n",
      "------------------------------------------------\n",
      "/item/秒懂大师说\n",
      "秒懂大师说_百度百科\n",
      "“秒懂大师说”是百度百科2017全新推出的秒懂百科子栏目，邀请中外各领域顶尖学者、智囊、权威人士分享解读当今社会最引人关注的热点趋势与话题，传授各领域最独到、权威的观点知识。...\n",
      "------------------------------------------------\n",
      "/item/秒懂看瓦特\n",
      "秒懂看瓦特_百度百科\n",
      "《秒懂看瓦特》是2018年百度百科推出的影视综解说的短视频栏目。《秒懂看瓦特》联合多位优秀的影评人，解说当下最热的电影、电视剧、综艺等娱乐内容，帮助更多人快速认识到“看what”？！...\n",
      "------------------------------------------------\n",
      "/item/秒懂五千年\n",
      "秒懂五千年_百度百科\n",
      "“秒懂五千年”是百度百科2018年全新推出的科普中国传统文化原创动画栏目。该栏目构思新颖风趣幽默，遵循中国历史的发展脉络引出了一个个生动有趣的传统文化故事，为青少年再现了中华民族五千年璀璨的文明。...\n",
      "------------------------------------------------\n",
      "/item/秒懂全视界\n",
      "秒懂全视界_百度百科\n",
      "“秒懂全视界”是百度百科与互动视界2017年12月联合推出的VR旅游短视频栏目。...\n",
      "------------------------------------------------\n",
      "/item/百科热词团队\n",
      "百科热词团队_百度百科\n",
      "百科热词团队（Encyclopedia of Top Searched Keywords Team）是百度百科核心用户团队，主要负责热点词条挖掘、更新、完善及添加热点特型模块等，每天分享最新热点知识。百科热词团队由热爱知识分享、编辑能力优秀的科友汇聚而成。团队成员用最快的速度将最新的热点内容编辑更新词条，同时将高质量信息整理发布，满足大家阅读的需求。他们每天服务着数亿网友对知识的需求。百科热词团队在百科官方的引导下快速成长，团队成员用自己的付出不断传递着热词团队快捷、准确、高质的内容理念。积极参与来实现团队价值，服务亿万网友。...\n",
      "------------------------------------------------\n",
      "/item/%E7%83%AD%E7%82%B9%E8%AF%8D%E6%9D%A1/7801730\n",
      "百度百科——全球最大中文百科全书\n",
      "页面缺少一些属性！不过不用担心！\n",
      "------------------------------------------------\n",
      "/item/%E7%83%AD%E7%82%B9/3388605\n",
      "百度百科——全球最大中文百科全书\n",
      "页面缺少一些属性！不过不用担心！\n",
      "------------------------------------------------\n",
      "/item/%E7%99%BE%E5%BA%A6%E7%99%BE%E7%A7%91%E5%8D%81%E5%A4%A7%E7%83%AD%E8%AF%8D\n",
      "百度百科——全球最大中文百科全书\n",
      "页面缺少一些属性！不过不用担心！\n",
      "------------------------------------------------\n",
      "/item/%E5%8F%B2%E8%AE%B0%C2%B72019/24182522\n",
      "百度百科——全球最大中文百科全书\n",
      "页面缺少一些属性！不过不用担心！\n",
      "------------------------------------------------\n",
      "/item/%E7%99%BE%E5%BA%A6%E7%99%BE%E7%A7%91%EF%BC%9A%E7%83%AD%E8%AF%8D%E7%BC%96%E8%BE%91/13828963\n",
      "百度百科——全球最大中文百科全书\n",
      "页面缺少一些属性！不过不用担心！\n",
      "------------------------------------------------\n",
      "/item/%E7%8E%A9%E8%BD%AC%E7%99%BE%E7%A7%91/9690513\n",
      "百度百科——全球最大中文百科全书\n",
      "页面缺少一些属性！不过不用担心！\n",
      "------------------------------------------------\n",
      "/item/%E5%8F%B2%E8%AE%B0%C2%B72013\n",
      "百度百科——全球最大中文百科全书\n",
      "页面缺少一些属性！不过不用担心！\n",
      "------------------------------------------------\n",
      "/item/%E7%99%BE%E7%A7%91%E8%AE%B0%E8%80%85%E5%9B%A2\n",
      "百度百科——全球最大中文百科全书\n",
      "页面缺少一些属性！不过不用担心！\n",
      "------------------------------------------------\n",
      "/item/%E5%8F%B2%E8%AE%B0%C2%B72014\n",
      "百度百科——全球最大中文百科全书\n",
      "页面缺少一些属性！不过不用担心！\n",
      "------------------------------------------------\n",
      "/item/%E9%B9%BF%E6%99%97\n",
      "百度百科——全球最大中文百科全书\n",
      "页面缺少一些属性！不过不用担心！\n",
      "------------------------------------------------\n",
      "/item/%E5%8F%B2%E8%AE%B0%C2%B72015\n",
      "百度百科——全球最大中文百科全书\n",
      "页面缺少一些属性！不过不用担心！\n",
      "------------------------------------------------\n",
      "/item/%E5%8F%B2%E8%AE%B0%C2%B72016\n",
      "百度百科——全球最大中文百科全书\n",
      "页面缺少一些属性！不过不用担心！\n",
      "------------------------------------------------\n",
      "/item/%E5%8F%B2%E8%AE%B0%C2%B72017/22249459\n",
      "百度百科——全球最大中文百科全书\n",
      "页面缺少一些属性！不过不用担心！\n",
      "------------------------------------------------\n",
      "/item/%E7%83%AD%E8%AF%8D%E7%89%88%E6%9C%AC/22852959\n",
      "百度百科——全球最大中文百科全书\n",
      "页面缺少一些属性！不过不用担心！\n",
      "------------------------------------------------\n",
      "/item/%E5%8F%B2%E8%AE%B0%C2%B72018/23223816\n",
      "百度百科——全球最大中文百科全书\n",
      "页面缺少一些属性！不过不用担心！\n",
      "------------------------------------------------\n",
      "/item/%E7%99%BE%E5%BA%A6%E7%99%BE%E7%A7%91%E5%8D%81%E5%A4%A7%E7%83%AD%E8%AF%8D%E2%80%94%E2%80%942020%C2%B71/24292748\n",
      "百度百科——全球最大中文百科全书\n",
      "页面缺少一些属性！不过不用担心！\n",
      "------------------------------------------------\n",
      "/item/%E7%99%BE%E5%BA%A6%E7%99%BE%E7%A7%91%E5%8D%81%E5%A4%A7%E7%83%AD%E8%AF%8D%E2%80%94%E2%80%942020%C2%B72/24467719\n",
      "百度百科——全球最大中文百科全书\n",
      "页面缺少一些属性！不过不用担心！\n",
      "------------------------------------------------\n",
      "/item/%E7%99%BE%E5%BA%A6%E7%99%BE%E7%A7%91%E5%8D%81%E5%A4%A7%E7%83%AD%E8%AF%8D%E2%80%94%E2%80%942020%C2%B73/24703171\n",
      "百度百科——全球最大中文百科全书\n",
      "页面缺少一些属性！不过不用担心！\n",
      "------------------------------------------------\n",
      "/item/%E7%99%BE%E5%BA%A6%E7%99%BE%E7%A7%91%E5%8D%81%E5%A4%A7%E7%83%AD%E8%AF%8D%E2%80%94%E2%80%942020%C2%B74/49946926\n",
      "百度百科——全球最大中文百科全书\n",
      "页面缺少一些属性！不过不用担心！\n",
      "------------------------------------------------\n",
      "/item/%E7%99%BE%E5%BA%A6%E7%99%BE%E7%A7%91%E5%8D%81%E5%A4%A7%E7%83%AD%E8%AF%8D%E2%80%94%E2%80%942020%C2%B75/50146561\n",
      "百度百科——全球最大中文百科全书\n",
      "页面缺少一些属性！不过不用担心！\n",
      "------------------------------------------------\n",
      "/item/%E7%99%BE%E5%BA%A6%E7%99%BE%E7%A7%91%E5%8D%81%E5%A4%A7%E7%83%AD%E8%AF%8D%E2%80%94%E2%80%942020%C2%B76/50800059\n",
      "百度百科——全球最大中文百科全书\n",
      "页面缺少一些属性！不过不用担心！\n",
      "------------------------------------------------\n",
      "/item/%E7%99%BE%E5%BA%A6%E7%99%BE%E7%A7%91%E5%8D%81%E5%A4%A7%E7%83%AD%E8%AF%8D%E2%80%94%E2%80%942020%C2%B77/53037948\n",
      "百度百科——全球最大中文百科全书\n",
      "页面缺少一些属性！不过不用担心！\n",
      "------------------------------------------------\n",
      "/item/%E7%99%BE%E5%BA%A6%E7%99%BE%E7%A7%91%E5%8D%81%E5%A4%A7%E7%83%AD%E8%AF%8D%E2%80%94%E2%80%942020%C2%B78/53445798\n",
      "百度百科——全球最大中文百科全书\n",
      "页面缺少一些属性！不过不用担心！\n",
      "------------------------------------------------\n",
      "/item/%E7%99%BE%E5%BA%A6%E7%99%BE%E7%A7%91%E5%8D%81%E5%A4%A7%E7%83%AD%E8%AF%8D%E2%80%94%E2%80%942020%C2%B79/53915201\n",
      "百度百科——全球最大中文百科全书\n",
      "页面缺少一些属性！不过不用担心！\n",
      "------------------------------------------------\n",
      "/item/%E7%99%BE%E5%BA%A6%E7%99%BE%E7%A7%91%E5%8D%81%E5%A4%A7%E7%83%AD%E8%AF%8D%E2%80%94%E2%80%942020%C2%B710/54130422\n",
      "百度百科——全球最大中文百科全书\n",
      "页面缺少一些属性！不过不用担心！\n",
      "------------------------------------------------\n",
      "/item/%E7%99%BE%E5%BA%A6%E7%99%BE%E7%A7%91%E5%8D%81%E5%A4%A7%E7%83%AD%E8%AF%8D%E2%80%94%E2%80%942019%C2%B71/23268240\n",
      "百度百科——全球最大中文百科全书\n",
      "页面缺少一些属性！不过不用担心！\n",
      "------------------------------------------------\n",
      "/item/%E7%99%BE%E5%BA%A6%E7%99%BE%E7%A7%91%E5%8D%81%E5%A4%A7%E7%83%AD%E8%AF%8D%E2%80%94%E2%80%942019%C2%B72/23306945\n",
      "百度百科——全球最大中文百科全书\n",
      "页面缺少一些属性！不过不用担心！\n",
      "------------------------------------------------\n",
      "/item/%E7%99%BE%E5%BA%A6%E7%99%BE%E7%A7%91%E5%8D%81%E5%A4%A7%E7%83%AD%E8%AF%8D%E2%80%94%E2%80%942019%C2%B73/23374527\n",
      "百度百科——全球最大中文百科全书\n",
      "页面缺少一些属性！不过不用担心！\n",
      "------------------------------------------------\n",
      "/item/%E7%99%BE%E5%BA%A6%E7%99%BE%E7%A7%91%E5%8D%81%E5%A4%A7%E7%83%AD%E8%AF%8D%E2%80%94%E2%80%942019%C2%B74/23442818\n",
      "百度百科——全球最大中文百科全书\n",
      "页面缺少一些属性！不过不用担心！\n",
      "------------------------------------------------\n",
      "/item/%E7%99%BE%E5%BA%A6%E7%99%BE%E7%A7%91%E5%8D%81%E5%A4%A7%E7%83%AD%E8%AF%8D%E2%80%94%E2%80%942019%C2%B75/23515797\n",
      "百度百科——全球最大中文百科全书\n",
      "页面缺少一些属性！不过不用担心！\n",
      "------------------------------------------------\n",
      "/item/%E7%99%BE%E5%BA%A6%E7%99%BE%E7%A7%91%E5%8D%81%E5%A4%A7%E7%83%AD%E8%AF%8D%E2%80%94%E2%80%942019%C2%B76/23591148\n",
      "百度百科——全球最大中文百科全书\n",
      "页面缺少一些属性！不过不用担心！\n",
      "------------------------------------------------\n",
      "/item/%E7%99%BE%E5%BA%A6%E7%99%BE%E7%A7%91%E5%8D%81%E5%A4%A7%E7%83%AD%E8%AF%8D%E2%80%94%E2%80%942019%C2%B77/23642934\n",
      "百度百科——全球最大中文百科全书\n",
      "页面缺少一些属性！不过不用担心！\n",
      "------------------------------------------------\n",
      "/item/%E7%99%BE%E5%BA%A6%E7%99%BE%E7%A7%91%E5%8D%81%E5%A4%A7%E7%83%AD%E8%AF%8D%E2%80%94%E2%80%942019%C2%B78/23714726\n",
      "百度百科——全球最大中文百科全书\n",
      "页面缺少一些属性！不过不用担心！\n",
      "------------------------------------------------\n",
      "/item/%E7%99%BE%E5%BA%A6%E7%99%BE%E7%A7%91%E5%8D%81%E5%A4%A7%E7%83%AD%E8%AF%8D%E2%80%94%E2%80%942019%C2%B79/23777104\n",
      "百度百科——全球最大中文百科全书\n",
      "页面缺少一些属性！不过不用担心！\n",
      "------------------------------------------------\n",
      "/item/%E7%99%BE%E5%BA%A6%E7%99%BE%E7%A7%91%E5%8D%81%E5%A4%A7%E7%83%AD%E8%AF%8D%E2%80%94%E2%80%942019%C2%B710/24106375\n",
      "百度百科——全球最大中文百科全书\n",
      "页面缺少一些属性！不过不用担心！\n",
      "------------------------------------------------\n",
      "/item/%E7%99%BE%E5%BA%A6%E7%99%BE%E7%A7%91%E5%8D%81%E5%A4%A7%E7%83%AD%E8%AF%8D%E2%80%94%E2%80%942019%C2%B711/24170224\n",
      "百度百科——全球最大中文百科全书\n",
      "页面缺少一些属性！不过不用担心！\n",
      "------------------------------------------------\n",
      "/item/%E7%99%BE%E5%BA%A6%E7%99%BE%E7%A7%91%E5%8D%81%E5%A4%A7%E7%83%AD%E8%AF%8D%E2%80%94%E2%80%942019%C2%B712/24233893\n",
      "百度百科——全球最大中文百科全书\n",
      "页面缺少一些属性！不过不用担心！\n",
      "------------------------------------------------\n",
      "/item/%E7%99%BE%E5%BA%A6%E7%99%BE%E7%A7%91%E5%8D%81%E5%A4%A7%E7%83%AD%E8%AF%8D%E2%80%94%E2%80%942018%C2%B71/22358157\n",
      "百度百科——全球最大中文百科全书\n",
      "页面缺少一些属性！不过不用担心！\n",
      "------------------------------------------------\n",
      "/item/%E7%99%BE%E5%BA%A6%E7%99%BE%E7%A7%91%E5%8D%81%E5%A4%A7%E7%83%AD%E8%AF%8D%E2%80%94%E2%80%942018%C2%B72/22400701\n",
      "百度百科——全球最大中文百科全书\n",
      "页面缺少一些属性！不过不用担心！\n",
      "------------------------------------------------\n",
      "/item/%E7%99%BE%E5%BA%A6%E7%99%BE%E7%A7%91%E5%8D%81%E5%A4%A7%E7%83%AD%E8%AF%8D%E2%80%94%E2%80%942018%C2%B73/22456648\n",
      "百度百科——全球最大中文百科全书\n",
      "页面缺少一些属性！不过不用担心！\n",
      "------------------------------------------------\n",
      "/item/%E7%99%BE%E5%BA%A6%E7%99%BE%E7%A7%91%E5%8D%81%E5%A4%A7%E7%83%AD%E8%AF%8D%E2%80%94%E2%80%942018%C2%B74/22543954\n",
      "百度百科——全球最大中文百科全书\n",
      "页面缺少一些属性！不过不用担心！\n",
      "------------------------------------------------\n",
      "/item/%E7%99%BE%E5%BA%A6%E7%99%BE%E7%A7%91%E5%8D%81%E5%A4%A7%E7%83%AD%E8%AF%8D%E2%80%94%E2%80%942018%C2%B75/22612021\n",
      "百度百科——全球最大中文百科全书\n",
      "页面缺少一些属性！不过不用担心！\n",
      "------------------------------------------------\n",
      "/item/%E7%99%BE%E5%BA%A6%E7%99%BE%E7%A7%91%E5%8D%81%E5%A4%A7%E7%83%AD%E8%AF%8D%E2%80%94%E2%80%942018%C2%B76/22690431\n",
      "百度百科——全球最大中文百科全书\n",
      "页面缺少一些属性！不过不用担心！\n",
      "------------------------------------------------\n",
      "/item/%E7%99%BE%E5%BA%A6%E7%99%BE%E7%A7%91%E5%8D%81%E5%A4%A7%E7%83%AD%E8%AF%8D%E2%80%94%E2%80%942018%C2%B77/22775205\n",
      "百度百科——全球最大中文百科全书\n",
      "页面缺少一些属性！不过不用担心！\n",
      "------------------------------------------------\n",
      "/item/%E7%99%BE%E5%BA%A6%E7%99%BE%E7%A7%91%E5%8D%81%E5%A4%A7%E7%83%AD%E8%AF%8D%E2%80%94%E2%80%942018%C2%B78/22839614\n",
      "百度百科——全球最大中文百科全书\n",
      "页面缺少一些属性！不过不用担心！\n",
      "------------------------------------------------\n",
      "/item/%E7%99%BE%E5%BA%A6%E7%99%BE%E7%A7%91%E5%8D%81%E5%A4%A7%E7%83%AD%E8%AF%8D%E2%80%94%E2%80%942018%C2%B79/22891713\n",
      "百度百科——全球最大中文百科全书\n",
      "页面缺少一些属性！不过不用担心！\n",
      "------------------------------------------------\n",
      "/item/%E7%99%BE%E5%BA%A6%E7%99%BE%E7%A7%91%E5%8D%81%E5%A4%A7%E7%83%AD%E8%AF%8D%E2%80%94%E2%80%942018%C2%B710/22989229\n",
      "百度百科——全球最大中文百科全书\n",
      "页面缺少一些属性！不过不用担心！\n",
      "------------------------------------------------\n",
      "/item/%E7%99%BE%E5%BA%A6%E7%99%BE%E7%A7%91%E5%8D%81%E5%A4%A7%E7%83%AD%E8%AF%8D%E2%80%94%E2%80%942018%C2%B711/23178057\n",
      "百度百科——全球最大中文百科全书\n",
      "页面缺少一些属性！不过不用担心！\n",
      "------------------------------------------------\n",
      "/item/%E7%99%BE%E5%BA%A6%E7%99%BE%E7%A7%91%E5%8D%81%E5%A4%A7%E7%83%AD%E8%AF%8D%E2%80%94%E2%80%942018%C2%B712/23223682\n",
      "百度百科——全球最大中文百科全书\n",
      "页面缺少一些属性！不过不用担心！\n",
      "------------------------------------------------\n",
      "/item/%E7%99%BE%E5%BA%A6%E7%99%BE%E7%A7%91%E5%8D%81%E5%A4%A7%E7%83%AD%E8%AF%8D%E2%80%94%E2%80%942017%C2%B71/20402138\n",
      "百度百科——全球最大中文百科全书\n",
      "页面缺少一些属性！不过不用担心！\n",
      "------------------------------------------------\n",
      "/item/%E7%99%BE%E5%BA%A6%E7%99%BE%E7%A7%91%E5%8D%81%E5%A4%A7%E7%83%AD%E8%AF%8D%E2%80%94%E2%80%942017%C2%B72/20453428\n",
      "百度百科——全球最大中文百科全书\n",
      "页面缺少一些属性！不过不用担心！\n",
      "------------------------------------------------\n",
      "/item/%E7%99%BE%E5%BA%A6%E7%99%BE%E7%A7%91%E5%8D%81%E5%A4%A7%E7%83%AD%E8%AF%8D%E2%80%94%E2%80%942017%C2%B73/20585615\n",
      "百度百科——全球最大中文百科全书\n",
      "页面缺少一些属性！不过不用担心！\n",
      "------------------------------------------------\n",
      "/item/%E7%99%BE%E5%BA%A6%E7%99%BE%E7%A7%91%E5%8D%81%E5%A4%A7%E7%83%AD%E8%AF%8D%E2%80%94%E2%80%942017%C2%B74/20711874\n",
      "百度百科——全球最大中文百科全书\n",
      "页面缺少一些属性！不过不用担心！\n",
      "------------------------------------------------\n",
      "/item/%E7%99%BE%E5%BA%A6%E7%99%BE%E7%A7%91%E5%8D%81%E5%A4%A7%E7%83%AD%E8%AF%8D%E2%80%94%E2%80%942017%C2%B75/20822505\n",
      "百度百科——全球最大中文百科全书\n",
      "页面缺少一些属性！不过不用担心！\n",
      "------------------------------------------------\n",
      "/item/%E7%99%BE%E5%BA%A6%E7%99%BE%E7%A7%91%E5%8D%81%E5%A4%A7%E7%83%AD%E8%AF%8D%E2%80%94%E2%80%942017%C2%B76/21502310\n",
      "百度百科——全球最大中文百科全书\n",
      "页面缺少一些属性！不过不用担心！\n",
      "------------------------------------------------\n",
      "/item/%E7%99%BE%E5%BA%A6%E7%99%BE%E7%A7%91%E5%8D%81%E5%A4%A7%E7%83%AD%E8%AF%8D%E2%80%94%E2%80%942017%C2%B77/22041638\n",
      "百度百科——全球最大中文百科全书\n",
      "页面缺少一些属性！不过不用担心！\n",
      "------------------------------------------------\n",
      "/item/%E7%99%BE%E5%BA%A6%E7%99%BE%E7%A7%91%E5%8D%81%E5%A4%A7%E7%83%AD%E8%AF%8D%E2%80%94%E2%80%942017%C2%B78/22099010\n",
      "百度百科——全球最大中文百科全书\n",
      "页面缺少一些属性！不过不用担心！\n",
      "------------------------------------------------\n",
      "/item/%E7%99%BE%E5%BA%A6%E7%99%BE%E7%A7%91%E5%8D%81%E5%A4%A7%E7%83%AD%E8%AF%8D%E2%80%94%E2%80%942017%C2%B79/22142468\n",
      "百度百科——全球最大中文百科全书\n",
      "页面缺少一些属性！不过不用担心！\n",
      "------------------------------------------------\n",
      "/item/%E7%99%BE%E5%BA%A6%E7%99%BE%E7%A7%91%E5%8D%81%E5%A4%A7%E7%83%AD%E8%AF%8D%E2%80%94%E2%80%942017%C2%B710/22184607\n",
      "百度百科——全球最大中文百科全书\n",
      "页面缺少一些属性！不过不用担心！\n",
      "------------------------------------------------\n",
      "/item/%E7%99%BE%E5%BA%A6%E7%99%BE%E7%A7%91%E5%8D%81%E5%A4%A7%E7%83%AD%E8%AF%8D%E2%80%94%E2%80%942017%C2%B711/22228129\n",
      "百度百科——全球最大中文百科全书\n",
      "页面缺少一些属性！不过不用担心！\n",
      "------------------------------------------------\n",
      "/item/%E7%99%BE%E5%BA%A6%E7%99%BE%E7%A7%91%E5%8D%81%E5%A4%A7%E7%83%AD%E8%AF%8D%E2%80%94%E2%80%942017%C2%B712/22297130\n",
      "百度百科——全球最大中文百科全书\n",
      "页面缺少一些属性！不过不用担心！\n",
      "------------------------------------------------\n",
      "/item/%E5%8F%B2%E8%AE%B0%C2%B72016/20312114\n",
      "百度百科——全球最大中文百科全书\n",
      "页面缺少一些属性！不过不用担心！\n",
      "------------------------------------------------\n",
      "/item/%E7%99%BE%E5%BA%A6%E7%99%BE%E7%A7%91%E5%8D%81%E5%A4%A7%E7%83%AD%E8%AF%8D%E2%80%94%E2%80%942016%C2%B71/19328547\n",
      "百度百科——全球最大中文百科全书\n",
      "页面缺少一些属性！不过不用担心！\n",
      "------------------------------------------------\n",
      "/item/%E7%99%BE%E5%BA%A6%E7%99%BE%E7%A7%91%E5%8D%81%E5%A4%A7%E7%83%AD%E8%AF%8D%E2%80%94%E2%80%942016%C2%B72/19426770\n",
      "百度百科——全球最大中文百科全书\n",
      "页面缺少一些属性！不过不用担心！\n",
      "------------------------------------------------\n",
      "/item/%E7%99%BE%E5%BA%A6%E7%99%BE%E7%A7%91%E5%8D%81%E5%A4%A7%E7%83%AD%E8%AF%8D%E2%80%94%E2%80%942016%C2%B73/19489753\n",
      "百度百科——全球最大中文百科全书\n",
      "页面缺少一些属性！不过不用担心！\n",
      "------------------------------------------------\n",
      "/item/%E7%99%BE%E5%BA%A6%E7%99%BE%E7%A7%91%E5%8D%81%E5%A4%A7%E7%83%AD%E8%AF%8D%E2%80%94%E2%80%942016%C2%B74/19627991\n",
      "百度百科——全球最大中文百科全书\n",
      "页面缺少一些属性！不过不用担心！\n",
      "------------------------------------------------\n",
      "/item/%E7%99%BE%E5%BA%A6%E7%99%BE%E7%A7%91%E5%8D%81%E5%A4%A7%E7%83%AD%E8%AF%8D%E2%80%94%E2%80%942016%C2%B75/19703065\n",
      "百度百科——全球最大中文百科全书\n",
      "页面缺少一些属性！不过不用担心！\n",
      "------------------------------------------------\n",
      "/item/%E7%99%BE%E5%BA%A6%E7%99%BE%E7%A7%91%E5%8D%81%E5%A4%A7%E7%83%AD%E8%AF%8D%E2%80%94%E2%80%942016%C2%B76/19774858\n",
      "百度百科——全球最大中文百科全书\n",
      "页面缺少一些属性！不过不用担心！\n",
      "------------------------------------------------\n",
      "/item/%E7%99%BE%E5%BA%A6%E7%99%BE%E7%A7%91%E5%8D%81%E5%A4%A7%E7%83%AD%E8%AF%8D%E2%80%94%E2%80%942016%C2%B77/19858950\n",
      "百度百科——全球最大中文百科全书\n",
      "页面缺少一些属性！不过不用担心！\n",
      "------------------------------------------------\n",
      "/item/%E7%99%BE%E5%BA%A6%E7%99%BE%E7%A7%91%E5%8D%81%E5%A4%A7%E7%83%AD%E8%AF%8D%E2%80%94%E2%80%942016%C2%B78/19923426\n",
      "百度百科——全球最大中文百科全书\n",
      "页面缺少一些属性！不过不用担心！\n",
      "------------------------------------------------\n",
      "/item/%E7%99%BE%E5%BA%A6%E7%99%BE%E7%A7%91%E5%8D%81%E5%A4%A7%E7%83%AD%E8%AF%8D%E2%80%94%E2%80%942016%C2%B79/20107675\n",
      "百度百科——全球最大中文百科全书\n",
      "页面缺少一些属性！不过不用担心！\n",
      "------------------------------------------------\n",
      "/item/%E7%99%BE%E5%BA%A6%E7%99%BE%E7%A7%91%E5%8D%81%E5%A4%A7%E7%83%AD%E8%AF%8D%E2%80%94%E2%80%942016%C2%B710/20166139\n",
      "百度百科——全球最大中文百科全书\n",
      "页面缺少一些属性！不过不用担心！\n",
      "------------------------------------------------\n",
      "/item/%E7%99%BE%E5%BA%A6%E7%99%BE%E7%A7%91%E5%8D%81%E5%A4%A7%E7%83%AD%E8%AF%8D%E2%80%94%E2%80%942016%C2%B711/20236599\n",
      "百度百科——全球最大中文百科全书\n",
      "页面缺少一些属性！不过不用担心！\n",
      "------------------------------------------------\n",
      "/item/%E7%99%BE%E5%BA%A6%E7%99%BE%E7%A7%91%E5%8D%81%E5%A4%A7%E7%83%AD%E8%AF%8D%E2%80%94%E2%80%942016%C2%B712/20318624\n",
      "百度百科——全球最大中文百科全书\n",
      "页面缺少一些属性！不过不用担心！\n",
      "------------------------------------------------\n",
      "/item/%E5%8F%B2%E8%AE%B0%C2%B72015/16634818\n"
     ]
    }
   ],
   "source": [
    "pages=set()\n",
    "def getLinks(pageUrl):\n",
    "    global pages\n",
    "    html=urlopen(\"https://baike.baidu.com\"+pageUrl)\n",
    "    bsObj=BeautifulSoup(html)\n",
    "    try:\n",
    "        print(bsObj.title.get_text())\n",
    "#         print(bsObj.find('meta',{'name':'description'}).attrs['content'])\n",
    "        print(bsObj.find('meta',{'name':'description'}).attrs['content'])\n",
    "    except AttributeError:\n",
    "        print('页面缺少一些属性！不过不用担心！')\n",
    "    for link in bsObj.findAll('a',href=re.compile(\"^(/item/)\")):\n",
    "        if 'href' in link.attrs:\n",
    "            if link.attrs['href'] not in pages:\n",
    "                newPage=link.attrs['href']\n",
    "                print('------------------------------------------------\\n'+newPage)\n",
    "                pages.add(newPage)\n",
    "                getLinks(quote(newPage))\n",
    "getLinks('')"
   ]
  },
  {
   "cell_type": "code",
   "execution_count": 15,
   "metadata": {
    "collapsed": true,
    "jupyter": {
     "outputs_hidden": true
    }
   },
   "outputs": [
    {
     "name": "stdout",
     "output_type": "stream",
     "text": [
      "Random external link is:http://help.baidu.com/newadd?prod_id=10&category=5\n",
      "Random external link is:https://passport.baidu.com/export/app/index.html\n",
      "Random external link is:https://itunes.apple.com/cn/app/bai-du-quan-zhong-xin-shou/id695439229\n",
      "Random external link is:https://www.apple.com.cn/ipad/\n",
      "Random external link is:https://locate.apple.com/cn/zh/\n",
      "No external links,looking around the site for one\n"
     ]
    },
    {
     "ename": "ValueError",
     "evalue": "empty range for randrange() (0, 0, 0)",
     "output_type": "error",
     "traceback": [
      "\u001b[1;31m---------------------------------------------------------------------------\u001b[0m",
      "\u001b[1;31mValueError\u001b[0m                                Traceback (most recent call last)",
      "\u001b[1;32m<ipython-input-15-311ead4e2009>\u001b[0m in \u001b[0;36m<module>\u001b[1;34m\u001b[0m\n\u001b[0;32m     41\u001b[0m     \u001b[0mfollowExternalOnly\u001b[0m\u001b[1;33m(\u001b[0m\u001b[0mexternaLink\u001b[0m\u001b[1;33m)\u001b[0m\u001b[1;33m\u001b[0m\u001b[1;33m\u001b[0m\u001b[0m\n\u001b[0;32m     42\u001b[0m \u001b[1;33m\u001b[0m\u001b[0m\n\u001b[1;32m---> 43\u001b[1;33m \u001b[0mfollowExternalOnly\u001b[0m\u001b[1;33m(\u001b[0m\u001b[1;34m\"https://baike.baidu.com/\"\u001b[0m\u001b[1;33m)\u001b[0m\u001b[1;33m\u001b[0m\u001b[1;33m\u001b[0m\u001b[0m\n\u001b[0m",
      "\u001b[1;32m<ipython-input-15-311ead4e2009>\u001b[0m in \u001b[0;36mfollowExternalOnly\u001b[1;34m(startingSite)\u001b[0m\n\u001b[0;32m     39\u001b[0m     \u001b[0mexternaLink\u001b[0m\u001b[1;33m=\u001b[0m\u001b[0mgetRandomExternalLink\u001b[0m\u001b[1;33m(\u001b[0m\u001b[0mstartingSite\u001b[0m\u001b[1;33m)\u001b[0m\u001b[1;33m\u001b[0m\u001b[1;33m\u001b[0m\u001b[0m\n\u001b[0;32m     40\u001b[0m     \u001b[0mprint\u001b[0m\u001b[1;33m(\u001b[0m\u001b[1;34m'Random external link is:'\u001b[0m\u001b[1;33m+\u001b[0m\u001b[0mexternaLink\u001b[0m\u001b[1;33m)\u001b[0m\u001b[1;33m\u001b[0m\u001b[1;33m\u001b[0m\u001b[0m\n\u001b[1;32m---> 41\u001b[1;33m     \u001b[0mfollowExternalOnly\u001b[0m\u001b[1;33m(\u001b[0m\u001b[0mexternaLink\u001b[0m\u001b[1;33m)\u001b[0m\u001b[1;33m\u001b[0m\u001b[1;33m\u001b[0m\u001b[0m\n\u001b[0m\u001b[0;32m     42\u001b[0m \u001b[1;33m\u001b[0m\u001b[0m\n\u001b[0;32m     43\u001b[0m \u001b[0mfollowExternalOnly\u001b[0m\u001b[1;33m(\u001b[0m\u001b[1;34m\"https://baike.baidu.com/\"\u001b[0m\u001b[1;33m)\u001b[0m\u001b[1;33m\u001b[0m\u001b[1;33m\u001b[0m\u001b[0m\n",
      "\u001b[1;32m<ipython-input-15-311ead4e2009>\u001b[0m in \u001b[0;36mfollowExternalOnly\u001b[1;34m(startingSite)\u001b[0m\n\u001b[0;32m     39\u001b[0m     \u001b[0mexternaLink\u001b[0m\u001b[1;33m=\u001b[0m\u001b[0mgetRandomExternalLink\u001b[0m\u001b[1;33m(\u001b[0m\u001b[0mstartingSite\u001b[0m\u001b[1;33m)\u001b[0m\u001b[1;33m\u001b[0m\u001b[1;33m\u001b[0m\u001b[0m\n\u001b[0;32m     40\u001b[0m     \u001b[0mprint\u001b[0m\u001b[1;33m(\u001b[0m\u001b[1;34m'Random external link is:'\u001b[0m\u001b[1;33m+\u001b[0m\u001b[0mexternaLink\u001b[0m\u001b[1;33m)\u001b[0m\u001b[1;33m\u001b[0m\u001b[1;33m\u001b[0m\u001b[0m\n\u001b[1;32m---> 41\u001b[1;33m     \u001b[0mfollowExternalOnly\u001b[0m\u001b[1;33m(\u001b[0m\u001b[0mexternaLink\u001b[0m\u001b[1;33m)\u001b[0m\u001b[1;33m\u001b[0m\u001b[1;33m\u001b[0m\u001b[0m\n\u001b[0m\u001b[0;32m     42\u001b[0m \u001b[1;33m\u001b[0m\u001b[0m\n\u001b[0;32m     43\u001b[0m \u001b[0mfollowExternalOnly\u001b[0m\u001b[1;33m(\u001b[0m\u001b[1;34m\"https://baike.baidu.com/\"\u001b[0m\u001b[1;33m)\u001b[0m\u001b[1;33m\u001b[0m\u001b[1;33m\u001b[0m\u001b[0m\n",
      "\u001b[1;32m<ipython-input-15-311ead4e2009>\u001b[0m in \u001b[0;36mfollowExternalOnly\u001b[1;34m(startingSite)\u001b[0m\n\u001b[0;32m     39\u001b[0m     \u001b[0mexternaLink\u001b[0m\u001b[1;33m=\u001b[0m\u001b[0mgetRandomExternalLink\u001b[0m\u001b[1;33m(\u001b[0m\u001b[0mstartingSite\u001b[0m\u001b[1;33m)\u001b[0m\u001b[1;33m\u001b[0m\u001b[1;33m\u001b[0m\u001b[0m\n\u001b[0;32m     40\u001b[0m     \u001b[0mprint\u001b[0m\u001b[1;33m(\u001b[0m\u001b[1;34m'Random external link is:'\u001b[0m\u001b[1;33m+\u001b[0m\u001b[0mexternaLink\u001b[0m\u001b[1;33m)\u001b[0m\u001b[1;33m\u001b[0m\u001b[1;33m\u001b[0m\u001b[0m\n\u001b[1;32m---> 41\u001b[1;33m     \u001b[0mfollowExternalOnly\u001b[0m\u001b[1;33m(\u001b[0m\u001b[0mexternaLink\u001b[0m\u001b[1;33m)\u001b[0m\u001b[1;33m\u001b[0m\u001b[1;33m\u001b[0m\u001b[0m\n\u001b[0m\u001b[0;32m     42\u001b[0m \u001b[1;33m\u001b[0m\u001b[0m\n\u001b[0;32m     43\u001b[0m \u001b[0mfollowExternalOnly\u001b[0m\u001b[1;33m(\u001b[0m\u001b[1;34m\"https://baike.baidu.com/\"\u001b[0m\u001b[1;33m)\u001b[0m\u001b[1;33m\u001b[0m\u001b[1;33m\u001b[0m\u001b[0m\n",
      "\u001b[1;32m<ipython-input-15-311ead4e2009>\u001b[0m in \u001b[0;36mfollowExternalOnly\u001b[1;34m(startingSite)\u001b[0m\n\u001b[0;32m     39\u001b[0m     \u001b[0mexternaLink\u001b[0m\u001b[1;33m=\u001b[0m\u001b[0mgetRandomExternalLink\u001b[0m\u001b[1;33m(\u001b[0m\u001b[0mstartingSite\u001b[0m\u001b[1;33m)\u001b[0m\u001b[1;33m\u001b[0m\u001b[1;33m\u001b[0m\u001b[0m\n\u001b[0;32m     40\u001b[0m     \u001b[0mprint\u001b[0m\u001b[1;33m(\u001b[0m\u001b[1;34m'Random external link is:'\u001b[0m\u001b[1;33m+\u001b[0m\u001b[0mexternaLink\u001b[0m\u001b[1;33m)\u001b[0m\u001b[1;33m\u001b[0m\u001b[1;33m\u001b[0m\u001b[0m\n\u001b[1;32m---> 41\u001b[1;33m     \u001b[0mfollowExternalOnly\u001b[0m\u001b[1;33m(\u001b[0m\u001b[0mexternaLink\u001b[0m\u001b[1;33m)\u001b[0m\u001b[1;33m\u001b[0m\u001b[1;33m\u001b[0m\u001b[0m\n\u001b[0m\u001b[0;32m     42\u001b[0m \u001b[1;33m\u001b[0m\u001b[0m\n\u001b[0;32m     43\u001b[0m \u001b[0mfollowExternalOnly\u001b[0m\u001b[1;33m(\u001b[0m\u001b[1;34m\"https://baike.baidu.com/\"\u001b[0m\u001b[1;33m)\u001b[0m\u001b[1;33m\u001b[0m\u001b[1;33m\u001b[0m\u001b[0m\n",
      "\u001b[1;32m<ipython-input-15-311ead4e2009>\u001b[0m in \u001b[0;36mfollowExternalOnly\u001b[1;34m(startingSite)\u001b[0m\n\u001b[0;32m     39\u001b[0m     \u001b[0mexternaLink\u001b[0m\u001b[1;33m=\u001b[0m\u001b[0mgetRandomExternalLink\u001b[0m\u001b[1;33m(\u001b[0m\u001b[0mstartingSite\u001b[0m\u001b[1;33m)\u001b[0m\u001b[1;33m\u001b[0m\u001b[1;33m\u001b[0m\u001b[0m\n\u001b[0;32m     40\u001b[0m     \u001b[0mprint\u001b[0m\u001b[1;33m(\u001b[0m\u001b[1;34m'Random external link is:'\u001b[0m\u001b[1;33m+\u001b[0m\u001b[0mexternaLink\u001b[0m\u001b[1;33m)\u001b[0m\u001b[1;33m\u001b[0m\u001b[1;33m\u001b[0m\u001b[0m\n\u001b[1;32m---> 41\u001b[1;33m     \u001b[0mfollowExternalOnly\u001b[0m\u001b[1;33m(\u001b[0m\u001b[0mexternaLink\u001b[0m\u001b[1;33m)\u001b[0m\u001b[1;33m\u001b[0m\u001b[1;33m\u001b[0m\u001b[0m\n\u001b[0m\u001b[0;32m     42\u001b[0m \u001b[1;33m\u001b[0m\u001b[0m\n\u001b[0;32m     43\u001b[0m \u001b[0mfollowExternalOnly\u001b[0m\u001b[1;33m(\u001b[0m\u001b[1;34m\"https://baike.baidu.com/\"\u001b[0m\u001b[1;33m)\u001b[0m\u001b[1;33m\u001b[0m\u001b[1;33m\u001b[0m\u001b[0m\n",
      "\u001b[1;32m<ipython-input-15-311ead4e2009>\u001b[0m in \u001b[0;36mfollowExternalOnly\u001b[1;34m(startingSite)\u001b[0m\n\u001b[0;32m     37\u001b[0m \u001b[1;33m\u001b[0m\u001b[0m\n\u001b[0;32m     38\u001b[0m \u001b[1;32mdef\u001b[0m \u001b[0mfollowExternalOnly\u001b[0m\u001b[1;33m(\u001b[0m\u001b[0mstartingSite\u001b[0m\u001b[1;33m)\u001b[0m\u001b[1;33m:\u001b[0m\u001b[1;33m\u001b[0m\u001b[1;33m\u001b[0m\u001b[0m\n\u001b[1;32m---> 39\u001b[1;33m     \u001b[0mexternaLink\u001b[0m\u001b[1;33m=\u001b[0m\u001b[0mgetRandomExternalLink\u001b[0m\u001b[1;33m(\u001b[0m\u001b[0mstartingSite\u001b[0m\u001b[1;33m)\u001b[0m\u001b[1;33m\u001b[0m\u001b[1;33m\u001b[0m\u001b[0m\n\u001b[0m\u001b[0;32m     40\u001b[0m     \u001b[0mprint\u001b[0m\u001b[1;33m(\u001b[0m\u001b[1;34m'Random external link is:'\u001b[0m\u001b[1;33m+\u001b[0m\u001b[0mexternaLink\u001b[0m\u001b[1;33m)\u001b[0m\u001b[1;33m\u001b[0m\u001b[1;33m\u001b[0m\u001b[0m\n\u001b[0;32m     41\u001b[0m     \u001b[0mfollowExternalOnly\u001b[0m\u001b[1;33m(\u001b[0m\u001b[0mexternaLink\u001b[0m\u001b[1;33m)\u001b[0m\u001b[1;33m\u001b[0m\u001b[1;33m\u001b[0m\u001b[0m\n",
      "\u001b[1;32m<ipython-input-15-311ead4e2009>\u001b[0m in \u001b[0;36mgetRandomExternalLink\u001b[1;34m(startingPage)\u001b[0m\n\u001b[0;32m     32\u001b[0m         \u001b[0mdomain\u001b[0m\u001b[1;33m=\u001b[0m\u001b[0murlparse\u001b[0m\u001b[1;33m(\u001b[0m\u001b[0mstartingPage\u001b[0m\u001b[1;33m)\u001b[0m\u001b[1;33m.\u001b[0m\u001b[0mscheme\u001b[0m\u001b[1;33m+\u001b[0m\u001b[1;34m'://'\u001b[0m\u001b[1;33m+\u001b[0m\u001b[0murlparse\u001b[0m\u001b[1;33m(\u001b[0m\u001b[0mstartingPage\u001b[0m\u001b[1;33m)\u001b[0m\u001b[1;33m.\u001b[0m\u001b[0mnetloc\u001b[0m\u001b[1;33m\u001b[0m\u001b[1;33m\u001b[0m\u001b[0m\n\u001b[0;32m     33\u001b[0m         \u001b[0minternalLinks\u001b[0m\u001b[1;33m=\u001b[0m\u001b[0mgetInternalLinks\u001b[0m\u001b[1;33m(\u001b[0m\u001b[0mbsObj\u001b[0m\u001b[1;33m,\u001b[0m\u001b[0mdomain\u001b[0m\u001b[1;33m)\u001b[0m\u001b[1;33m\u001b[0m\u001b[1;33m\u001b[0m\u001b[0m\n\u001b[1;32m---> 34\u001b[1;33m         \u001b[1;32mreturn\u001b[0m \u001b[0mgetRandomExternalLink\u001b[0m\u001b[1;33m(\u001b[0m\u001b[0minternalLinks\u001b[0m\u001b[1;33m[\u001b[0m\u001b[0mrandom\u001b[0m\u001b[1;33m.\u001b[0m\u001b[0mrandint\u001b[0m\u001b[1;33m(\u001b[0m\u001b[1;36m0\u001b[0m\u001b[1;33m,\u001b[0m\u001b[0mlen\u001b[0m\u001b[1;33m(\u001b[0m\u001b[0minternalLinks\u001b[0m\u001b[1;33m)\u001b[0m\u001b[1;33m-\u001b[0m\u001b[1;36m1\u001b[0m\u001b[1;33m)\u001b[0m\u001b[1;33m]\u001b[0m\u001b[1;33m)\u001b[0m\u001b[1;33m\u001b[0m\u001b[1;33m\u001b[0m\u001b[0m\n\u001b[0m\u001b[0;32m     35\u001b[0m     \u001b[1;32melse\u001b[0m\u001b[1;33m:\u001b[0m\u001b[1;33m\u001b[0m\u001b[1;33m\u001b[0m\u001b[0m\n\u001b[0;32m     36\u001b[0m         \u001b[1;32mreturn\u001b[0m \u001b[0mexternalLinks\u001b[0m\u001b[1;33m[\u001b[0m\u001b[0mrandom\u001b[0m\u001b[1;33m.\u001b[0m\u001b[0mrandint\u001b[0m\u001b[1;33m(\u001b[0m\u001b[1;36m0\u001b[0m\u001b[1;33m,\u001b[0m\u001b[0mlen\u001b[0m\u001b[1;33m(\u001b[0m\u001b[0mexternalLinks\u001b[0m\u001b[1;33m)\u001b[0m\u001b[1;33m-\u001b[0m\u001b[1;36m1\u001b[0m\u001b[1;33m)\u001b[0m\u001b[1;33m]\u001b[0m\u001b[1;33m\u001b[0m\u001b[1;33m\u001b[0m\u001b[0m\n",
      "\u001b[1;32me:\\python3.9\\lib\\random.py\u001b[0m in \u001b[0;36mrandint\u001b[1;34m(self, a, b)\u001b[0m\n\u001b[0;32m    336\u001b[0m         \"\"\"\n\u001b[0;32m    337\u001b[0m \u001b[1;33m\u001b[0m\u001b[0m\n\u001b[1;32m--> 338\u001b[1;33m         \u001b[1;32mreturn\u001b[0m \u001b[0mself\u001b[0m\u001b[1;33m.\u001b[0m\u001b[0mrandrange\u001b[0m\u001b[1;33m(\u001b[0m\u001b[0ma\u001b[0m\u001b[1;33m,\u001b[0m \u001b[0mb\u001b[0m\u001b[1;33m+\u001b[0m\u001b[1;36m1\u001b[0m\u001b[1;33m)\u001b[0m\u001b[1;33m\u001b[0m\u001b[1;33m\u001b[0m\u001b[0m\n\u001b[0m\u001b[0;32m    339\u001b[0m \u001b[1;33m\u001b[0m\u001b[0m\n\u001b[0;32m    340\u001b[0m \u001b[1;33m\u001b[0m\u001b[0m\n",
      "\u001b[1;32me:\\python3.9\\lib\\random.py\u001b[0m in \u001b[0;36mrandrange\u001b[1;34m(self, start, stop, step)\u001b[0m\n\u001b[0;32m    314\u001b[0m             \u001b[1;32mreturn\u001b[0m \u001b[0mistart\u001b[0m \u001b[1;33m+\u001b[0m \u001b[0mself\u001b[0m\u001b[1;33m.\u001b[0m\u001b[0m_randbelow\u001b[0m\u001b[1;33m(\u001b[0m\u001b[0mwidth\u001b[0m\u001b[1;33m)\u001b[0m\u001b[1;33m\u001b[0m\u001b[1;33m\u001b[0m\u001b[0m\n\u001b[0;32m    315\u001b[0m         \u001b[1;32mif\u001b[0m \u001b[0mstep\u001b[0m \u001b[1;33m==\u001b[0m \u001b[1;36m1\u001b[0m\u001b[1;33m:\u001b[0m\u001b[1;33m\u001b[0m\u001b[1;33m\u001b[0m\u001b[0m\n\u001b[1;32m--> 316\u001b[1;33m             \u001b[1;32mraise\u001b[0m \u001b[0mValueError\u001b[0m\u001b[1;33m(\u001b[0m\u001b[1;34m\"empty range for randrange() (%d, %d, %d)\"\u001b[0m \u001b[1;33m%\u001b[0m \u001b[1;33m(\u001b[0m\u001b[0mistart\u001b[0m\u001b[1;33m,\u001b[0m \u001b[0mistop\u001b[0m\u001b[1;33m,\u001b[0m \u001b[0mwidth\u001b[0m\u001b[1;33m)\u001b[0m\u001b[1;33m)\u001b[0m\u001b[1;33m\u001b[0m\u001b[1;33m\u001b[0m\u001b[0m\n\u001b[0m\u001b[0;32m    317\u001b[0m \u001b[1;33m\u001b[0m\u001b[0m\n\u001b[0;32m    318\u001b[0m         \u001b[1;31m# Non-unit step argument supplied.\u001b[0m\u001b[1;33m\u001b[0m\u001b[1;33m\u001b[0m\u001b[1;33m\u001b[0m\u001b[0m\n",
      "\u001b[1;31mValueError\u001b[0m: empty range for randrange() (0, 0, 0)"
     ]
    }
   ],
   "source": [
    "#通过互联网采集\n",
    "pages=set()\n",
    "#获取页面所有内链的列表\n",
    "def getInternalLinks(bsObj,includeUrl):\n",
    "    includeUrl=urlparse(includeUrl).scheme+'://'+urlparse(includeUrl).netloc\n",
    "    internalLinks=[]\n",
    "    #找出所有以“/”开头的链接\n",
    "    for link in bsObj.findAll('a',href=re.compile(\"^(/|.*\"+includeUrl+\")\")):\n",
    "        if link.attrs['href'] is not None:\n",
    "            if link.attrs['href'] not in internalLinks:\n",
    "                if (link.attrs['href'].startswith('/')):\n",
    "                    internalLinks.append(includeUrl+link.attrs['href'])\n",
    "                else:\n",
    "                    internalLinks.append(link.attrs['href'])\n",
    "    return internalLinks\n",
    "\n",
    "#获取页面所有外链的列表\n",
    "def getExternalLinks(bsObj,excludeUrl):\n",
    "    externalLinks=[]\n",
    "    #找出所有以“http”或“www”开头且不含当前URL的链接\n",
    "    for link in bsObj.findAll('a',href=re.compile(\"^(http|www)((?!\"+excludeUrl+\").)*$\")):\n",
    "        if link.attrs['href'] is not None:\n",
    "            if link.attrs['href'] not in externalLinks:\n",
    "                externalLinks.append(link.attrs['href'])\n",
    "    return externalLinks\n",
    "\n",
    "def getRandomExternalLink(startingPage):\n",
    "    html=urlopen(startingPage)\n",
    "    bsObj=BeautifulSoup(html)\n",
    "    externalLinks=getExternalLinks(bsObj,urlparse(startingPage).netloc)\n",
    "    if len(externalLinks)==0:\n",
    "        print('No external links,looking around the site for one')\n",
    "        domain=urlparse(startingPage).scheme+'://'+urlparse(startingPage).netloc\n",
    "        internalLinks=getInternalLinks(bsObj,domain)\n",
    "        return getRandomExternalLink(internalLinks[random.randint(0,len(internalLinks)-1)])\n",
    "    else:\n",
    "        return externalLinks[random.randint(0,len(externalLinks)-1)]\n",
    "\n",
    "def followExternalOnly(startingSite):\n",
    "    externaLink=getRandomExternalLink(startingSite)\n",
    "    print('Random external link is:'+externaLink)\n",
    "    followExternalOnly(externaLink)\n",
    "\n",
    "followExternalOnly(\"https://baike.baidu.com/\")"
   ]
  },
  {
   "cell_type": "code",
   "execution_count": 17,
   "metadata": {
    "collapsed": true,
    "jupyter": {
     "outputs_hidden": true
    }
   },
   "outputs": [
    {
     "name": "stdout",
     "output_type": "stream",
     "text": [
      "http://www.baidu.com/\n",
      "https://www.baidu.com/\n",
      "http://news.baidu.com/\n",
      "https://tieba.baidu.com/\n",
      "https://zhidao.baidu.com/\n",
      "http://music.baidu.com/\n",
      "http://image.baidu.com/\n",
      "http://v.baidu.com/\n",
      "http://map.baidu.com/\n",
      "https://wenku.baidu.com/\n",
      "https://child.baidu.com/\n",
      "https://baike.baidu.com/talent/home/index\n",
      "https://baike.baidu.com/item/%E6%A4%8D%E5%8F%91#hotspotmining\n",
      "https://baike.baidu.com/item/%E7%83%9F%E8%96%AF25#hotspotmining\n",
      "https://baike.baidu.com/item/%E6%80%A7%E6%95%99%E8%82%B2/214274#hotspotmining\n",
      "https://baike.baidu.com/item/%E5%90%B8%E7%AE%A1/1343710#hotspotmining\n",
      "https://baike.baidu.com/item/%E9%99%A8%E7%9F%B3/181990#hotspotmining\n",
      "https://baike.baidu.com/item/%E6%9C%9B%E6%B1%9F%E5%8D%97/8254489#hotspotmining\n",
      "https://baike.baidu.com/item/%E8%B5%B5%E6%98%9A#hotspotmining\n",
      "https://baike.baidu.com/item/%E8%A3%B8%E7%9C%BC3D#hotspotmining\n",
      "https://baike.baidu.com/item/%E6%96%AD%E8%88%8D%E7%A6%BB/18860382#hotspotmining\n",
      "http://service.weibo.com/share/share.php?url=http://www.iqiyi.com/w_19rso1lcnp.html&title=杂乱无章，所以记录；浩如烟海，所以传承；意义非凡，所以坚持；她是一本“书”、一段历程、一个生命...百度百科品牌视频带你见证百科背后的故事→http://baike.baidu.com&searchPic=false&pic=http://baike.baidu.com/cms/rc/shipinshipin.jpg&ralateUid=1647247597\n",
      "https://baike.baidu.com/item/%E6%B5%A6%E4%B8%9C%E5%BC%80%E5%8F%91%E5%BC%80%E6%94%BE30%E5%91%A8%E5%B9%B4%E5%BA%86%E7%A5%9D%E5%A4%A7%E4%BC%9A/54374000#hotspotmining\n",
      "https://baike.baidu.com/item/%E5%A4%A9%E9%80%9A%E4%B8%80%E5%8F%B702%E6%98%9F#hotspotmining\n",
      "https://baike.baidu.com/item/%E6%B1%9F%E8%8B%8F%E8%8B%8F%E5%AE%81%E8%B6%B3%E7%90%83%E4%BF%B1%E4%B9%90%E9%83%A8#hotspotmining\n",
      "https://baike.baidu.com/item/2020%20VA1#hotspotmining\n",
      "https://baike.baidu.com/item/%E8%BE%9B%E4%BA%A5%E9%9D%A9%E5%91%BD/5560#hotspotmining\n",
      "https://baike.baidu.com/item/5G%E5%9F%BA%E7%AB%99#hotspotmining\n",
      "https://baike.baidu.com/item/%E8%96%9B%E6%8D%8D%E5%8B%A4#hotspotmining\n",
      "https://baike.baidu.com/item/%E7%BD%97%E5%BC%80%E7%91%9A#hotspotmining\n",
      "https://baike.baidu.com/item/%E4%B8%AD%E5%8D%8E%E4%BA%BA%E6%B0%91%E5%85%B1%E5%92%8C%E5%9B%BD%E9%80%80%E5%BD%B9%E5%86%9B%E4%BA%BA%E4%BF%9D%E9%9A%9C%E6%B3%95#hotspotmining\n",
      "https://baike.baidu.com/item/2020%E5%8F%8C%E5%8D%81%E4%B8%80%E8%B4%AD%E7%89%A9%E7%8B%82%E6%AC%A2%E8%8A%82#hotspotmining\n",
      "https://baike.baidu.com/item/%E7%AC%AC%E4%BA%8C%E5%8D%81%E4%BA%8C%E5%B1%8A%E4%B8%AD%E5%9B%BD%E5%9B%BD%E9%99%85%E9%AB%98%E6%96%B0%E6%8A%80%E6%9C%AF%E6%88%90%E6%9E%9C%E4%BA%A4%E6%98%93%E4%BC%9A/54334330#hotspotmining\n",
      "https://baike.baidu.com/item/%E5%85%B3%E5%B1%B1/3593330#hotspotmining\n",
      "https://baike.baidu.com/item/%E5%8F%B0%E9%A3%8E%E7%8E%AF%E9%AB%98/54284335#hotspotmining\n",
      "https://baike.baidu.com/item/%E7%86%94%E6%96%AD%E6%8C%87%E4%BB%A4/50647744#hotspotmining\n",
      "https://baike.baidu.com/item/%E4%BD%9C%E4%B8%9A/17331007#hotspotmining\n",
      "https://baike.baidu.com/tashuo/browse/content?id=aeb9b7bbde4b587b3a272027\n",
      "https://baike.baidu.com/item/%E6%89%93%E5%B7%A5%E4%BA%BA/54050409\n",
      "https://baike.baidu.com/item/%E4%BA%BA%E6%A0%BC%E7%89%B9%E8%B4%A8/4026202\n",
      "https://baike.baidu.com/tashuo/browse/content?id=2cbe27efa069d535757d4d24\n",
      "https://baike.baidu.com/item/%E5%AF%BB%E6%B0%8F%E8%82%8C%E8%9B%A4\n",
      "https://baike.baidu.com/item/%E8%9B%A4%E8%9C%8A/1162477\n",
      "https://baike.baidu.com/wapui/subpage/knowledgetopic?id=061aa7ee66b1bbb08a38b052&force=1\n",
      "https://baike.baidu.com/science\n",
      "https://baike.baidu.com/feiyi\n",
      "https://baike.baidu.com/museum/dbsfdxdbmzms\n",
      "https://baike.baidu.com/item/%E7%A7%92%E6%87%82%E6%98%9F%E8%AF%BE%E5%A0%82?fr=home\n",
      "https://baike.baidu.com/art\n",
      "https://baike.baidu.com/tese\n",
      "https://baike.baidu.com/difangzhi/shaanxi\n",
      "https://baike.baidu.com/item/%E5%91%A8%E8%BF%85/10076\n",
      "https://baike.baidu.com/city\n",
      "http://zhiqiu.baidu.com/baike/passport/html/baikechat.html\n",
      "http://tieba.baidu.com/f?ie=utf-8&fr=bks0000&kw=%E7%99%BE%E5%BA%A6%E7%99%BE%E7%A7%91\n",
      "http://help.baidu.com/newadd?prod_id=10&category=1\n",
      "http://help.baidu.com/newadd?prod_id=10&category=2\n",
      "http://help.baidu.com/newadd?prod_id=10&category=6\n",
      "http://help.baidu.com/newadd?prod_id=10&category=5\n",
      "http://www.baidu.com/duty/\n",
      "http://help.baidu.com/question?prod_en=baike&class=89&id=1637\n",
      "http://help.baidu.com/question?prod_id=10&class=690&id=1001779\n",
      "http://www.beian.gov.cn/portal/registerSystemInfo?recordcode=11000002000001\n",
      "即将获取链接的URL是：https://www.baidu.com/\n",
      "即将获取链接的URL是：https://tieba.baidu.com/\n",
      "https://www.baidu.com/s?cl=3&\n",
      "http://news.baidu.com/ns?cl=2&rn=20&tn=news&\n",
      "http://zhidao.baidu.com/q?ct=17&pn=0&tn=ikaslist&rn=10&\n",
      "http://www.baidu.com/sf/vsearch?pd=video&tn=vsearch&ct=301989888&rn=20&pn=0&db=0&s=21&rsv_spt=11&\n",
      "http://music.baidu.com/search?fr=tieba&\n",
      "http://image.baidu.com/i?tn=baiduimage&ct=201326592&lm=-1&cl=2&ie=gbk&\n",
      "http://map.baidu.com/m?fr=map006&\n",
      "http://wenku.baidu.com/search?fr=tieba&lm=0&od=0&\n",
      "https://tieba.baidu.com/p/4092934309\n",
      "https://tieba.baidu.com/f?ie=utf-8&kw=%E8%B4%B4%E5%90%A7%E5%A8%B1%E4%B9%90\n",
      "https://tieba.baidu.com/p/3691190214\n",
      "https://tieba.baidu.com/f?fr=wwwt&kw=snh48\n",
      "https://tieba.baidu.com/p/4113418483\n",
      "https://tieba.baidu.com/p/4215275113\n",
      "https://tieba.baidu.com/p/3662205525\n",
      "https://tieba.baidu.com/f?kw=%E7%AB%9E%E6%8A%80%E6%B8%B8%E6%88%8F\n",
      "https://tieba.baidu.com/f?ie=utf-8&kw=%E4%B8%89%E5%9B%BD%E6%9D%80\n",
      "https://tieba.baidu.com/f?ie=utf-8&kw=csgo\n",
      "https://tieba.baidu.com/f?ie=utf-8&kw=%E8%8B%B1%E9%9B%84%E8%81%94%E7%9B%9F\n",
      "https://tieba.baidu.com/f?ie=utf-8&kw=dota2\n",
      "https://tieba.baidu.com/f?ie=utf-8&kw=%E7%8E%8B%E8%80%85%E8%8D%A3%E8%80%80\n",
      "https://tieba.baidu.com/f?ie=utf-8&kw=%E5%8D%95%E6%9C%BA%E6%B8%B8%E6%88%8F\n",
      "https://tieba.baidu.com/p/7066762691\n",
      "https://tieba.baidu.com/p/7067112074\n",
      "https://tieba.baidu.com/p/7063130114\n",
      "https://tieba.baidu.com/p/7070360841\n",
      "https://tieba.baidu.com/p/6579286525\n",
      "http://www.shdf.gov.cn/shdf/channels/740.html\n",
      "https://tieba.baidu.com/p/6772450658\n",
      "https://gsp0.baidu.com/5aAHeD3nKhI2p27j8IqW0jdnxx1xbK/tb/eula.html\n",
      "https://tieba.baidu.com/tb/cms/tieba-fe/tieba_promise.html\n",
      "http://net.china.cn/chinese/index.htm\n",
      "http://www.bj.cyberpolice.cn/index.htm\n",
      "即将获取链接的URL是：https://www.baidu.com/s?cl=3&\n",
      "即将获取链接的URL是：https:///\n"
     ]
    },
    {
     "ename": "URLError",
     "evalue": "<urlopen error no host given>",
     "output_type": "error",
     "traceback": [
      "\u001b[1;31m---------------------------------------------------------------------------\u001b[0m",
      "\u001b[1;31mURLError\u001b[0m                                  Traceback (most recent call last)",
      "\u001b[1;32m<ipython-input-17-3ec50259a0a8>\u001b[0m in \u001b[0;36m<module>\u001b[1;34m\u001b[0m\n\u001b[0;32m     22\u001b[0m             \u001b[0mallIntLinks\u001b[0m\u001b[1;33m.\u001b[0m\u001b[0madd\u001b[0m\u001b[1;33m(\u001b[0m\u001b[0mlink\u001b[0m\u001b[1;33m)\u001b[0m\u001b[1;33m\u001b[0m\u001b[1;33m\u001b[0m\u001b[0m\n\u001b[0;32m     23\u001b[0m             \u001b[0mgetAllExternalLinks\u001b[0m\u001b[1;33m(\u001b[0m\u001b[0mlink\u001b[0m\u001b[1;33m)\u001b[0m\u001b[1;33m\u001b[0m\u001b[1;33m\u001b[0m\u001b[0m\n\u001b[1;32m---> 24\u001b[1;33m \u001b[0mgetAllExternalLinks\u001b[0m\u001b[1;33m(\u001b[0m\u001b[1;34m\"https://baike.baidu.com/\"\u001b[0m\u001b[1;33m)\u001b[0m\u001b[1;33m\u001b[0m\u001b[1;33m\u001b[0m\u001b[0m\n\u001b[0m",
      "\u001b[1;32m<ipython-input-17-3ec50259a0a8>\u001b[0m in \u001b[0;36mgetAllExternalLinks\u001b[1;34m(siteUrl)\u001b[0m\n\u001b[0;32m     21\u001b[0m             \u001b[0mprint\u001b[0m\u001b[1;33m(\u001b[0m\u001b[1;34m'即将获取链接的URL是：'\u001b[0m\u001b[1;33m+\u001b[0m\u001b[0mlink\u001b[0m\u001b[1;33m)\u001b[0m\u001b[1;33m\u001b[0m\u001b[1;33m\u001b[0m\u001b[0m\n\u001b[0;32m     22\u001b[0m             \u001b[0mallIntLinks\u001b[0m\u001b[1;33m.\u001b[0m\u001b[0madd\u001b[0m\u001b[1;33m(\u001b[0m\u001b[0mlink\u001b[0m\u001b[1;33m)\u001b[0m\u001b[1;33m\u001b[0m\u001b[1;33m\u001b[0m\u001b[0m\n\u001b[1;32m---> 23\u001b[1;33m             \u001b[0mgetAllExternalLinks\u001b[0m\u001b[1;33m(\u001b[0m\u001b[0mlink\u001b[0m\u001b[1;33m)\u001b[0m\u001b[1;33m\u001b[0m\u001b[1;33m\u001b[0m\u001b[0m\n\u001b[0m\u001b[0;32m     24\u001b[0m \u001b[0mgetAllExternalLinks\u001b[0m\u001b[1;33m(\u001b[0m\u001b[1;34m\"https://baike.baidu.com/\"\u001b[0m\u001b[1;33m)\u001b[0m\u001b[1;33m\u001b[0m\u001b[1;33m\u001b[0m\u001b[0m\n",
      "\u001b[1;32m<ipython-input-17-3ec50259a0a8>\u001b[0m in \u001b[0;36mgetAllExternalLinks\u001b[1;34m(siteUrl)\u001b[0m\n\u001b[0;32m     21\u001b[0m             \u001b[0mprint\u001b[0m\u001b[1;33m(\u001b[0m\u001b[1;34m'即将获取链接的URL是：'\u001b[0m\u001b[1;33m+\u001b[0m\u001b[0mlink\u001b[0m\u001b[1;33m)\u001b[0m\u001b[1;33m\u001b[0m\u001b[1;33m\u001b[0m\u001b[0m\n\u001b[0;32m     22\u001b[0m             \u001b[0mallIntLinks\u001b[0m\u001b[1;33m.\u001b[0m\u001b[0madd\u001b[0m\u001b[1;33m(\u001b[0m\u001b[0mlink\u001b[0m\u001b[1;33m)\u001b[0m\u001b[1;33m\u001b[0m\u001b[1;33m\u001b[0m\u001b[0m\n\u001b[1;32m---> 23\u001b[1;33m             \u001b[0mgetAllExternalLinks\u001b[0m\u001b[1;33m(\u001b[0m\u001b[0mlink\u001b[0m\u001b[1;33m)\u001b[0m\u001b[1;33m\u001b[0m\u001b[1;33m\u001b[0m\u001b[0m\n\u001b[0m\u001b[0;32m     24\u001b[0m \u001b[0mgetAllExternalLinks\u001b[0m\u001b[1;33m(\u001b[0m\u001b[1;34m\"https://baike.baidu.com/\"\u001b[0m\u001b[1;33m)\u001b[0m\u001b[1;33m\u001b[0m\u001b[1;33m\u001b[0m\u001b[0m\n",
      "\u001b[1;32m<ipython-input-17-3ec50259a0a8>\u001b[0m in \u001b[0;36mgetAllExternalLinks\u001b[1;34m(siteUrl)\u001b[0m\n\u001b[0;32m      9\u001b[0m \u001b[1;33m\u001b[0m\u001b[0m\n\u001b[0;32m     10\u001b[0m \u001b[1;32mdef\u001b[0m \u001b[0mgetAllExternalLinks\u001b[0m\u001b[1;33m(\u001b[0m\u001b[0msiteUrl\u001b[0m\u001b[1;33m)\u001b[0m\u001b[1;33m:\u001b[0m\u001b[1;33m\u001b[0m\u001b[1;33m\u001b[0m\u001b[0m\n\u001b[1;32m---> 11\u001b[1;33m     \u001b[0mhtml\u001b[0m\u001b[1;33m=\u001b[0m\u001b[0murlopen\u001b[0m\u001b[1;33m(\u001b[0m\u001b[0msiteUrl\u001b[0m\u001b[1;33m)\u001b[0m\u001b[1;33m\u001b[0m\u001b[1;33m\u001b[0m\u001b[0m\n\u001b[0m\u001b[0;32m     12\u001b[0m     \u001b[0mbsObj\u001b[0m\u001b[1;33m=\u001b[0m\u001b[0mBeautifulSoup\u001b[0m\u001b[1;33m(\u001b[0m\u001b[0mhtml\u001b[0m\u001b[1;33m)\u001b[0m\u001b[1;33m\u001b[0m\u001b[1;33m\u001b[0m\u001b[0m\n\u001b[0;32m     13\u001b[0m     \u001b[0minternalLinks\u001b[0m\u001b[1;33m=\u001b[0m\u001b[0mgetInternalLinks\u001b[0m\u001b[1;33m(\u001b[0m\u001b[0mbsObj\u001b[0m\u001b[1;33m,\u001b[0m\u001b[0msplitAddress\u001b[0m\u001b[1;33m(\u001b[0m\u001b[0msiteUrl\u001b[0m\u001b[1;33m)\u001b[0m\u001b[1;33m[\u001b[0m\u001b[1;36m0\u001b[0m\u001b[1;33m]\u001b[0m\u001b[1;33m)\u001b[0m\u001b[1;33m\u001b[0m\u001b[1;33m\u001b[0m\u001b[0m\n",
      "\u001b[1;32me:\\python3.9\\lib\\urllib\\request.py\u001b[0m in \u001b[0;36murlopen\u001b[1;34m(url, data, timeout, cafile, capath, cadefault, context)\u001b[0m\n\u001b[0;32m    212\u001b[0m     \u001b[1;32melse\u001b[0m\u001b[1;33m:\u001b[0m\u001b[1;33m\u001b[0m\u001b[1;33m\u001b[0m\u001b[0m\n\u001b[0;32m    213\u001b[0m         \u001b[0mopener\u001b[0m \u001b[1;33m=\u001b[0m \u001b[0m_opener\u001b[0m\u001b[1;33m\u001b[0m\u001b[1;33m\u001b[0m\u001b[0m\n\u001b[1;32m--> 214\u001b[1;33m     \u001b[1;32mreturn\u001b[0m \u001b[0mopener\u001b[0m\u001b[1;33m.\u001b[0m\u001b[0mopen\u001b[0m\u001b[1;33m(\u001b[0m\u001b[0murl\u001b[0m\u001b[1;33m,\u001b[0m \u001b[0mdata\u001b[0m\u001b[1;33m,\u001b[0m \u001b[0mtimeout\u001b[0m\u001b[1;33m)\u001b[0m\u001b[1;33m\u001b[0m\u001b[1;33m\u001b[0m\u001b[0m\n\u001b[0m\u001b[0;32m    215\u001b[0m \u001b[1;33m\u001b[0m\u001b[0m\n\u001b[0;32m    216\u001b[0m \u001b[1;32mdef\u001b[0m \u001b[0minstall_opener\u001b[0m\u001b[1;33m(\u001b[0m\u001b[0mopener\u001b[0m\u001b[1;33m)\u001b[0m\u001b[1;33m:\u001b[0m\u001b[1;33m\u001b[0m\u001b[1;33m\u001b[0m\u001b[0m\n",
      "\u001b[1;32me:\\python3.9\\lib\\urllib\\request.py\u001b[0m in \u001b[0;36mopen\u001b[1;34m(self, fullurl, data, timeout)\u001b[0m\n\u001b[0;32m    512\u001b[0m         \u001b[1;32mfor\u001b[0m \u001b[0mprocessor\u001b[0m \u001b[1;32min\u001b[0m \u001b[0mself\u001b[0m\u001b[1;33m.\u001b[0m\u001b[0mprocess_request\u001b[0m\u001b[1;33m.\u001b[0m\u001b[0mget\u001b[0m\u001b[1;33m(\u001b[0m\u001b[0mprotocol\u001b[0m\u001b[1;33m,\u001b[0m \u001b[1;33m[\u001b[0m\u001b[1;33m]\u001b[0m\u001b[1;33m)\u001b[0m\u001b[1;33m:\u001b[0m\u001b[1;33m\u001b[0m\u001b[1;33m\u001b[0m\u001b[0m\n\u001b[0;32m    513\u001b[0m             \u001b[0mmeth\u001b[0m \u001b[1;33m=\u001b[0m \u001b[0mgetattr\u001b[0m\u001b[1;33m(\u001b[0m\u001b[0mprocessor\u001b[0m\u001b[1;33m,\u001b[0m \u001b[0mmeth_name\u001b[0m\u001b[1;33m)\u001b[0m\u001b[1;33m\u001b[0m\u001b[1;33m\u001b[0m\u001b[0m\n\u001b[1;32m--> 514\u001b[1;33m             \u001b[0mreq\u001b[0m \u001b[1;33m=\u001b[0m \u001b[0mmeth\u001b[0m\u001b[1;33m(\u001b[0m\u001b[0mreq\u001b[0m\u001b[1;33m)\u001b[0m\u001b[1;33m\u001b[0m\u001b[1;33m\u001b[0m\u001b[0m\n\u001b[0m\u001b[0;32m    515\u001b[0m \u001b[1;33m\u001b[0m\u001b[0m\n\u001b[0;32m    516\u001b[0m         \u001b[0msys\u001b[0m\u001b[1;33m.\u001b[0m\u001b[0maudit\u001b[0m\u001b[1;33m(\u001b[0m\u001b[1;34m'urllib.Request'\u001b[0m\u001b[1;33m,\u001b[0m \u001b[0mreq\u001b[0m\u001b[1;33m.\u001b[0m\u001b[0mfull_url\u001b[0m\u001b[1;33m,\u001b[0m \u001b[0mreq\u001b[0m\u001b[1;33m.\u001b[0m\u001b[0mdata\u001b[0m\u001b[1;33m,\u001b[0m \u001b[0mreq\u001b[0m\u001b[1;33m.\u001b[0m\u001b[0mheaders\u001b[0m\u001b[1;33m,\u001b[0m \u001b[0mreq\u001b[0m\u001b[1;33m.\u001b[0m\u001b[0mget_method\u001b[0m\u001b[1;33m(\u001b[0m\u001b[1;33m)\u001b[0m\u001b[1;33m)\u001b[0m\u001b[1;33m\u001b[0m\u001b[1;33m\u001b[0m\u001b[0m\n",
      "\u001b[1;32me:\\python3.9\\lib\\urllib\\request.py\u001b[0m in \u001b[0;36mdo_request_\u001b[1;34m(self, request)\u001b[0m\n\u001b[0;32m   1264\u001b[0m         \u001b[0mhost\u001b[0m \u001b[1;33m=\u001b[0m \u001b[0mrequest\u001b[0m\u001b[1;33m.\u001b[0m\u001b[0mhost\u001b[0m\u001b[1;33m\u001b[0m\u001b[1;33m\u001b[0m\u001b[0m\n\u001b[0;32m   1265\u001b[0m         \u001b[1;32mif\u001b[0m \u001b[1;32mnot\u001b[0m \u001b[0mhost\u001b[0m\u001b[1;33m:\u001b[0m\u001b[1;33m\u001b[0m\u001b[1;33m\u001b[0m\u001b[0m\n\u001b[1;32m-> 1266\u001b[1;33m             \u001b[1;32mraise\u001b[0m \u001b[0mURLError\u001b[0m\u001b[1;33m(\u001b[0m\u001b[1;34m'no host given'\u001b[0m\u001b[1;33m)\u001b[0m\u001b[1;33m\u001b[0m\u001b[1;33m\u001b[0m\u001b[0m\n\u001b[0m\u001b[0;32m   1267\u001b[0m \u001b[1;33m\u001b[0m\u001b[0m\n\u001b[0;32m   1268\u001b[0m         \u001b[1;32mif\u001b[0m \u001b[0mrequest\u001b[0m\u001b[1;33m.\u001b[0m\u001b[0mdata\u001b[0m \u001b[1;32mis\u001b[0m \u001b[1;32mnot\u001b[0m \u001b[1;32mNone\u001b[0m\u001b[1;33m:\u001b[0m  \u001b[1;31m# POST\u001b[0m\u001b[1;33m\u001b[0m\u001b[1;33m\u001b[0m\u001b[0m\n",
      "\u001b[1;31mURLError\u001b[0m: <urlopen error no host given>"
     ]
    }
   ],
   "source": [
    "#收集网站上发现的所有外链列表\n",
    "allExtLinks=set()\n",
    "allIntLinks=set()\n",
    "#URL链接切片，为了获得域名\n",
    "\n",
    "def splitAddress(adress):\n",
    "    adressParts = adress.replace(\"http://\", \"\").split(\"/\")\n",
    "    return adressParts\n",
    "\n",
    "def getAllExternalLinks(siteUrl):\n",
    "    html=urlopen(siteUrl)\n",
    "    bsObj=BeautifulSoup(html)\n",
    "    internalLinks=getInternalLinks(bsObj,splitAddress(siteUrl)[0])\n",
    "    externalLinks=getExternalLinks(bsObj,splitAddress(siteUrl)[0])\n",
    "    for link in externalLinks:\n",
    "        if link not in allExtLinks:\n",
    "            allExtLinks.add(link)\n",
    "            print(link)\n",
    "    for link in internalLinks:\n",
    "        if link not in allIntLinks:\n",
    "            print('即将获取链接的URL是：'+link)\n",
    "            allIntLinks.add(link)\n",
    "            getAllExternalLinks(link)\n",
    "getAllExternalLinks(\"https://baike.baidu.com/\")"
   ]
  },
  {
   "cell_type": "markdown",
   "metadata": {},
   "source": [
    "### 4使用API"
   ]
  },
  {
   "cell_type": "code",
   "execution_count": 2,
   "metadata": {},
   "outputs": [],
   "source": [
    "import json"
   ]
  },
  {
   "cell_type": "code",
   "execution_count": 16,
   "metadata": {},
   "outputs": [
    {
     "name": "stdout",
     "output_type": "stream",
     "text": [
      "China\n"
     ]
    }
   ],
   "source": [
    "\n",
    "response=urlopen('http://ip-api.com/json/202.196.17.229').read().decode('utf-8')\n",
    "print(json.loads(response).get('country'))"
   ]
  },
  {
   "cell_type": "markdown",
   "metadata": {},
   "source": [
    "### 5存储数据"
   ]
  },
  {
   "cell_type": "code",
   "execution_count": 5,
   "metadata": {},
   "outputs": [],
   "source": [
    "from urllib.request import urlretrieve\n",
    "from urllib.request import urlopen\n",
    "from bs4 import BeautifulSoup\n",
    "import os"
   ]
  },
  {
   "cell_type": "code",
   "execution_count": 4,
   "metadata": {
    "collapsed": true,
    "jupyter": {
     "outputs_hidden": true
    }
   },
   "outputs": [
    {
     "name": "stdout",
     "output_type": "stream",
     "text": [
      "http://www.pythonscraping.com/sites/default/files/lrg_0.jpg\n"
     ]
    },
    {
     "data": {
      "text/plain": [
       "('logo.jpg', <http.client.HTTPMessage at 0x7161748>)"
      ]
     },
     "execution_count": 4,
     "metadata": {},
     "output_type": "execute_result"
    }
   ],
   "source": [
    "html=urlopen('http://www.pythonscraping.com')\n",
    "bsObj=BeautifulSoup(html)\n",
    "imageLocation=bsObj.find('a',{'id':'logo'}).find('img')['src']\n",
    "print(imageLocation)\n",
    "urlretrieve(imageLocation,'logo.jpg')"
   ]
  },
  {
   "cell_type": "code",
   "execution_count": 8,
   "metadata": {
    "collapsed": true,
    "jupyter": {
     "outputs_hidden": true
    }
   },
   "outputs": [
    {
     "name": "stdout",
     "output_type": "stream",
     "text": [
      "http://pythonscraping.com/misc/jquery.js?v=1.4.4\n"
     ]
    },
    {
     "ename": "OSError",
     "evalue": "[Errno 22] Invalid argument: 'downloaded/misc/jquery.js?v=1.4.4'",
     "output_type": "error",
     "traceback": [
      "\u001b[1;31m------------------------------------------------------------\u001b[0m",
      "\u001b[1;31mOSError\u001b[0m                    Traceback (most recent call last)",
      "\u001b[1;32m<ipython-input-8-1e460a0a57e5>\u001b[0m in \u001b[0;36m<module>\u001b[1;34m\u001b[0m\n\u001b[0;32m     33\u001b[0m     \u001b[1;32mif\u001b[0m \u001b[0mfileUrl\u001b[0m \u001b[1;32mis\u001b[0m \u001b[1;32mnot\u001b[0m \u001b[1;32mNone\u001b[0m\u001b[1;33m:\u001b[0m\u001b[1;33m\u001b[0m\u001b[1;33m\u001b[0m\u001b[0m\n\u001b[0;32m     34\u001b[0m         \u001b[0mprint\u001b[0m\u001b[1;33m(\u001b[0m\u001b[0mfileUrl\u001b[0m\u001b[1;33m)\u001b[0m\u001b[1;33m\u001b[0m\u001b[1;33m\u001b[0m\u001b[0m\n\u001b[1;32m---> 35\u001b[1;33m         \u001b[0murlretrieve\u001b[0m\u001b[1;33m(\u001b[0m\u001b[0mfileUrl\u001b[0m\u001b[1;33m,\u001b[0m\u001b[0mgetDownloadPath\u001b[0m\u001b[1;33m(\u001b[0m\u001b[0mbaseUrl\u001b[0m\u001b[1;33m,\u001b[0m\u001b[0mfileUrl\u001b[0m\u001b[1;33m,\u001b[0m\u001b[0mdownloadDirectory\u001b[0m\u001b[1;33m)\u001b[0m\u001b[1;33m)\u001b[0m\u001b[1;33m\u001b[0m\u001b[1;33m\u001b[0m\u001b[0m\n\u001b[0m\u001b[0;32m     36\u001b[0m \u001b[1;33m\u001b[0m\u001b[0m\n",
      "\u001b[1;32me:\\python3.9\\lib\\urllib\\request.py\u001b[0m in \u001b[0;36murlretrieve\u001b[1;34m(url, filename, reporthook, data)\u001b[0m\n\u001b[0;32m    247\u001b[0m         \u001b[1;31m# Handle temporary file setup.\u001b[0m\u001b[1;33m\u001b[0m\u001b[1;33m\u001b[0m\u001b[1;33m\u001b[0m\u001b[0m\n\u001b[0;32m    248\u001b[0m         \u001b[1;32mif\u001b[0m \u001b[0mfilename\u001b[0m\u001b[1;33m:\u001b[0m\u001b[1;33m\u001b[0m\u001b[1;33m\u001b[0m\u001b[0m\n\u001b[1;32m--> 249\u001b[1;33m             \u001b[0mtfp\u001b[0m \u001b[1;33m=\u001b[0m \u001b[0mopen\u001b[0m\u001b[1;33m(\u001b[0m\u001b[0mfilename\u001b[0m\u001b[1;33m,\u001b[0m \u001b[1;34m'wb'\u001b[0m\u001b[1;33m)\u001b[0m\u001b[1;33m\u001b[0m\u001b[1;33m\u001b[0m\u001b[0m\n\u001b[0m\u001b[0;32m    250\u001b[0m         \u001b[1;32melse\u001b[0m\u001b[1;33m:\u001b[0m\u001b[1;33m\u001b[0m\u001b[1;33m\u001b[0m\u001b[0m\n\u001b[0;32m    251\u001b[0m             \u001b[0mtfp\u001b[0m \u001b[1;33m=\u001b[0m \u001b[0mtempfile\u001b[0m\u001b[1;33m.\u001b[0m\u001b[0mNamedTemporaryFile\u001b[0m\u001b[1;33m(\u001b[0m\u001b[0mdelete\u001b[0m\u001b[1;33m=\u001b[0m\u001b[1;32mFalse\u001b[0m\u001b[1;33m)\u001b[0m\u001b[1;33m\u001b[0m\u001b[1;33m\u001b[0m\u001b[0m\n",
      "\u001b[1;31mOSError\u001b[0m: [Errno 22] Invalid argument: 'downloaded/misc/jquery.js?v=1.4.4'"
     ]
    }
   ],
   "source": [
    "downloadDirectory='downloaded'\n",
    "baseUrl='http://pythonscraping.com'\n",
    "def getAbsoluteURL(baseUrl,source):\n",
    "    if source.startswith('http://www.') or source.startswith('https://www.'):\n",
    "        url='http://'+source[11:]\n",
    "    elif source.startswith('http://') or source.startswith('https://'):\n",
    "        url=source\n",
    "    elif source.startswith('www.'):\n",
    "        url='http://'+source[4:]\n",
    "    else:\n",
    "        url=baseUrl+'/'+source\n",
    "    if baseUrl not in url:\n",
    "        return None\n",
    "    return url\n",
    "\n",
    "def getDownloadPath(baseUrl,absoluteUrl,downloadDirectory):\n",
    "    path=absoluteUrl.replace('www.','')\n",
    "    path=path.replace(baseUrl,'')\n",
    "    path=downloadDirectory+path\n",
    "    directory=os.path.dirname(path)\n",
    "    \n",
    "    if not os.path.exists(directory):\n",
    "        os.makedirs(directory)\n",
    "        \n",
    "    return path\n",
    "\n",
    "html=urlopen('http://www.pythonscraping.com')\n",
    "bsObj=BeautifulSoup(html)\n",
    "dowmloadList=bsObj.findAll(src=True)\n",
    "\n",
    "for download in dowmloadList:\n",
    "    fileUrl=getAbsoluteURL(baseUrl,download['src'])\n",
    "    if fileUrl is not None:\n",
    "        print(fileUrl)\n",
    "        urlretrieve(fileUrl,getDownloadPath(baseUrl,fileUrl,downloadDirectory))\n",
    "        "
   ]
  },
  {
   "cell_type": "code",
   "execution_count": 14,
   "metadata": {},
   "outputs": [],
   "source": [
    "import csv\n",
    "csvfile=open('./test.csv','w+')\n",
    "try:\n",
    "    writer=csv.writer(csvfile)\n",
    "    writer.writerow(('number','number plus 2','number times 2'))\n",
    "    for i in range(10):\n",
    "        writer.writerow((i,i+2,i*2))\n",
    "finally:\n",
    "    csvfile.close()"
   ]
  },
  {
   "cell_type": "code",
   "execution_count": 19,
   "metadata": {},
   "outputs": [],
   "source": [
    "html=urlopen('https://baike.baidu.com/item/%E9%92%B1%E5%AD%A6%E6%A3%AE/26105')\n",
    "bsObj=BeautifulSoup(html)\n",
    "div=bsObj.findAll('div',{'class':'basic-info cmn-clearfix'})[0]\n",
    "rows=div.findAll('dl')\n",
    "csvfile=open('./editors.csv','wt',newline='',encoding='utf-8')\n",
    "writer=csv.writer(csvfile)\n",
    "try:\n",
    "    for row in rows:\n",
    "        csvrow=[]\n",
    "        for cell in row.findAll(['dt','dd']):\n",
    "            csvrow.append(cell.get_text())\n",
    "        writer.writerow(csvrow)\n",
    "finally:\n",
    "    csvfile.close()"
   ]
  },
  {
   "cell_type": "code",
   "execution_count": 29,
   "metadata": {},
   "outputs": [
    {
     "data": {
      "text/plain": [
       "(221, b'Bye.')"
      ]
     },
     "execution_count": 29,
     "metadata": {},
     "output_type": "execute_result"
    }
   ],
   "source": [
    "token='ufsbkqfgtyxwgiid'\n",
    "\n",
    "msg=MIMEText('hello world!')\n",
    "msg['Subject']='An email alert'\n",
    "msg['From']='1533724418@qq.com'\n",
    "msg['To']='1533724418@qq.com'\n",
    "\n",
    "s=smtplib.SMTP_SSL('smtp.qq.com')\n",
    "s.login('1533724418@qq.com',token)\n",
    "s.send_message(msg)\n",
    "s.quit()"
   ]
  },
  {
   "cell_type": "code",
   "execution_count": 1,
   "metadata": {},
   "outputs": [
    {
     "ename": "NameError",
     "evalue": "name 'MIMEText' is not defined",
     "output_type": "error",
     "traceback": [
      "\u001b[1;31m---------------------------------------------------------------------------\u001b[0m",
      "\u001b[1;31mNameError\u001b[0m                                 Traceback (most recent call last)",
      "\u001b[1;32m<ipython-input-1-d3e2921668ec>\u001b[0m in \u001b[0;36m<module>\u001b[1;34m\u001b[0m\n\u001b[0;32m     13\u001b[0m \u001b[1;31m# p=bsObj.find('p',{'id':'local'}).get_text()\u001b[0m\u001b[1;33m\u001b[0m\u001b[1;33m\u001b[0m\u001b[1;33m\u001b[0m\u001b[0m\n\u001b[0;32m     14\u001b[0m \u001b[1;31m# print(p)\u001b[0m\u001b[1;33m\u001b[0m\u001b[1;33m\u001b[0m\u001b[1;33m\u001b[0m\u001b[0m\n\u001b[1;32m---> 15\u001b[1;33m \u001b[0msendMail\u001b[0m\u001b[1;33m(\u001b[0m\u001b[1;34m'It is time!'\u001b[0m\u001b[1;33m,\u001b[0m\u001b[1;34m'According to http://itischristmas.com,it is christmas!'\u001b[0m\u001b[1;33m)\u001b[0m\u001b[1;33m\u001b[0m\u001b[1;33m\u001b[0m\u001b[0m\n\u001b[0m",
      "\u001b[1;32m<ipython-input-1-d3e2921668ec>\u001b[0m in \u001b[0;36msendMail\u001b[1;34m(subject, body)\u001b[0m\n\u001b[0;32m      1\u001b[0m \u001b[1;32mdef\u001b[0m \u001b[0msendMail\u001b[0m\u001b[1;33m(\u001b[0m\u001b[0msubject\u001b[0m\u001b[1;33m,\u001b[0m\u001b[0mbody\u001b[0m\u001b[1;33m)\u001b[0m\u001b[1;33m:\u001b[0m\u001b[1;33m\u001b[0m\u001b[1;33m\u001b[0m\u001b[0m\n\u001b[0;32m      2\u001b[0m     \u001b[0mtoken\u001b[0m\u001b[1;33m=\u001b[0m\u001b[1;34m'ufsbkqfgtyxwgiid'\u001b[0m\u001b[1;33m\u001b[0m\u001b[1;33m\u001b[0m\u001b[0m\n\u001b[1;32m----> 3\u001b[1;33m     \u001b[0mmsg\u001b[0m\u001b[1;33m=\u001b[0m\u001b[0mMIMEText\u001b[0m\u001b[1;33m(\u001b[0m\u001b[0mbody\u001b[0m\u001b[1;33m)\u001b[0m\u001b[1;33m\u001b[0m\u001b[1;33m\u001b[0m\u001b[0m\n\u001b[0m\u001b[0;32m      4\u001b[0m     \u001b[0mmsg\u001b[0m\u001b[1;33m[\u001b[0m\u001b[1;34m'Subject'\u001b[0m\u001b[1;33m]\u001b[0m\u001b[1;33m=\u001b[0m\u001b[0msubject\u001b[0m\u001b[1;33m\u001b[0m\u001b[1;33m\u001b[0m\u001b[0m\n\u001b[0;32m      5\u001b[0m     \u001b[0mmsg\u001b[0m\u001b[1;33m[\u001b[0m\u001b[1;34m'From'\u001b[0m\u001b[1;33m]\u001b[0m\u001b[1;33m=\u001b[0m\u001b[1;34m'1533724418@qq.com'\u001b[0m\u001b[1;33m\u001b[0m\u001b[1;33m\u001b[0m\u001b[0m\n",
      "\u001b[1;31mNameError\u001b[0m: name 'MIMEText' is not defined"
     ]
    }
   ],
   "source": [
    "def sendMail(subject,body):\n",
    "    token='ufsbkqfgtyxwgiid'\n",
    "    msg=MIMEText(body)\n",
    "    msg['Subject']=subject\n",
    "    msg['From']='1533724418@qq.com'\n",
    "    msg['To']='1533724418@qq.com;798446962@qq.com'\n",
    "    s=smtplib.SMTP_SSL('smtp.qq.com')\n",
    "    s.login('1533724418@qq.com',token)\n",
    "    s.send_message(msg)\n",
    "    s.quit()\n",
    "    \n",
    "# bsObj=BeautifulSoup(urlopen('http://time.tianqi.com/'))\n",
    "# p=bsObj.find('p',{'id':'local'}).get_text()\n",
    "# print(p)\n",
    "sendMail('It is time!','According to http://itischristmas.com,it is christmas!')"
   ]
  },
  {
   "cell_type": "markdown",
   "metadata": {},
   "source": [
    "### 6读取文档"
   ]
  },
  {
   "cell_type": "code",
   "execution_count": 3,
   "metadata": {
    "collapsed": true,
    "jupyter": {
     "outputs_hidden": true
    }
   },
   "outputs": [
    {
     "name": "stdout",
     "output_type": "stream",
     "text": [
      "b'CHAPTER I\\n\\n\"Well, Prince, so Genoa and Lucca are now just family estates of theBuonapartes. But I warn you, if you don\\'t tell me that this means war,if you still try to defend the infamies and horrors perpetrated bythat Antichrist- I really believe he is Antichrist- I will havenothing more to do with you and you are no longer my friend, no longermy \\'faithful slave,\\' as you call yourself! But how do you do? I seeI have frightened you- sit down and tell me all the news.\"\\n\\nIt was in July, 1805, and the speaker was the well-known AnnaPavlovna Scherer, maid of honor and favorite of the Empress MaryaFedorovna. With these words she greeted Prince Vasili Kuragin, a manof high rank and importance, who was the first to arrive at herreception. Anna Pavlovna had had a cough for some days. She was, asshe said, suffering from la grippe; grippe being then a new word inSt. Petersburg, used only by the elite.\\n\\nAll her invitations without exception, written in French, anddelivered by a scarlet-liveried footman that morning, ran as follows:\\n\\n\"If you have nothing better to do, Count [or Prince], and if theprospect of spending an evening with a poor invalid is not tooterrible, I shall be very charmed to see you tonight between 7 and 10-Annette Scherer.\"\\n\\n\"Heavens! what a virulent attack!\" replied the prince, not in theleast disconcerted by this reception. He had just entered, wearingan embroidered court uniform, knee breeches, and shoes, and hadstars on his breast and a serene expression on his flat face. He spokein that refined French in which our grandfathers not only spoke butthought, and with the gentle, patronizing intonation natural to aman of importance who had grown old in society and at court. He wentup to Anna Pavlovna, kissed her hand, presenting to her his bald,scented, and shining head, and complacently seated himself on thesofa.\\n\\n\"First of all, dear friend, tell me how you are. Set your friend\\'smind at rest,\" said he without altering his tone, beneath thepoliteness and affected sympathy of which indifference and evenirony could be discerned.\\n\\n\"Can one be well while suffering morally? Can one be calm in timeslike these if one has any feeling?\" said Anna Pavlovna. \"You arestaying the whole evening, I hope?\"\\n\\n\"And the fete at the English ambassador\\'s? Today is Wednesday. Imust put in an appearance there,\" said the prince. \"My daughter iscoming for me to take me there.\"\\n\\n\"I thought today\\'s fete had been canceled. I confess all thesefestivities and fireworks are becoming wearisome.\"\\n\\n\"If they had known that you wished it, the entertainment wouldhave been put off,\" said the prince, who, like a wound-up clock, byforce of habit said things he did not even wish to be believed.\\n\\n\"Don\\'t tease! Well, and what has been decided about Novosiltsev\\'sdispatch? You know everything.\"\\n\\n\"What can one say about it?\" replied the prince in a cold,listless tone. \"What has been decided? They have decided thatBuonaparte has burnt his boats, and I believe that we are ready toburn ours.\"\\n\\nPrince Vasili always spoke languidly, like an actor repeating astale part. Anna Pavlovna Scherer on the contrary, despite her fortyyears, overflowed with animation and impulsiveness. To be anenthusiast had become her social vocation and, sometimes even when shedid not feel like it, she became enthusiastic in order not todisappoint the expectations of those who knew her. The subdued smilewhich, though it did not suit her faded features, always playedround her lips expressed, as in a spoiled child, a continualconsciousness of her charming defect, which she neither wished, norcould, nor considered it necessary, to correct.\\n\\nIn the midst of a conversation on political matters Anna Pavlovnaburst out:\\n\\n\"Oh, don\\'t speak to me of Austria. Perhaps I don\\'t understandthings, but Austria never has wished, and does not wish, for war.She is betraying us! Russia alone must save Europe. Our gracioussovereign recognizes his high vocation and will be true to it. That isthe one thing I have faith in! Our good and wonderful sovereign has toperform the noblest role on earth, and he is so virtuous and noblethat God will not forsake him. He will fulfill his vocation andcrush the hydra of revolution, which has become more terrible thanever in the person of this murderer and villain! We alone mustavenge the blood of the just one.... Whom, I ask you, can we relyon?... England with her commercial spirit will not and cannotunderstand the Emperor Alexander\\'s loftiness of soul. She hasrefused to evacuate Malta. She wanted to find, and still seeks, somesecret motive in our actions. What answer did Novosiltsev get? None.The English have not understood and cannot understand theself-abnegation of our Emperor who wants nothing for himself, but onlydesires the good of mankind. And what have they promised? Nothing! Andwhat little they have promised they will not perform! Prussia hasalways declared that Buonaparte is invincible, and that all Europeis powerless before him.... And I don\\'t believe a word that Hardenburgsays, or Haugwitz either. This famous Prussian neutrality is just atrap. I have faith only in God and the lofty destiny of our adoredmonarch. He will save Europe!\"\\n\\nShe suddenly paused, smiling at her own impetuosity.\\n\\n\"I think,\" said the prince with a smile, \"that if you had beensent instead of our dear Wintzingerode you would have captured theKing of Prussia\\'s consent by assault. You are so eloquent. Will yougive me a cup of tea?\"\\n\\n\"In a moment. A propos,\" she added, becoming calm again, \"I amexpecting two very interesting men tonight, le Vicomte de Mortemart,who is connected with the Montmorencys through the Rohans, one ofthe best French families. He is one of the genuine emigres, the goodones. And also the Abbe Morio. Do you know that profound thinker? Hehas been received by the Emperor. Had you heard?\"\\n\\n\"I shall be delighted to meet them,\" said the prince. \"But tell me,\"he added with studied carelessness as if it had only just occurredto him, though the question he was about to ask was the chief motiveof his visit, \"is it true that the Dowager Empress wants Baron Funketo be appointed first secretary at Vienna? The baron by all accountsis a poor creature.\"\\n\\nPrince Vasili wished to obtain this post for his son, but otherswere trying through the Dowager Empress Marya Fedorovna to secure itfor the baron.\\n\\nAnna Pavlovna almost closed her eyes to indicate that neither shenor anyone else had a right to criticize what the Empress desired orwas pleased with.\\n\\n\"Baron Funke has been recommended to the Dowager Empress by hersister,\" was all she said, in a dry and mournful tone.\\n\\nAs she named the Empress, Anna Pavlovna\\'s face suddenly assumed anexpression of profound and sincere devotion and respect mingled withsadness, and this occurred every time she mentioned her illustriouspatroness. She added that Her Majesty had deigned to show BaronFunke beaucoup d\\'estime, and again her face clouded over with sadness.\\n\\nThe prince was silent and looked indifferent. But, with thewomanly and courtierlike quickness and tact habitual to her, AnnaPavlovna wished both to rebuke him (for daring to speak he had done ofa man recommended to the Empress) and at the same time to console him,so she said:\\n\\n\"Now about your family. Do you know that since your daughter cameout everyone has been enraptured by her? They say she is amazinglybeautiful.\"\\n\\nThe prince bowed to signify his respect and gratitude.\\n\\n\"I often think,\" she continued after a short pause, drawing nearerto the prince and smiling amiably at him as if to show thatpolitical and social topics were ended and the time had come forintimate conversation- \"I often think how unfairly sometimes thejoys of life are distributed. Why has fate given you two such splendidchildren? I don\\'t speak of Anatole, your youngest. I don\\'t likehim,\" she added in a tone admitting of no rejoinder and raising hereyebrows. \"Two such charming children. And really you appreciatethem less than anyone, and so you don\\'t deserve to have them.\"\\n\\nAnd she smiled her ecstatic smile.\\n\\n\"I can\\'t help it,\" said the prince. \"Lavater would have said Ilack the bump of paternity.\"\\n\\n\"Don\\'t joke; I mean to have a serious talk with you. Do you know Iam dissatisfied with your younger son? Between ourselves\" (and herface assumed its melancholy expression), \"he was mentioned at HerMajesty\\'s and you were pitied....\"\\n\\nThe prince answered nothing, but she looked at him significantly,awaiting a reply. He frowned.\\n\\n\"What would you have me do?\" he said at last. \"You know I did alla father could for their education, and they have both turned outfools. Hippolyte is at least a quiet fool, but Anatole is an activeone. That is the only difference between them.\" He said this smilingin a way more natural and animated than usual, so that the wrinklesround his mouth very clearly revealed something unexpectedly coarseand unpleasant.\\n\\n\"And why are children born to such men as you? If you were not afather there would be nothing I could reproach you with,\" said AnnaPavlovna, looking up pensively.\\n\\n\"I am your faithful slave and to you alone I can confess that mychildren are the bane of my life. It is the cross I have to bear. Thatis how I explain it to myself. It can\\'t be helped!\"\\n\\nHe said no more, but expressed his resignation to cruel fate by agesture. Anna Pavlovna meditated.\\n\\n\"Have you never thought of marrying your prodigal son Anatole?\"she asked. \"They say old maids have a mania for matchmaking, andthough I don\\'t feel that weakness in myself as yet,I know a littleperson who is very unhappy with her father. She is a relation ofyours, Princess Mary Bolkonskaya.\"\\n\\nPrince Vasili did not reply, though, with the quickness of memoryand perception befitting a man of the world, he indicated by amovement of the head that he was considering this information.\\n\\n\"Do you know,\" he said at last, evidently unable to check the sadcurrent of his thoughts, \"that Anatole is costing me forty thousandrubles a year? And,\" he went on after a pause, \"what will it be infive years, if he goes on like this?\" Presently he added: \"That\\'s whatwe fathers have to put up with.... Is this princess of yours rich?\"\\n\\n\"Her father is very rich and stingy. He lives in the country. Heis the well-known Prince Bolkonski who had to retire from the armyunder the late Emperor, and was nicknamed \\'the King of Prussia.\\' He isvery clever but eccentric, and a bore. The poor girl is veryunhappy. She has a brother; I think you know him, he married LiseMeinen lately. He is an aide-de-camp of Kutuzov\\'s and will be heretonight.\"\\n\\n\"Listen, dear Annette,\" said the prince, suddenly taking AnnaPavlovna\\'s hand and for some reason drawing it downwards. \"Arrangethat affair for me and I shall always be your most devoted slave-slafe wigh an f, as a village elder of mine writes in his reports. Sheis rich and of good family and that\\'s all I want.\"\\n\\nAnd with the familiarity and easy grace peculiar to him, he raisedthe maid of honor\\'s hand to his lips, kissed it, and swung it to andfro as he lay back in his armchair, looking in another direction.\\n\\n\"Attendez,\" said Anna Pavlovna, reflecting, \"I\\'ll speak to Lise,young Bolkonski\\'s wife, this very evening, and perhaps the thing canbe arranged. It shall be on your family\\'s behalf that I\\'ll start myapprenticeship as old maid.\"'\n"
     ]
    }
   ],
   "source": [
    "textpage=urlopen('http://www.pythonscraping.com/pages/warandpeace/chapter1.txt')\n",
    "print(textpage.read())"
   ]
  },
  {
   "cell_type": "code",
   "execution_count": 7,
   "metadata": {
    "collapsed": true,
    "jupyter": {
     "outputs_hidden": true
    }
   },
   "outputs": [
    {
     "name": "stdout",
     "output_type": "stream",
     "text": [
      "ЧАСТЬ ПЕРВАЯ\n",
      "\n",
      "I\n",
      "\n",
      "— Eh bien, mon prince. Gênes et Lucques ne sont plus que des apanages, des поместья, de la famille Buonaparte. Non, je vous préviens que si vous ne me dites pas que nous avons la guerre, si vous vous permettez encore de pallier toutes les infamies, toutes les atrocités de cet Antichrist (ma parole, j'y crois) — je ne vous connais plus, vous n'êtes plus mon ami, vous n'êtes plus мой верный раб, comme vous dites. Ну, здравствуйте, здравствуйте. Je vois que je vous fais peur, садитесь и рассказывайте.\n",
      "Так говорила в июле 1805 года известная Анна Павловна Шерер, фрейлина и приближенная императрицы Марии Феодоровны, встречая важного и чиновного князя Василия, первого приехавшего на ее вечер. Анна Павловна кашляла несколько дней, у нее был грипп, как она говорила (грипп был тогда новое слово, употреблявшееся только редкими). В записочках, разосланных утром с красным лакеем, было написано без различия во всех:\n",
      "«Si vous n'avez rien de mieux à faire, Monsieur le comte (или mon prince), et si la perspective de passer la soirée chez une pauvre malade ne vous effraye pas trop, je serai charmée de vous voir chez moi entre 7 et 10 heures. Annette Scherer».\n",
      "— Dieu, quelle virulente sortie! — отвечал, нисколько не смутясь такою встречей, вошедший князь, в придворном, шитом мундире, в чулках, башмаках и звездах, с светлым выражением плоского лица.\n",
      "Он говорил на том изысканном французском языке, на котором не только говорили, но и думали наши деды, и с теми, тихими, покровительственными интонациями, которые свойственны состаревшемуся в свете и при дворе значительному человеку. Он подошел к Анне Павловне, поцеловал ее руку, подставив ей свою надушенную и сияющую лысину, и покойно уселся на диване.\n",
      "— Avant tout dites-moi, comment vous allez, chère amie? Успокойте меня, — сказал он, не изменяя голоса и тоном, в котором из-за приличия и участия просвечивало равнодушие и даже насмешка.\n",
      "— Как можно быть здоровой... когда нравственно страдаешь? Разве можно, имея чувство, оставаться спокойною в наше время? — сказала Анна Павловна. — Вы весь вечер у меня, надеюсь?\n",
      "— А праздник английского посланника? Нынче середа. Мне надо показаться там, — сказал князь. — Дочь заедет за мной и повезет меня.\n",
      "— Я думала, что нынешний праздник отменен, Je vous avoue que toutes ces fêtes et tous ces feux d'artifice commencent à devenir insipides.\n",
      "— Ежели бы знали, что вы этого хотите, праздник бы отменили, — сказал князь по привычке, как заведенные часы, говоря вещи, которым он и не хотел, чтобы верили.\n",
      "— Ne me tourmentez pas. Eh bien, qu'a-t-on décidé par rapport à la dépêche de Novosilzoff? Vous savez tout.\n",
      "— Как вам сказать? — сказал князь холодным, скучающим тоном. — Qu'a-t-on décidé? On a décidé que Buonaparte a brûlé ses vaisseaux, et je crois que nous sommes en train de brûler les nôtres.\n",
      "Князь Василий говорил всегда лениво, как актер говорит роль старой пиесы. Анна Павловна Шерер, напротив, несмотря на свои сорок лет, была преисполнена оживления и порывов.\n",
      "Быть энтузиасткой сделалось ее общественным положением, и иногда, когда ей даже того не хотелось, она, чтобы не обмануть ожиданий людей, знавших ее, делалась энтузиасткой. Сдержанная улыбка, игравшая постоянно на лице Анны Павловны, хотя и не шла к ее отжившим чертам, выражала, как у избалованных детей, постоянное сознание своего милого недостатка, от которого она не хочет, не может и не находит нужным исправляться.\n",
      "В середине разговора про политические действия Анна Павловна разгорячилась.\n",
      "— Ах, не говорите мне про Австрию! Я ничего не понимаю, может быть, но Австрия никогда не хотела и не хочет войны. Она предает нас. Россия одна должна быть спасительницей Европы. Наш благодетель знает свое высокое призвание и будет верен ему. Вот одно, во что я верю. Нашему доброму и чудному государю предстоит величайшая роль в мире, и он так добродетелен и хорош, что Бог не оставит его, и он исполнит свое призвание задавить гидру революции, которая теперь еще ужаснее в лице этого убийцы и злодея. Мы одни должны искупить кровь праведника. На кого нам надеяться, я вас спрашиваю?.. Англия с своим коммерческим духом не поймет и не может понять всю высоту души императора Александра. Она отказалась очистить Мальту. Она хочет видеть, ищет заднюю мысль наших действий. Что они сказали Новосильцеву? Ничего. Они не поняли, они не могли понять самоотвержения нашего императора, который ничего не хочет для себя и все хочет для блага мира. И что они обещали? Ничего. И что обещали, и того не будет! Пруссия уже объявила, что Бонапарте непобедим и что вся Европа ничего не может против него... И я не верю ни в одном слове ни Гарденбергу, ни Гаугвицу. Cette fameuse neutralité prussienne, ce n'est qu'un piège. Я верю в одного Бога и в высокую судьбу нашего милого императора. Он спасет Европу!.. — Она вдруг остановилась с улыбкой насмешки над своею горячностью.\n",
      "— Я думаю, — сказал князь, улыбаясь, — что, ежели бы вас послали вместо нашего милого Винценгероде, вы бы взяли приступом согласие прусского короля. Вы так красноречивы. Вы дадите мне чаю?\n",
      "— Сейчас. A propos, — прибавила она, опять успокоиваясь, — нынче у меня два очень интересные человека, le vicomte de Mortemart, il est allié aux Montmorency par les Rohans, одна из лучших фамилий Франции. Это один из хороших эмигрантов, из настоящих. И потом l'abbé Morio; вы знаете этот глубокий ум? Он был принят государем. Вы знаете?\n",
      "— А! Я очень рад буду, — сказал князь. — Скажите, — прибавил он, как будто только что вспомнив что-то и особенно-небрежно, тогда как то, о чем он спрашивал, было главной целью его посещения, — правда, что l'impératrice-mère желает назначения барона Функе первым секретарем в Вену? C'est un pauvre sire, ce baron, à ce qu'il paraît. — Князь Василий желал определить сына на это место, которое через императрицу Марию Феодоровну старались доставить барону.\n",
      "Анна Павловна почти закрыла глаза в знак того, что ни она, ни кто другой не могут судить про то, что угодно или нравится императрице.\n",
      "— Monsieur le baron de Funke a été recommandé à l'impératrice-mère par sa sur, — только сказала она грустным, сухим тоном. В то время как Анна Павловна назвала императрицу, лицо ее вдруг представило глубокое и искреннее выражение преданности и уважения, соединенное с грустью, что с ней бывало каждый раз, когда она в разговоре упоминала о своей высокой покровительнице. Она сказала, что ее величество изволила оказать барону Функе beaucoup d'estime, и опять взгляд ее подернулся грустью.\n",
      "Князь равнодушно замолк, Анна Павловна, с свойственною ей придворною и женскою ловкостью и быстротою такта, захотела и щелкануть князя за то, что он дерзнул так отозваться о лице, рекомендованном императрице, и в то же время утешить его.\n",
      "— Mais à propos de votre famille, — сказала она, — знаете ли, что ваша дочь, с тех пор как выезжает, fait les délices de tout le monde. On la trouve belle comme le jour.\n",
      "Князь наклонился в знак уважения и признательности.\n",
      "— Я часто думаю, — продолжала Анна Павловна после минутного молчания, придвигаясь к князю и ласково улыбаясь ему, как будто выказывая этим, что политические и светские разговоры кончены и теперь начинается задушевный, — я часто думаю, как иногда несправедливо распределяется счастие жизни. За что вам дала судьба таких двух славных детей (исключая Анатоля, вашего меньшого, я его не люблю, — вставила она безапелляционно, приподняв брови), — таких прелестных детей? А вы, право, менее всех цените их и потому их не сто́ите.\n",
      "И она улыбнулась своею восторженной улыбкой.\n",
      "— Que voulez-vous? Lafater aurait dit que je n'ai pas la bosse de la paternité, — сказал князь.\n",
      "— Перестаньте шутить. Я хотела серьезно поговорить с вами. Знаете, я недовольна вашим меньшим сыном. Между нами будь сказано (лицо ее приняло грустное выражение), о нем говорили у ее величества и жалеют вас...\n",
      "Князь не отвечал, но она молча, значительно глядя на него, ждала ответа. Князь Василий поморщился.\n",
      "— Что ж мне делать? — сказал он наконец. — Вы знаете, я сделал для их воспитания все, что может отец, и оба вышли des imbéciles. Ипполит, по крайней мере, покойный дурак, а Анатоль — беспокойный. Вот одно различие, — сказал он, улыбаясь более неестественно и одушевленно, чем обыкновенно, и при этом особенно резко выказывая в сложившихся около его рта морщинах что-то неожиданно-грубое и неприятное.\n",
      "— И зачем родятся дети у таких людей, как вы? Ежели бы вы не были отец, я бы ни в чем не могла упрекнуть вас, — сказала Анна Павловна, задумчиво поднимая глаза.\n",
      "— Je suis votre верный раб, et à vous seule je puis l'avouer. Мои дети — ce sont les entraves de mon existence. Это мой крест. Я так себе объясняю. Que voulez-vous?..— Он помолчал, выражая жестом свою покорность жестокой судьбе.\n",
      "Анна Павловна задумалась.\n",
      "— Вы никогда не думали о том, чтобы женить вашего блудного сына Анатоля. Говорят, — сказала она, — что старые девицы ont la manie des mariages. Я еще не чувствую за собою этой слабости, но у меня есть одна petite personne, которая очень несчастлива с отцом, une parente à nous, une princesse Болконская. — Князь Василий не отвечал, хотя с свойственной светским людям быстротой соображения и памятью движением головы показал, что он принял к соображению это сведенье.\n",
      "— Нет, вы знаете ли, что этот Анатоль мне стоит сорок тысяч в год, — сказал он, видимо не в силах удерживать печальный ход своих мыслей. Он помолчал.\n",
      "— Что будет через пять лет, ежели это пойдет так? Voilà l'avantage d'être père. Она богата, ваша княжна?\n",
      "— Отец очень богат и скуп. Он живет в деревне. Знаете, этот известный князь Болконский, отставленный еще при покойном императоре и прозванный прусским королем. Он очень умный человек, но со странностями и тяжелый. La pauvre petite est malheureuse comme les pierres. У нее брат, вот что недавно женился на Lise Мейнен, адъютант Кутузова. Он будет нынче у меня.\n",
      "— Ecoutez, chère Annette, — сказал князь, взяв вдруг свою собеседницу за руку и пригибая ее почему-то книзу. — Arrangez-moi cette affaire et je suis votre вернейший раб à tout jamais (рап — comme mon староста m'écrit des донесенья: покой-ер-п). Она хорошей фамилии и богата. Все, что мне нужно.\n",
      "И он с теми свободными и фамильярными грациозными движениями, которые его отличали, взял за руку фрейлину, поцеловал ее и, поцеловав, помахал фрейлинскою рукой, развалившись на креслах и глядя в сторону.\n",
      "— Attendez, — сказала Анна Павловна, соображая. — Я нынче же поговорю Lise (la femme du jeune Болконский). И, может быть, это уладится. Ce sera dans votre famille que je ferai mon apprentissage de vieille fille.\n"
     ]
    }
   ],
   "source": [
    "textpage=urlopen('http://www.pythonscraping.com/pages/warandpeace/chapter1-ru.txt')\n",
    "print(str(textpage.read(),'utf-8'))"
   ]
  },
  {
   "cell_type": "code",
   "execution_count": 2,
   "metadata": {
    "collapsed": true,
    "jupyter": {
     "outputs_hidden": true
    }
   },
   "outputs": [
    {
     "ename": "URLError",
     "evalue": "<urlopen error [WinError 10060] 由于连接方在一段时间后没有正确答复或连接的主机没有反应，连接尝试失败。>",
     "output_type": "error",
     "traceback": [
      "\u001b[1;31m------------------------------------------------------------\u001b[0m",
      "\u001b[1;31mTimeoutError\u001b[0m               Traceback (most recent call last)",
      "\u001b[1;32me:\\python3.9\\lib\\urllib\\request.py\u001b[0m in \u001b[0;36mdo_open\u001b[1;34m(self, http_class, req, **http_conn_args)\u001b[0m\n\u001b[0;32m   1341\u001b[0m             \u001b[1;32mtry\u001b[0m\u001b[1;33m:\u001b[0m\u001b[1;33m\u001b[0m\u001b[1;33m\u001b[0m\u001b[0m\n\u001b[1;32m-> 1342\u001b[1;33m                 h.request(req.get_method(), req.selector, req.data, headers,\n\u001b[0m\u001b[0;32m   1343\u001b[0m                           encode_chunked=req.has_header('Transfer-encoding'))\n",
      "\u001b[1;32me:\\python3.9\\lib\\http\\client.py\u001b[0m in \u001b[0;36mrequest\u001b[1;34m(self, method, url, body, headers, encode_chunked)\u001b[0m\n\u001b[0;32m   1254\u001b[0m         \u001b[1;34m\"\"\"Send a complete request to the server.\"\"\"\u001b[0m\u001b[1;33m\u001b[0m\u001b[1;33m\u001b[0m\u001b[0m\n\u001b[1;32m-> 1255\u001b[1;33m         \u001b[0mself\u001b[0m\u001b[1;33m.\u001b[0m\u001b[0m_send_request\u001b[0m\u001b[1;33m(\u001b[0m\u001b[0mmethod\u001b[0m\u001b[1;33m,\u001b[0m \u001b[0murl\u001b[0m\u001b[1;33m,\u001b[0m \u001b[0mbody\u001b[0m\u001b[1;33m,\u001b[0m \u001b[0mheaders\u001b[0m\u001b[1;33m,\u001b[0m \u001b[0mencode_chunked\u001b[0m\u001b[1;33m)\u001b[0m\u001b[1;33m\u001b[0m\u001b[1;33m\u001b[0m\u001b[0m\n\u001b[0m\u001b[0;32m   1256\u001b[0m \u001b[1;33m\u001b[0m\u001b[0m\n",
      "\u001b[1;32me:\\python3.9\\lib\\http\\client.py\u001b[0m in \u001b[0;36m_send_request\u001b[1;34m(self, method, url, body, headers, encode_chunked)\u001b[0m\n\u001b[0;32m   1300\u001b[0m             \u001b[0mbody\u001b[0m \u001b[1;33m=\u001b[0m \u001b[0m_encode\u001b[0m\u001b[1;33m(\u001b[0m\u001b[0mbody\u001b[0m\u001b[1;33m,\u001b[0m \u001b[1;34m'body'\u001b[0m\u001b[1;33m)\u001b[0m\u001b[1;33m\u001b[0m\u001b[1;33m\u001b[0m\u001b[0m\n\u001b[1;32m-> 1301\u001b[1;33m         \u001b[0mself\u001b[0m\u001b[1;33m.\u001b[0m\u001b[0mendheaders\u001b[0m\u001b[1;33m(\u001b[0m\u001b[0mbody\u001b[0m\u001b[1;33m,\u001b[0m \u001b[0mencode_chunked\u001b[0m\u001b[1;33m=\u001b[0m\u001b[0mencode_chunked\u001b[0m\u001b[1;33m)\u001b[0m\u001b[1;33m\u001b[0m\u001b[1;33m\u001b[0m\u001b[0m\n\u001b[0m\u001b[0;32m   1302\u001b[0m \u001b[1;33m\u001b[0m\u001b[0m\n",
      "\u001b[1;32me:\\python3.9\\lib\\http\\client.py\u001b[0m in \u001b[0;36mendheaders\u001b[1;34m(self, message_body, encode_chunked)\u001b[0m\n\u001b[0;32m   1249\u001b[0m             \u001b[1;32mraise\u001b[0m \u001b[0mCannotSendHeader\u001b[0m\u001b[1;33m(\u001b[0m\u001b[1;33m)\u001b[0m\u001b[1;33m\u001b[0m\u001b[1;33m\u001b[0m\u001b[0m\n\u001b[1;32m-> 1250\u001b[1;33m         \u001b[0mself\u001b[0m\u001b[1;33m.\u001b[0m\u001b[0m_send_output\u001b[0m\u001b[1;33m(\u001b[0m\u001b[0mmessage_body\u001b[0m\u001b[1;33m,\u001b[0m \u001b[0mencode_chunked\u001b[0m\u001b[1;33m=\u001b[0m\u001b[0mencode_chunked\u001b[0m\u001b[1;33m)\u001b[0m\u001b[1;33m\u001b[0m\u001b[1;33m\u001b[0m\u001b[0m\n\u001b[0m\u001b[0;32m   1251\u001b[0m \u001b[1;33m\u001b[0m\u001b[0m\n",
      "\u001b[1;32me:\\python3.9\\lib\\http\\client.py\u001b[0m in \u001b[0;36m_send_output\u001b[1;34m(self, message_body, encode_chunked)\u001b[0m\n\u001b[0;32m   1009\u001b[0m         \u001b[1;32mdel\u001b[0m \u001b[0mself\u001b[0m\u001b[1;33m.\u001b[0m\u001b[0m_buffer\u001b[0m\u001b[1;33m[\u001b[0m\u001b[1;33m:\u001b[0m\u001b[1;33m]\u001b[0m\u001b[1;33m\u001b[0m\u001b[1;33m\u001b[0m\u001b[0m\n\u001b[1;32m-> 1010\u001b[1;33m         \u001b[0mself\u001b[0m\u001b[1;33m.\u001b[0m\u001b[0msend\u001b[0m\u001b[1;33m(\u001b[0m\u001b[0mmsg\u001b[0m\u001b[1;33m)\u001b[0m\u001b[1;33m\u001b[0m\u001b[1;33m\u001b[0m\u001b[0m\n\u001b[0m\u001b[0;32m   1011\u001b[0m \u001b[1;33m\u001b[0m\u001b[0m\n",
      "\u001b[1;32me:\\python3.9\\lib\\http\\client.py\u001b[0m in \u001b[0;36msend\u001b[1;34m(self, data)\u001b[0m\n\u001b[0;32m    949\u001b[0m             \u001b[1;32mif\u001b[0m \u001b[0mself\u001b[0m\u001b[1;33m.\u001b[0m\u001b[0mauto_open\u001b[0m\u001b[1;33m:\u001b[0m\u001b[1;33m\u001b[0m\u001b[1;33m\u001b[0m\u001b[0m\n\u001b[1;32m--> 950\u001b[1;33m                 \u001b[0mself\u001b[0m\u001b[1;33m.\u001b[0m\u001b[0mconnect\u001b[0m\u001b[1;33m(\u001b[0m\u001b[1;33m)\u001b[0m\u001b[1;33m\u001b[0m\u001b[1;33m\u001b[0m\u001b[0m\n\u001b[0m\u001b[0;32m    951\u001b[0m             \u001b[1;32melse\u001b[0m\u001b[1;33m:\u001b[0m\u001b[1;33m\u001b[0m\u001b[1;33m\u001b[0m\u001b[0m\n",
      "\u001b[1;32me:\\python3.9\\lib\\http\\client.py\u001b[0m in \u001b[0;36mconnect\u001b[1;34m(self)\u001b[0m\n\u001b[0;32m    920\u001b[0m         \u001b[1;34m\"\"\"Connect to the host and port specified in __init__.\"\"\"\u001b[0m\u001b[1;33m\u001b[0m\u001b[1;33m\u001b[0m\u001b[0m\n\u001b[1;32m--> 921\u001b[1;33m         self.sock = self._create_connection(\n\u001b[0m\u001b[0;32m    922\u001b[0m             (self.host,self.port), self.timeout, self.source_address)\n",
      "\u001b[1;32me:\\python3.9\\lib\\socket.py\u001b[0m in \u001b[0;36mcreate_connection\u001b[1;34m(address, timeout, source_address)\u001b[0m\n\u001b[0;32m    842\u001b[0m         \u001b[1;32mtry\u001b[0m\u001b[1;33m:\u001b[0m\u001b[1;33m\u001b[0m\u001b[1;33m\u001b[0m\u001b[0m\n\u001b[1;32m--> 843\u001b[1;33m             \u001b[1;32mraise\u001b[0m \u001b[0merr\u001b[0m\u001b[1;33m\u001b[0m\u001b[1;33m\u001b[0m\u001b[0m\n\u001b[0m\u001b[0;32m    844\u001b[0m         \u001b[1;32mfinally\u001b[0m\u001b[1;33m:\u001b[0m\u001b[1;33m\u001b[0m\u001b[1;33m\u001b[0m\u001b[0m\n",
      "\u001b[1;32me:\\python3.9\\lib\\socket.py\u001b[0m in \u001b[0;36mcreate_connection\u001b[1;34m(address, timeout, source_address)\u001b[0m\n\u001b[0;32m    830\u001b[0m                 \u001b[0msock\u001b[0m\u001b[1;33m.\u001b[0m\u001b[0mbind\u001b[0m\u001b[1;33m(\u001b[0m\u001b[0msource_address\u001b[0m\u001b[1;33m)\u001b[0m\u001b[1;33m\u001b[0m\u001b[1;33m\u001b[0m\u001b[0m\n\u001b[1;32m--> 831\u001b[1;33m             \u001b[0msock\u001b[0m\u001b[1;33m.\u001b[0m\u001b[0mconnect\u001b[0m\u001b[1;33m(\u001b[0m\u001b[0msa\u001b[0m\u001b[1;33m)\u001b[0m\u001b[1;33m\u001b[0m\u001b[1;33m\u001b[0m\u001b[0m\n\u001b[0m\u001b[0;32m    832\u001b[0m             \u001b[1;31m# Break explicitly a reference cycle\u001b[0m\u001b[1;33m\u001b[0m\u001b[1;33m\u001b[0m\u001b[1;33m\u001b[0m\u001b[0m\n",
      "\u001b[1;31mTimeoutError\u001b[0m: [WinError 10060] 由于连接方在一段时间后没有正确答复或连接的主机没有反应，连接尝试失败。",
      "\nDuring handling of the above exception, another exception occurred:\n",
      "\u001b[1;31mURLError\u001b[0m                   Traceback (most recent call last)",
      "\u001b[1;32m<ipython-input-2-52187635bcd9>\u001b[0m in \u001b[0;36m<module>\u001b[1;34m\u001b[0m\n\u001b[1;32m----> 1\u001b[1;33m \u001b[0mhtml\u001b[0m\u001b[1;33m=\u001b[0m\u001b[0murlopen\u001b[0m\u001b[1;33m(\u001b[0m\u001b[1;34m'http://en.wikipedia.org/wiki/Python_(programming_language)'\u001b[0m\u001b[1;33m)\u001b[0m\u001b[1;33m\u001b[0m\u001b[1;33m\u001b[0m\u001b[0m\n\u001b[0m\u001b[0;32m      2\u001b[0m \u001b[0mbsObj\u001b[0m\u001b[1;33m=\u001b[0m\u001b[0mBeautifulSoup\u001b[0m\u001b[1;33m(\u001b[0m\u001b[0mhtml\u001b[0m\u001b[1;33m)\u001b[0m\u001b[1;33m\u001b[0m\u001b[1;33m\u001b[0m\u001b[0m\n\u001b[0;32m      3\u001b[0m \u001b[0mcontent\u001b[0m\u001b[1;33m=\u001b[0m\u001b[0mbsObj\u001b[0m\u001b[1;33m.\u001b[0m\u001b[0mfind\u001b[0m\u001b[1;33m(\u001b[0m\u001b[1;34m'div'\u001b[0m\u001b[1;33m,\u001b[0m\u001b[1;33m{\u001b[0m\u001b[1;34m'id'\u001b[0m\u001b[1;33m,\u001b[0m\u001b[1;34m'mw-content-text'\u001b[0m\u001b[1;33m}\u001b[0m\u001b[1;33m)\u001b[0m\u001b[1;33m.\u001b[0m\u001b[0mget_text\u001b[0m\u001b[1;33m(\u001b[0m\u001b[1;33m)\u001b[0m\u001b[1;33m\u001b[0m\u001b[1;33m\u001b[0m\u001b[0m\n\u001b[0;32m      4\u001b[0m \u001b[0mcontent\u001b[0m\u001b[1;33m=\u001b[0m\u001b[0mbytes\u001b[0m\u001b[1;33m(\u001b[0m\u001b[0mcontent\u001b[0m\u001b[1;33m,\u001b[0m\u001b[1;34m'utf-8'\u001b[0m\u001b[1;33m)\u001b[0m\u001b[1;33m\u001b[0m\u001b[1;33m\u001b[0m\u001b[0m\n\u001b[0;32m      5\u001b[0m \u001b[0mcontent\u001b[0m\u001b[1;33m=\u001b[0m\u001b[0mcontent\u001b[0m\u001b[1;33m.\u001b[0m\u001b[0mdecode\u001b[0m\u001b[1;33m(\u001b[0m\u001b[1;34m'utf-8'\u001b[0m\u001b[1;33m)\u001b[0m\u001b[1;33m\u001b[0m\u001b[1;33m\u001b[0m\u001b[0m\n",
      "\u001b[1;32me:\\python3.9\\lib\\urllib\\request.py\u001b[0m in \u001b[0;36murlopen\u001b[1;34m(url, data, timeout, cafile, capath, cadefault, context)\u001b[0m\n\u001b[0;32m    212\u001b[0m     \u001b[1;32melse\u001b[0m\u001b[1;33m:\u001b[0m\u001b[1;33m\u001b[0m\u001b[1;33m\u001b[0m\u001b[0m\n\u001b[0;32m    213\u001b[0m         \u001b[0mopener\u001b[0m \u001b[1;33m=\u001b[0m \u001b[0m_opener\u001b[0m\u001b[1;33m\u001b[0m\u001b[1;33m\u001b[0m\u001b[0m\n\u001b[1;32m--> 214\u001b[1;33m     \u001b[1;32mreturn\u001b[0m \u001b[0mopener\u001b[0m\u001b[1;33m.\u001b[0m\u001b[0mopen\u001b[0m\u001b[1;33m(\u001b[0m\u001b[0murl\u001b[0m\u001b[1;33m,\u001b[0m \u001b[0mdata\u001b[0m\u001b[1;33m,\u001b[0m \u001b[0mtimeout\u001b[0m\u001b[1;33m)\u001b[0m\u001b[1;33m\u001b[0m\u001b[1;33m\u001b[0m\u001b[0m\n\u001b[0m\u001b[0;32m    215\u001b[0m \u001b[1;33m\u001b[0m\u001b[0m\n\u001b[0;32m    216\u001b[0m \u001b[1;32mdef\u001b[0m \u001b[0minstall_opener\u001b[0m\u001b[1;33m(\u001b[0m\u001b[0mopener\u001b[0m\u001b[1;33m)\u001b[0m\u001b[1;33m:\u001b[0m\u001b[1;33m\u001b[0m\u001b[1;33m\u001b[0m\u001b[0m\n",
      "\u001b[1;32me:\\python3.9\\lib\\urllib\\request.py\u001b[0m in \u001b[0;36mopen\u001b[1;34m(self, fullurl, data, timeout)\u001b[0m\n\u001b[0;32m    515\u001b[0m \u001b[1;33m\u001b[0m\u001b[0m\n\u001b[0;32m    516\u001b[0m         \u001b[0msys\u001b[0m\u001b[1;33m.\u001b[0m\u001b[0maudit\u001b[0m\u001b[1;33m(\u001b[0m\u001b[1;34m'urllib.Request'\u001b[0m\u001b[1;33m,\u001b[0m \u001b[0mreq\u001b[0m\u001b[1;33m.\u001b[0m\u001b[0mfull_url\u001b[0m\u001b[1;33m,\u001b[0m \u001b[0mreq\u001b[0m\u001b[1;33m.\u001b[0m\u001b[0mdata\u001b[0m\u001b[1;33m,\u001b[0m \u001b[0mreq\u001b[0m\u001b[1;33m.\u001b[0m\u001b[0mheaders\u001b[0m\u001b[1;33m,\u001b[0m \u001b[0mreq\u001b[0m\u001b[1;33m.\u001b[0m\u001b[0mget_method\u001b[0m\u001b[1;33m(\u001b[0m\u001b[1;33m)\u001b[0m\u001b[1;33m)\u001b[0m\u001b[1;33m\u001b[0m\u001b[1;33m\u001b[0m\u001b[0m\n\u001b[1;32m--> 517\u001b[1;33m         \u001b[0mresponse\u001b[0m \u001b[1;33m=\u001b[0m \u001b[0mself\u001b[0m\u001b[1;33m.\u001b[0m\u001b[0m_open\u001b[0m\u001b[1;33m(\u001b[0m\u001b[0mreq\u001b[0m\u001b[1;33m,\u001b[0m \u001b[0mdata\u001b[0m\u001b[1;33m)\u001b[0m\u001b[1;33m\u001b[0m\u001b[1;33m\u001b[0m\u001b[0m\n\u001b[0m\u001b[0;32m    518\u001b[0m \u001b[1;33m\u001b[0m\u001b[0m\n\u001b[0;32m    519\u001b[0m         \u001b[1;31m# post-process response\u001b[0m\u001b[1;33m\u001b[0m\u001b[1;33m\u001b[0m\u001b[1;33m\u001b[0m\u001b[0m\n",
      "\u001b[1;32me:\\python3.9\\lib\\urllib\\request.py\u001b[0m in \u001b[0;36m_open\u001b[1;34m(self, req, data)\u001b[0m\n\u001b[0;32m    532\u001b[0m \u001b[1;33m\u001b[0m\u001b[0m\n\u001b[0;32m    533\u001b[0m         \u001b[0mprotocol\u001b[0m \u001b[1;33m=\u001b[0m \u001b[0mreq\u001b[0m\u001b[1;33m.\u001b[0m\u001b[0mtype\u001b[0m\u001b[1;33m\u001b[0m\u001b[1;33m\u001b[0m\u001b[0m\n\u001b[1;32m--> 534\u001b[1;33m         result = self._call_chain(self.handle_open, protocol, protocol +\n\u001b[0m\u001b[0;32m    535\u001b[0m                                   '_open', req)\n\u001b[0;32m    536\u001b[0m         \u001b[1;32mif\u001b[0m \u001b[0mresult\u001b[0m\u001b[1;33m:\u001b[0m\u001b[1;33m\u001b[0m\u001b[1;33m\u001b[0m\u001b[0m\n",
      "\u001b[1;32me:\\python3.9\\lib\\urllib\\request.py\u001b[0m in \u001b[0;36m_call_chain\u001b[1;34m(self, chain, kind, meth_name, *args)\u001b[0m\n\u001b[0;32m    492\u001b[0m         \u001b[1;32mfor\u001b[0m \u001b[0mhandler\u001b[0m \u001b[1;32min\u001b[0m \u001b[0mhandlers\u001b[0m\u001b[1;33m:\u001b[0m\u001b[1;33m\u001b[0m\u001b[1;33m\u001b[0m\u001b[0m\n\u001b[0;32m    493\u001b[0m             \u001b[0mfunc\u001b[0m \u001b[1;33m=\u001b[0m \u001b[0mgetattr\u001b[0m\u001b[1;33m(\u001b[0m\u001b[0mhandler\u001b[0m\u001b[1;33m,\u001b[0m \u001b[0mmeth_name\u001b[0m\u001b[1;33m)\u001b[0m\u001b[1;33m\u001b[0m\u001b[1;33m\u001b[0m\u001b[0m\n\u001b[1;32m--> 494\u001b[1;33m             \u001b[0mresult\u001b[0m \u001b[1;33m=\u001b[0m \u001b[0mfunc\u001b[0m\u001b[1;33m(\u001b[0m\u001b[1;33m*\u001b[0m\u001b[0margs\u001b[0m\u001b[1;33m)\u001b[0m\u001b[1;33m\u001b[0m\u001b[1;33m\u001b[0m\u001b[0m\n\u001b[0m\u001b[0;32m    495\u001b[0m             \u001b[1;32mif\u001b[0m \u001b[0mresult\u001b[0m \u001b[1;32mis\u001b[0m \u001b[1;32mnot\u001b[0m \u001b[1;32mNone\u001b[0m\u001b[1;33m:\u001b[0m\u001b[1;33m\u001b[0m\u001b[1;33m\u001b[0m\u001b[0m\n\u001b[0;32m    496\u001b[0m                 \u001b[1;32mreturn\u001b[0m \u001b[0mresult\u001b[0m\u001b[1;33m\u001b[0m\u001b[1;33m\u001b[0m\u001b[0m\n",
      "\u001b[1;32me:\\python3.9\\lib\\urllib\\request.py\u001b[0m in \u001b[0;36mhttp_open\u001b[1;34m(self, req)\u001b[0m\n\u001b[0;32m   1369\u001b[0m \u001b[1;33m\u001b[0m\u001b[0m\n\u001b[0;32m   1370\u001b[0m     \u001b[1;32mdef\u001b[0m \u001b[0mhttp_open\u001b[0m\u001b[1;33m(\u001b[0m\u001b[0mself\u001b[0m\u001b[1;33m,\u001b[0m \u001b[0mreq\u001b[0m\u001b[1;33m)\u001b[0m\u001b[1;33m:\u001b[0m\u001b[1;33m\u001b[0m\u001b[1;33m\u001b[0m\u001b[0m\n\u001b[1;32m-> 1371\u001b[1;33m         \u001b[1;32mreturn\u001b[0m \u001b[0mself\u001b[0m\u001b[1;33m.\u001b[0m\u001b[0mdo_open\u001b[0m\u001b[1;33m(\u001b[0m\u001b[0mhttp\u001b[0m\u001b[1;33m.\u001b[0m\u001b[0mclient\u001b[0m\u001b[1;33m.\u001b[0m\u001b[0mHTTPConnection\u001b[0m\u001b[1;33m,\u001b[0m \u001b[0mreq\u001b[0m\u001b[1;33m)\u001b[0m\u001b[1;33m\u001b[0m\u001b[1;33m\u001b[0m\u001b[0m\n\u001b[0m\u001b[0;32m   1372\u001b[0m \u001b[1;33m\u001b[0m\u001b[0m\n\u001b[0;32m   1373\u001b[0m     \u001b[0mhttp_request\u001b[0m \u001b[1;33m=\u001b[0m \u001b[0mAbstractHTTPHandler\u001b[0m\u001b[1;33m.\u001b[0m\u001b[0mdo_request_\u001b[0m\u001b[1;33m\u001b[0m\u001b[1;33m\u001b[0m\u001b[0m\n",
      "\u001b[1;32me:\\python3.9\\lib\\urllib\\request.py\u001b[0m in \u001b[0;36mdo_open\u001b[1;34m(self, http_class, req, **http_conn_args)\u001b[0m\n\u001b[0;32m   1343\u001b[0m                           encode_chunked=req.has_header('Transfer-encoding'))\n\u001b[0;32m   1344\u001b[0m             \u001b[1;32mexcept\u001b[0m \u001b[0mOSError\u001b[0m \u001b[1;32mas\u001b[0m \u001b[0merr\u001b[0m\u001b[1;33m:\u001b[0m \u001b[1;31m# timeout error\u001b[0m\u001b[1;33m\u001b[0m\u001b[1;33m\u001b[0m\u001b[0m\n\u001b[1;32m-> 1345\u001b[1;33m                 \u001b[1;32mraise\u001b[0m \u001b[0mURLError\u001b[0m\u001b[1;33m(\u001b[0m\u001b[0merr\u001b[0m\u001b[1;33m)\u001b[0m\u001b[1;33m\u001b[0m\u001b[1;33m\u001b[0m\u001b[0m\n\u001b[0m\u001b[0;32m   1346\u001b[0m             \u001b[0mr\u001b[0m \u001b[1;33m=\u001b[0m \u001b[0mh\u001b[0m\u001b[1;33m.\u001b[0m\u001b[0mgetresponse\u001b[0m\u001b[1;33m(\u001b[0m\u001b[1;33m)\u001b[0m\u001b[1;33m\u001b[0m\u001b[1;33m\u001b[0m\u001b[0m\n\u001b[0;32m   1347\u001b[0m         \u001b[1;32mexcept\u001b[0m\u001b[1;33m:\u001b[0m\u001b[1;33m\u001b[0m\u001b[1;33m\u001b[0m\u001b[0m\n",
      "\u001b[1;31mURLError\u001b[0m: <urlopen error [WinError 10060] 由于连接方在一段时间后没有正确答复或连接的主机没有反应，连接尝试失败。>"
     ]
    }
   ],
   "source": [
    "html=urlopen('http://en.wikipedia.org/wiki/Python_(programming_language)')\n",
    "bsObj=BeautifulSoup(html)\n",
    "content=bsObj.find('div',{'id','mw-content-text'}).get_text()\n",
    "content=bytes(content,'utf-8')\n",
    "content=content.decode('utf-8')"
   ]
  },
  {
   "cell_type": "code",
   "execution_count": 9,
   "metadata": {
    "collapsed": true,
    "jupyter": {
     "outputs_hidden": true
    }
   },
   "outputs": [
    {
     "name": "stdout",
     "output_type": "stream",
     "text": [
      "['Name', 'Year']\n",
      "[\"Monty Python's Flying Circus\", '1970']\n",
      "['Another Monty Python Record', '1971']\n",
      "[\"Monty Python's Previous Record\", '1972']\n",
      "['The Monty Python Matching Tie and Handkerchief', '1973']\n",
      "['Monty Python Live at Drury Lane', '1974']\n",
      "['An Album of the Soundtrack of the Trailer of the Film of Monty Python and the Holy Grail', '1975']\n",
      "['Monty Python Live at City Center', '1977']\n",
      "['The Monty Python Instant Record Collection', '1977']\n",
      "[\"Monty Python's Life of Brian\", '1979']\n",
      "[\"Monty Python's Cotractual Obligation Album\", '1980']\n",
      "[\"Monty Python's The Meaning of Life\", '1983']\n",
      "['The Final Rip Off', '1987']\n",
      "['Monty Python Sings', '1989']\n",
      "['The Ultimate Monty Python Rip Off', '1994']\n",
      "['Monty Python Sings Again', '2014']\n"
     ]
    }
   ],
   "source": [
    "from io import StringIO\n",
    "import csv\n",
    "data=urlopen('http://pythonscraping.com/files/MontyPythonAlbums.csv').read().decode('ascii','ignore')\n",
    "dataFile=StringIO(data)\n",
    "csvReader=csv.reader(dataFile)\n",
    "\n",
    "for row in csvReader:\n",
    "    print(row)\n",
    "\n",
    "# csv.DictReader(dataFile)\n"
   ]
  },
  {
   "cell_type": "code",
   "execution_count": 10,
   "metadata": {
    "collapsed": true,
    "jupyter": {
     "outputs_hidden": true
    }
   },
   "outputs": [
    {
     "name": "stdout",
     "output_type": "stream",
     "text": [
      "CHAPTER I\n",
      "\n",
      "\"Well, Prince, so Genoa and Lucca are now just family estates of \n",
      "theBuonapartes. But I warn you, if you don't tell me that this \n",
      "means war,if you still try to defend the infamies and horrors \n",
      "perpetrated bythat Antichrist- I really believe he is Antichrist- I will \n",
      "havenothing more to do with you and you are no longer my friend, \n",
      "no longermy 'faithful slave,' as you call yourself! But how do you \n",
      "do? I seeI have frightened you- sit down and tell me all the news.\"\n",
      "\n",
      "It was in July, 1805, and the speaker was the well-known \n",
      "AnnaPavlovna Scherer, maid of honor and favorite of the \n",
      "Empress MaryaFedorovna. With these words she greeted Prince \n",
      "Vasili Kuragin, a manof high rank and importance, who was the \n",
      "first to arrive at herreception. Anna Pavlovna had had a cough for \n",
      "some days. She was, asshe said, suffering from la grippe; grippe \n",
      "being then a new word inSt. Petersburg, used only by the elite.\n",
      "\n",
      "All her invitations without exception, written in French, \n",
      "anddelivered by a scarlet-liveried footman that morning, ran as \n",
      "follows:\n",
      "\n",
      "\"If you have nothing better to do, Count [or Prince], and if \n",
      "theprospect of spending an evening with a poor invalid is not \n",
      "tooterrible, I shall be very charmed to see you tonight between 7 \n",
      "and 10-Annette Scherer.\"\n",
      "\n",
      "\"Heavens! what a virulent attack!\" replied the prince, not in \n",
      "theleast disconcerted by this reception. He had just entered, \n",
      "wearingan embroidered court uniform, knee breeches, and shoes, \n",
      "and hadstars on his breast and a serene expression on his flat \n",
      "face. He spokein that refined French in which our grandfathers \n",
      "not only spoke butthought, and with the gentle, patronizing \n",
      "intonation natural to aman of importance who had grown old in \n",
      "society and at court. He wentup to Anna Pavlovna, kissed her \n",
      "hand, presenting to her his bald,scented, and shining head, and \n",
      "\n",
      "\f",
      "complacently seated himself on thesofa.\n",
      "\n",
      "\"First of all, dear friend, tell me how you are. Set your friend'smind \n",
      "at rest,\" said he without altering his tone, beneath thepoliteness \n",
      "and affected sympathy of which indifference and evenirony could \n",
      "be discerned.\n",
      "\n",
      "\"Can one be well while suffering morally? Can one be calm in \n",
      "timeslike these if one has any feeling?\" said Anna Pavlovna. \"You \n",
      "arestaying the whole evening, I hope?\"\n",
      "\n",
      "\"And the fete at the English ambassador's? Today is Wednesday. \n",
      "Imust put in an appearance there,\" said the prince. \"My daughter \n",
      "iscoming for me to take me there.\"\n",
      "\n",
      "\"I thought today's fete had been canceled. I confess all \n",
      "thesefestivities and fireworks are becoming wearisome.\"\n",
      "\n",
      "\"If they had known that you wished it, the entertainment \n",
      "wouldhave been put off,\" said the prince, who, like a wound-up \n",
      "clock, byforce of habit said things he did not even wish to be \n",
      "believed.\n",
      "\n",
      "\"Don't tease! Well, and what has been decided about \n",
      "Novosiltsev'sdispatch? You know everything.\"\n",
      "\n",
      "\"What can one say about it?\" replied the prince in a cold,listless \n",
      "tone. \"What has been decided? They have decided \n",
      "thatBuonaparte has burnt his boats, and I believe that we are \n",
      "ready toburn ours.\"\n",
      "\n",
      "Prince Vasili always spoke languidly, like an actor repeating astale \n",
      "part. Anna Pavlovna Scherer on the contrary, despite her \n",
      "fortyyears, overflowed with animation and impulsiveness. To be \n",
      "anenthusiast had become her social vocation and, sometimes \n",
      "even when shedid not feel like it, she became enthusiastic in \n",
      "\n",
      "\f",
      "order not todisappoint the expectations of those who knew her. \n",
      "The subdued smilewhich, though it did not suit her faded features, \n",
      "always playedround her lips expressed, as in a spoiled child, a \n",
      "continualconsciousness of her charming defect, which she neither \n",
      "wished, norcould, nor considered it necessary, to correct.\n",
      "\n",
      "In the midst of a conversation on political matters Anna \n",
      "Pavlovnaburst out:\n",
      "\n",
      "\"Oh, don't speak to me of Austria. Perhaps I don't \n",
      "understandthings, but Austria never has wished, and does not \n",
      "wish, for war.She is betraying us! Russia alone must save \n",
      "Europe. Our gracioussovereign recognizes his high vocation and \n",
      "will be true to it. That isthe one thing I have faith in! Our good and \n",
      "wonderful sovereign has toperform the noblest role on earth, and \n",
      "he is so virtuous and noblethat God will not forsake him. He will \n",
      "fulfill his vocation andcrush the hydra of revolution, which has \n",
      "become more terrible thanever in the person of this murderer and \n",
      "villain! We alone mustavenge the blood of the just one.... Whom, I \n",
      "ask you, can we relyon?... England with her commercial spirit will \n",
      "not and cannotunderstand the Emperor Alexander's loftiness of \n",
      "soul. She hasrefused to evacuate Malta. She wanted to find, and \n",
      "still seeks, somesecret motive in our actions. What answer did \n",
      "Novosiltsev get? None.The English have not understood and \n",
      "cannot understand theself-abnegation of our Emperor who wants \n",
      "nothing for himself, but onlydesires the good of mankind. And \n",
      "what have they promised? Nothing! Andwhat little they have \n",
      "promised they will not perform! Prussia hasalways declared that \n",
      "Buonaparte is invincible, and that all Europeis powerless before \n",
      "him.... And I don't believe a word that Hardenburgsays, or \n",
      "Haugwitz either. This famous Prussian neutrality is just atrap. I \n",
      "have faith only in God and the lofty destiny of our adoredmonarch. \n",
      "He will save Europe!\"\n",
      "\n",
      "She suddenly paused, smiling at her own impetuosity.\n",
      "\n",
      "\f",
      "\"I think,\" said the prince with a smile, \"that if you had beensent \n",
      "instead of our dear Wintzingerode you would have captured \n",
      "theKing of Prussia's consent by assault. You are so eloquent. Will \n",
      "yougive me a cup of tea?\"\n",
      "\n",
      "\"In a moment. A propos,\" she added, becoming calm again, \"I \n",
      "amexpecting two very interesting men tonight, le Vicomte de \n",
      "Mortemart,who is connected with the Montmorencys through the \n",
      "Rohans, one ofthe best French families. He is one of the genuine \n",
      "emigres, the goodones. And also the Abbe Morio. Do you know \n",
      "that profound thinker? Hehas been received by the Emperor. Had \n",
      "you heard?\"\n",
      "\n",
      "\"I shall be delighted to meet them,\" said the prince. \"But tell \n",
      "me,\"he added with studied carelessness as if it had only just \n",
      "occurredto him, though the question he was about to ask was the \n",
      "chief motiveof his visit, \"is it true that the Dowager Empress wants \n",
      "Baron Funketo be appointed first secretary at Vienna? The baron \n",
      "by all accountsis a poor creature.\"\n",
      "\n",
      "Prince Vasili wished to obtain this post for his son, but otherswere \n",
      "trying through the Dowager Empress Marya Fedorovna to secure \n",
      "itfor the baron.\n",
      "\n",
      "Anna Pavlovna almost closed her eyes to indicate that neither \n",
      "shenor anyone else had a right to criticize what the Empress \n",
      "desired orwas pleased with.\n",
      "\n",
      "\"Baron Funke has been recommended to the Dowager Empress \n",
      "by hersister,\" was all she said, in a dry and mournful tone.\n",
      "\n",
      "As she named the Empress, Anna Pavlovna's face suddenly \n",
      "assumed anexpression of profound and sincere devotion and \n",
      "respect mingled withsadness, and this occurred every time she \n",
      "mentioned her illustriouspatroness. She added that Her Majesty \n",
      "had deigned to show BaronFunke beaucoup d'estime, and again \n",
      "\n",
      "\f",
      "her face clouded over with sadness.\n",
      "\n",
      "The prince was silent and looked indifferent. But, with thewomanly \n",
      "and courtierlike quickness and tact habitual to her, AnnaPavlovna \n",
      "wished both to rebuke him (for daring to speak he had done ofa \n",
      "man recommended to the Empress) and at the same time to \n",
      "console him,so she said:\n",
      "\n",
      "\"Now about your family. Do you know that since your daughter \n",
      "cameout everyone has been enraptured by her? They say she is \n",
      "amazinglybeautiful.\"\n",
      "\n",
      "The prince bowed to signify his respect and gratitude.\n",
      "\n",
      "\"I often think,\" she continued after a short pause, drawing \n",
      "nearerto the prince and smiling amiably at him as if to show \n",
      "thatpolitical and social topics were ended and the time had come \n",
      "forintimate conversation- \"I often think how unfairly sometimes \n",
      "thejoys of life are distributed. Why has fate given you two such \n",
      "splendidchildren? I don't speak of Anatole, your youngest. I don't \n",
      "likehim,\" she added in a tone admitting of no rejoinder and raising \n",
      "hereyebrows. \"Two such charming children. And really you \n",
      "appreciatethem less than anyone, and so you don't deserve to \n",
      "have them.\"\n",
      "\n",
      "And she smiled her ecstatic smile.\n",
      "\n",
      "\"I can't help it,\" said the prince. \"Lavater would have said Ilack the \n",
      "bump of paternity.\"\n",
      "\n",
      "\"Don't joke; I mean to have a serious talk with you. Do you know \n",
      "Iam dissatisfied with your younger son? Between ourselves\" (and \n",
      "herface assumed its melancholy expression), \"he was mentioned \n",
      "at HerMajesty's and you were pitied....\"\n",
      "\n",
      "The prince answered nothing, but she looked at him \n",
      "\n",
      "\f",
      "significantly,awaiting a reply. He frowned.\n",
      "\n",
      "\"What would you have me do?\" he said at last. \"You know I did \n",
      "alla father could for their education, and they have both turned \n",
      "outfools. Hippolyte is at least a quiet fool, but Anatole is an \n",
      "activeone. That is the only difference between them.\" He said this \n",
      "smilingin a way more natural and animated than usual, so that the \n",
      "wrinklesround his mouth very clearly revealed something \n",
      "unexpectedly coarseand unpleasant.\n",
      "\n",
      "\"And why are children born to such men as you? If you were not \n",
      "afather there would be nothing I could reproach you with,\" said \n",
      "AnnaPavlovna, looking up pensively.\n",
      "\n",
      "\"I am your faithful slave and to you alone I can confess that \n",
      "mychildren are the bane of my life. It is the cross I have to bear. \n",
      "Thatis how I explain it to myself. It can't be helped!\"\n",
      "\n",
      "He said no more, but expressed his resignation to cruel fate by \n",
      "agesture. Anna Pavlovna meditated.\n",
      "\n",
      "\"Have you never thought of marrying your prodigal son \n",
      "Anatole?\"she asked. \"They say old maids have a mania for \n",
      "matchmaking, andthough I don't feel that weakness in myself as \n",
      "yet,I know a littleperson who is very unhappy with her father. She \n",
      "is a relation ofyours, Princess Mary Bolkonskaya.\"\n",
      "\n",
      "Prince Vasili did not reply, though, with the quickness of \n",
      "memoryand perception befitting a man of the world, he indicated \n",
      "by amovement of the head that he was considering this \n",
      "information.\n",
      "\n",
      "\"Do you know,\" he said at last, evidently unable to check the \n",
      "sadcurrent of his thoughts, \"that Anatole is costing me forty \n",
      "thousandrubles a year? And,\" he went on after a pause, \"what will \n",
      "it be infive years, if he goes on like this?\" Presently he added: \n",
      "\n",
      "\f",
      "\"That's whatwe fathers have to put up with.... Is this princess of \n",
      "yours rich?\"\n",
      "\n",
      "\"Her father is very rich and stingy. He lives in the country. Heis the \n",
      "well-known Prince Bolkonski who had to retire from the \n",
      "armyunder the late Emperor, and was nicknamed 'the King of \n",
      "Prussia.' He isvery clever but eccentric, and a bore. The poor girl \n",
      "is veryunhappy. She has a brother; I think you know him, he \n",
      "married LiseMeinen lately. He is an aide-de-camp of Kutuzov's \n",
      "and will be heretonight.\"\n",
      "\n",
      "\"Listen, dear Annette,\" said the prince, suddenly taking \n",
      "AnnaPavlovna's hand and for some reason drawing it \n",
      "downwards. \"Arrangethat affair for me and I shall always be your \n",
      "most devoted slave-slafe wigh an f, as a village elder of mine \n",
      "writes in his reports. Sheis rich and of good family and that's all I \n",
      "want.\"\n",
      "\n",
      "And with the familiarity and easy grace peculiar to him, he \n",
      "raisedthe maid of honor's hand to his lips, kissed it, and swung it \n",
      "to andfro as he lay back in his armchair, looking in another \n",
      "direction.\n",
      "\n",
      "\"Attendez,\" said Anna Pavlovna, reflecting, \"I'll speak to \n",
      "Lise,young Bolkonski's wife, this very evening, and perhaps the \n",
      "thing canbe arranged. It shall be on your family's behalf that I'll \n",
      "start myapprenticeship as old maid.\"\n",
      "\n",
      "\f",
      "\n"
     ]
    }
   ],
   "source": [
    "from pdfminer.pdfinterp import PDFResourceManager,process_pdf\n",
    "from pdfminer.converter import TextConverter\n",
    "from pdfminer.layout import LAParams\n",
    "from io import StringIO\n",
    "from io import open\n",
    "\n",
    "def readPDF(pdfFile):\n",
    "    rsrcmgr=PDFResourceManager()\n",
    "    retstr=StringIO()\n",
    "    laparams=LAParams()\n",
    "    device=TextConverter(rsrcmgr,retstr,laparams=laparams)\n",
    "    \n",
    "    process_pdf(rsrcmgr,device,pdfFile)\n",
    "    device.close()\n",
    "    content=retstr.getvalue()\n",
    "    retstr.close()\n",
    "    return content\n",
    "\n",
    "pdfFile=urlopen('http://pythonscraping.com/pages/warandpeace/chapter1.pdf')\n",
    "outputstring=readPDF(pdfFile)\n",
    "print(outputstring)\n",
    "pdfFile.close()"
   ]
  },
  {
   "cell_type": "code",
   "execution_count": 14,
   "metadata": {
    "collapsed": true,
    "jupyter": {
     "outputs_hidden": true
    }
   },
   "outputs": [
    {
     "name": "stdout",
     "output_type": "stream",
     "text": [
      "A Word Document on a Website\n",
      "\n",
      "This is a Word document, full of content that you want very much. Unfortunately, it’s difficult to access because I’m putting it on my website as a .\n",
      "\n",
      "docx\n",
      "\n",
      " file, rather than just publishing it as HTML\n",
      "\n"
     ]
    }
   ],
   "source": [
    "from zipfile import ZipFile\n",
    "from io import BytesIO\n",
    "wordfile=urlopen('http://pythonscraping.com/pages/AWordDocument.docx').read()\n",
    "wordfile=BytesIO(wordfile)\n",
    "document=ZipFile(wordfile)\n",
    "xml_content=document.read('word/document.xml')\n",
    "\n",
    "wordObj=BeautifulSoup(xml_content.decode('utf-8'))\n",
    "textStrings=wordObj.findAll('w:t')\n",
    "for textElem in textStrings:\n",
    "    closeTag=''\n",
    "    try:\n",
    "        style=textElem.parent.previousSiblingu.find('w:pstyle')\n",
    "        if style is not None and style['w:val']=='Title':\n",
    "            print('<h1>')\n",
    "            closeTag='</h1>'\n",
    "    except AttributeError:\n",
    "        pass\n",
    "    print(textElem.text)\n",
    "    print(closeTag)"
   ]
  },
  {
   "cell_type": "markdown",
   "metadata": {},
   "source": [
    "# 二、高级数据采集"
   ]
  },
  {
   "cell_type": "markdown",
   "metadata": {},
   "source": [
    "### 7数据清洗"
   ]
  },
  {
   "cell_type": "code",
   "execution_count": 3,
   "metadata": {},
   "outputs": [],
   "source": [
    "import string\n",
    "def ngrams(input,n):\n",
    "    input=input.split(' ')\n",
    "    output=[]\n",
    "    for i in range(len(input)-n+1):\n",
    "        output.append(input[i:i+n])\n",
    "    return output\n",
    "\n",
    "def cleanInput(input):\n",
    "    input=re.sub('\\n+',' ',input)\n",
    "    input=re.sub('\\[[0-9]*\\]',' ',input)\n",
    "    input=re.sub(' +',' ',input)\n",
    "    input=bytes(input,'utf-8')\n",
    "    input=input.decode('ascii','ignore')\n",
    "    cleanInput=[]\n",
    "    input=input.split(' ')\n",
    "    for item in input:\n",
    "        item=item.strip(string.punctuation)\n",
    "        if len(item)>1 or (item.lower()=='a' or item.lower()=='i'):\n",
    "            cleanInput.append(item)\n",
    "    return cleanInput\n"
   ]
  },
  {
   "cell_type": "markdown",
   "metadata": {},
   "source": [
    "### 8自然语言处理"
   ]
  },
  {
   "cell_type": "code",
   "execution_count": 6,
   "metadata": {
    "collapsed": true,
    "jupyter": {
     "outputs_hidden": true
    }
   },
   "outputs": [
    {
     "name": "stdout",
     "output_type": "stream",
     "text": [
      "[('of the', 212), ('in the', 62), ('to the', 60), ('by the', 41), ('the Constitution', 32), ('of our', 29), ('to be', 26), ('from the', 24), ('the people', 23), ('that the', 23), ('of a', 22), ('and the', 22), ('may be', 19), ('of their', 19), ('of that', 18), ('for the', 16), ('of its', 16), ('of power', 16), ('have been', 16), ('is the', 16), ('with the', 15), ('it is', 15), ('all the', 14), ('which they', 13), ('has been', 13), ('power to', 12), ('the Government', 12), ('the power', 11), ('that of', 11), ('as to', 11), ('their own', 11), ('spirit of', 11), ('the Executive', 11), ('which the', 10), ('which it', 10), ('upon the', 10), ('can be', 10), ('the United', 10), ('United States', 10), ('the same', 10), ('as the', 10), ('part of', 10), ('the character', 10), ('of liberty', 10), ('of my', 9), ('of all', 9), ('of any', 9), ('the President', 9), ('the whole', 9), ('to a', 8), ('of those', 8), ('which our', 8), ('the great', 8), ('and that', 8), ('and of', 8), ('the legislative', 8), ('It is', 8), ('the States', 8), ('would be', 8), ('in their', 8), ('character of', 8), ('there is', 8), ('the public', 8), ('should be', 8), ('to have', 7), ('on the', 7), ('to their', 7), ('the powers', 7), ('the executive', 7), ('acts of', 7), ('any other', 7), ('as well', 7), ('citizens of', 7), ('of this', 6), ('and in', 6), ('upon their', 6), ('relation to', 6), ('them to', 6), ('that they', 6), ('to that', 6), ('our system', 6), ('the most', 6), ('one of', 6), ('of one', 6), ('at the', 6), ('by a', 6), ('state of', 6), ('is a', 6), ('in its', 6), ('under the', 6), ('as a', 5), ('I shall', 5), ('shall be', 5), ('It was', 5), ('was the', 5), ('the former', 5), ('in relation', 5), ('But the', 5), ('to which', 5), ('people to', 5), ('not to', 5), ('which has', 5), ('to me', 5), ('to them', 5), ('of no', 5), ('far as', 5), ('that instrument', 5), ('be found', 5), ('of them', 5), ('he is', 5), ('to his', 5), ('for which', 5), ('the citizen', 5), ('not only', 5), ('exercise of', 5), ('of each', 5), ('the influence', 5), ('to our', 5), ('as it', 5), ('of these', 5), ('I have', 5), ('by any', 5), ('in my', 5), ('is in', 5), ('the other', 5), ('the acts', 5), ('the judiciary', 5), ('the Legislature', 5), ('There is', 5), ('the veto', 5), ('the State', 5), ('the country', 5), ('might be', 5), ('those of', 5), ('or the', 5), ('by which', 5), ('but the', 5), ('well as', 5), ('our country', 5), ('was to', 4), ('our Government', 4), ('Government and', 4), ('the principles', 4), ('that a', 4), ('the latter', 4), ('may have', 4), ('examination of', 4), ('it may', 4), ('to my', 4), ('with which', 4), ('and I', 4), ('power which', 4), ('it has', 4), ('been the', 4), ('me to', 4), ('assigned to', 4), ('of government', 4), ('duty of', 4), ('to produce', 4), ('which have', 4), ('by their', 4), ('the contrary', 4), ('that which', 4), ('been granted', 4), ('grant of', 4), ('it will', 4), ('possessed by', 4), ('in his', 4), ('for a', 4), ('that it', 4), ('it was', 4), ('of his', 4), ('power of', 4), ('people of', 4), ('they have', 4), ('given to', 4), ('intended to', 4), ('necessary to', 4), ('difficulty in', 4), ('than the', 4), ('influence of', 4), ('danger to', 4), ('does not', 4), ('in a', 4), ('departments of', 4), ('powers which', 4), ('the hands', 4), ('hands of', 4), ('the Convention', 4), ('had been', 4), ('It would', 4), ('that I', 4), ('to its', 4), ('which may', 4), ('mode of', 4), ('of every', 4), ('It may', 4), ('continuance of', 4), ('of an', 4), ('at least', 4), ('not the', 4), ('of Congress', 4), ('in our', 4), ('it appears', 4), ('the spirit', 4), ('the Union', 4), ('of such', 4), ('members of', 4), ('to Congress', 4), ('interests of', 4), ('executive department', 4), ('rights of', 4), ('be used', 4), ('between the', 4), ('General Government', 4), ('control the', 4), ('must be', 4), ('be the', 4), ('the control', 4), ('control of', 4), ('to make', 4), ('the Treasury', 4), ('the citizens', 4), ('any of', 4), ('the respective', 4), ('to all', 4), ('citizen of', 4), ('but that', 4), ('a spirit', 4), ('from a', 3), ('which I', 3), ('with our', 3), ('called upon', 3), ('upon to', 3), ('some of', 3), ('instances of', 3), ('Chief Magistrate', 3), ('to keep', 3), ('principles and', 3), ('and opinions', 3), ('who have', 3), ('by an', 3), ('my countrymen', 3), ('mass of', 3), ('those who', 3), ('they might', 3), ('my hands', 3), ('country The', 3), ('upon which', 3), ('but to', 3), ('the duty', 3), ('produce the', 3), ('the greatest', 3), ('those which', 3), ('amount of', 3), ('granted to', 3), ('the only', 3), ('right to', 3), ('is an', 3), ('the several', 3), ('will be', 3), ('the majority', 3), ('the right', 3), ('could not', 3), ('which in', 3), ('Some of', 3), ('privilege of', 3), ('whilst the', 3), ('under a', 3), ('forms of', 3), ('prescribed by', 3), ('but by', 3), ('injury to', 3), ('in which', 3), ('This is', 3), ('but in', 3), ('many of', 3), ('the framers', 3), ('framers of', 3), ('our institutions', 3), ('not appear', 3), ('appear to', 3), ('in one', 3), ('the departments', 3), ('which was', 3), ('the extent', 3), ('extent of', 3), ('which had', 3), ('the Federal', 3), ('with their', 3), ('tendency of', 3), ('to say', 3), ('I conceive', 3), ('be effected', 3), ('effected by', 3), ('placed in', 3), ('I can', 3), ('opinion of', 3), ('Mr Jefferson', 3), ('to apply', 3), ('of which', 3), ('of many', 3), ('power in', 3), ('to whom', 3), ('the management', 3), ('management of', 3), ('their affairs', 3), ('likely to', 3), ('the love', 3), ('love of', 3), ('If this', 3), ('the part', 3), ('of her', 3), ('to prevent', 3), ('want of', 3), ('the continuance', 3), ('can not', 3), ('either of', 3), ('a part', 3), ('not be', 3), ('confidence in', 3), ('In the', 3), ('is not', 3), ('indeed that', 3), ('Constitution has', 3), ('legislative body', 3), ('and yet', 3), ('can only', 3), ('where the', 3), ('that in', 3), ('of great', 3), ('the best', 3), ('the adoption', 3), ('adoption of', 3), ('have the', 3), ('the circumstances', 3), ('circumstances of', 3), ('than any', 3), ('it to', 3), ('same causes', 3), ('a great', 3), ('the legislation', 3), ('legislation of', 3), ('the rights', 3), ('the general', 3), ('feelings of', 3), ('the effects', 3), ('effects of', 3), ('the reserved', 3), ('powers of', 3), ('and a', 3), ('their rights', 3), ('if not', 3), ('the General', 3), ('Government but', 3), ('of things', 3), ('to control', 3), ('the freedom', 3), ('freedom of', 3), ('at this', 3), ('this time', 3), ('and to', 3), ('me it', 3), ('the Roman', 3), ('become the', 3), ('the means', 3), ('liberty is', 3), ('from our', 3), ('Government should', 3), ('never be', 3), ('member of', 3), ('for their', 3), ('country for', 3), ('duties of', 3), ('the government', 3), ('which are', 3), ('the District', 3), ('District of', 3), ('of Columbia', 3), ('a free', 3), ('country in', 3), ('sense of', 3), ('destruction of', 3), ('institutions of', 3), ('as in', 3), ('true and', 3), ('duty to', 3), ('character and', 3), ('whole country', 3), ('to liberty', 3), ('the senate', 3), ('my fellow-citizens', 3), ('a party', 3), ('office of', 2), ('I believe', 2), ('I proceed', 2), ('proceed to', 2), ('to you', 2), ('me in', 2), ('the discharge', 2), ('discharge of', 2), ('the duties', 2), ('to perform', 2), ('the remark', 2), ('remark of', 2), ('a Roman', 2), ('period of', 2), ('that celebrated', 2), ('a most', 2), ('was observable', 2), ('the world', 2), ('in many', 2), ('the lapse', 2), ('lapse of', 2), ('of two', 2), ('since the', 2), ('of some', 2), ('their part', 2), ('be thought', 2), ('they may', 2), ('supposed to', 2), ('and perhaps', 2), ('there may', 2), ('in this', 2), ('a few', 2), ('to govern', 2), ('by my', 2), ('the mass', 2), ('intention to', 2), ('too well', 2), ('understand the', 2), ('to commit', 2), ('the aid', 2), ('aid of', 2), ('has hitherto', 2), ('to bring', 2), ('confided to', 2), ('me by', 2), ('our Constitution', 2), ('none of', 2), ('of democracy', 2), ('If such', 2), ('principle the', 2), ('we would', 2), ('our people', 2), ('by those', 2), ('majority of', 2), ('our citizens', 2), ('them by', 2), ('the parties', 2), ('the national', 2), ('so far', 2), ('power is', 2), ('an express', 2), ('express grant', 2), ('The Constitution', 2), ('Constitution of', 2), ('the instrument', 2), ('several departments', 2), ('found to', 2), ('to grant', 2), ('do not', 2), ('they could', 2), ('other words', 2), ('American citizen', 2), ('the others', 2), ('the language', 2), ('language of', 2), ('of Athens', 2), ('understood and', 2), ('and which', 2), ('at times', 2), ('the subject', 2), ('subject of', 2), ('and his', 2), ('with or', 2), ('or without', 2), ('not of', 2), ('a single', 2), ('It can', 2), ('with no', 2), (\"no one's\", 2), ('for no', 2), ('the result', 2), ('and those', 2), ('to others', 2), ('a full', 2), ('participation in', 2), ('in all', 2), ('the advantages', 2), ('Government the', 2), ('the acknowledged', 2), ('granted by', 2), ('by his', 2), ('the rest', 2), ('share of', 2), ('States and', 2), ('war and', 2), ('be expected', 2), ('the amount', 2), ('was intended', 2), ('is more', 2), ('more particularly', 2), ('the case', 2), ('and not', 2), ('regards the', 2), ('the exercise', 2), ('of powers', 2), ('a general', 2), ('that body', 2), ('body the', 2), ('authority to', 2), ('to carry', 2), ('carry into', 2), ('into effect', 2), ('effect the', 2), ('the fact', 2), ('and patriotism', 2), ('at one', 2), ('one time', 2), ('their political', 2), ('each of', 2), ('are attributable', 2), ('attributable to', 2), ('be in', 2), ('people but', 2), ('are the', 2), ('to constitute', 2), ('reserved rights', 2), ('When the', 2), ('Federal Government', 2), ('and more', 2), ('harmony with', 2), ('the tendency', 2), ('to increase', 2), ('increase itself', 2), ('exercised by', 2), ('were made', 2), ('that at', 2), ('would not', 2), ('not become', 2), ('say that', 2), ('as I', 2), ('been in', 2), ('in that', 2), ('is I', 2), ('proper that', 2), ('I should', 2), ('heretofore given', 2), ('if it', 2), ('its pristine', 2), ('pristine health', 2), ('health and', 2), ('my opinion', 2), ('the evils', 2), ('complained of', 2), ('defects of', 2), ('a misconstruction', 2), ('misconstruction of', 2), ('its provisions', 2), ('a second', 2), ('second term', 2), ('mind of', 2), ('this error', 2), ('and consequently', 2), ('it would', 2), ('the opinion', 2), ('framed the', 2), ('the source', 2), ('from it', 2), ('continues to', 2), ('be observed', 2), ('observed however', 2), ('than to', 2), ('to adopt', 2), ('government which', 2), ('to create', 2), ('the bosoms', 2), ('bosoms of', 2), ('those to', 2), ('more likely', 2), ('such a', 2), ('a state', 2), ('nothing more', 2), ('destructive of', 2), ('possession of', 2), ('the human', 2), ('like the', 2), ('it becomes', 2), ('with his', 2), ('is true', 2), ('a republic', 2), ('officer at', 2), ('foreign relations', 2), ('laws and', 2), ('a period', 2), ('that he', 2), ('the master', 2), ('to it', 2), ('by renewing', 2), ('renewing the', 2), ('the pledge', 2), ('But if', 2), ('if there', 2), ('a fair', 2), ('or either', 2), ('to recommend', 2), ('which he', 2), ('he holds', 2), ('with every', 2), ('although there', 2), ('of confidence', 2), ('the measures', 2), ('the one', 2), ('Congress of', 2), ('Executive the', 2), ('a similar', 2), ('instrument to', 2), ('no part', 2), ('negative upon', 2), ('of want', 2), ('of conformity', 2), ('conformity to', 2), ('declare void', 2), ('in every', 2), ('both Houses', 2), ('Houses of', 2), ('Congress The', 2), ('seem to', 2), ('be an', 2), ('appears to', 2), ('used only', 2), ('only with', 2), ('spirit which', 2), ('productive of', 2), ('and be', 2), ('the formation', 2), ('Constitution the', 2), ('the principle', 2), ('State governments', 2), ('there was', 2), ('repugnant to', 2), ('the leading', 2), ('principle that', 2), ('course of', 2), ('the high', 2), ('degree of', 2), ('among the', 2), ('people and', 2), ('by them', 2), ('representatives of', 2), ('of course', 2), ('placed at', 2), ('the wants', 2), ('wants and', 2), ('than their', 2), ('immediate representatives', 2), ('with them', 2), ('them and', 2), ('tie of', 2), ('of interest', 2), ('and affection', 2), ('veto power', 2), ('two of', 2), ('the labors', 2), ('labors of', 2), ('or not', 2), ('not as', 2), ('upon that', 2), ('been committed', 2), ('the security', 2), ('just and', 2), ('parts of', 2), ('have occurred', 2), ('Constitution and', 2), ('within the', 2), ('sometimes be', 2), ('interests and', 2), ('independence and', 2), ('Such a', 2), ('constituted by', 2), ('that high', 2), ('high office', 2), ('I consider', 2), ('not well', 2), ('prevent the', 2), ('reference to', 2), ('it the', 2), ('disputed points', 2), ('the nation', 2), ('for his', 2), ('the present', 2), ('made of', 2), ('operations of', 2), ('they respectively', 2), ('respectively claim', 2), ('the commencement', 2), ('commencement of', 2), ('its operations', 2), ('seems to', 2), ('reserved powers', 2), ('so much', 2), ('the mode', 2), ('As far', 2), ('State authorities', 2), ('of discord', 2), ('their respective', 2), ('each other', 2), ('be realized', 2), ('will the', 2), ('great increase', 2), ('department of', 2), ('in part', 2), ('of political', 2), ('at first', 2), ('it had', 2), ('in controlling', 2), ('controlling the', 2), ('the elective', 2), ('elective franchise', 2), ('could have', 2), ('the danger', 2), ('Executive will', 2), ('construction of', 2), ('characters of', 2), ('President to', 2), ('and it', 2), ('him the', 2), ('no other', 2), ('strange indeed', 2), ('public money', 2), ('of removal', 2), ('also to', 2), ('the officer', 2), ('By a', 2), ('exists in', 2), ('the divorce', 2), ('is called', 2), ('which is', 2), ('union of', 2), ('through the', 2), ('have made', 2), ('branch of', 2), ('by Mr', 2), ('interference in', 2), ('and their', 2), ('of Executive', 2), ('our ancestors', 2), ('country that', 2), ('of civil', 2), ('civil and', 2), ('and religious', 2), ('religious liberty', 2), ('is one', 2), ('We have', 2), ('our own', 2), ('of other', 2), ('should never', 2), ('making it', 2), ('him to', 2), ('legislation and', 2), ('schemes of', 2), ('and this', 2), ('of law', 2), ('the sovereign', 2), ('the very', 2), ('the forms', 2), ('them The', 2), ('to propose', 2), ('propose amendments', 2), ('and so', 2), ('of keeping', 2), ('keeping the', 2), ('the more', 2), ('the currency', 2), ('idea of', 2), ('consequences than', 2), ('the personal', 2), ('of wealth', 2), ('If there', 2), ('deprecated by', 2), ('all true', 2), ('an exclusive', 2), ('exclusive metallic', 2), ('metallic currency', 2), ('a process', 2), ('government of', 2), ('American citizens', 2), ('and safety', 2), ('Are there', 2), ('who would', 2), ('to any', 2), ('their subjects', 2), ('can never', 2), ('of mine', 2), ('States but', 2), ('used in', 2), ('that character', 2), ('their former', 2), ('who has', 2), ('his own', 2), ('respects the', 2), ('free and', 2), ('authorities of', 2), ('as collisions', 2), ('their passions', 2), ('their country', 2), ('is to', 2), ('its existence', 2), ('all its', 2), ('its members', 2), ('whole The', 2), ('be exercised', 2), ('one State', 2), ('of another', 2), ('unite in', 2), ('however that', 2), ('of citizens', 2), ('the domestic', 2), ('domestic concerns', 2), ('the destruction', 2), ('members is', 2), ('that spirit', 2), ('the institutions', 2), ('and forms', 2), ('government and', 2), ('which their', 2), ('foreign aggression', 2), ('and prejudices', 2), ('Our Confederacy', 2), ('result in', 2), ('the individual', 2), ('individual members', 2), ('principles of', 2), ('we may', 2), ('us to', 2), ('them from', 2), ('On the', 2), ('their best', 2), ('all necessary', 2), ('and credit', 2), ('credit of', 2), ('the results', 2), ('passion of', 2), ('The spirit', 2), ('contrary no', 2), ('free people', 2), ('will ever', 2), ('and as', 2), ('as long', 2), ('long as', 2), ('the liberties', 2), ('liberties of', 2), ('a people', 2), ('the name', 2), ('against the', 2), ('became the', 2), ('itself upon', 2), ('the genuine', 2), ('genuine spirit', 2), ('the false', 2), ('the true', 2), ('true spirit', 2), ('of party', 2), ('a thorough', 2), ('and beauty', 2), ('connected with', 2), ('to preserve', 2), ('see in', 2), ('the interests', 2), ('will not', 2), ('have placed', 2), ('interest of', 2), ('liberty and', 2), ('party but', 2), ('the Commonwealth', 2), ('the sake', 2), ('sake of', 2), ('the defense', 2), ('defense of', 2), ('the support', 2), ('support of', 2), ('a just', 2), ('Called from', 1), ('a retirement', 1), ('retirement which', 1), ('I had', 1), ('had supposed', 1), ('supposed was', 1), ('to continue', 1), ('continue for', 1), ('the residue', 1), ('residue of', 1), ('my life', 1), ('life to', 1), ('to fill', 1), ('fill the', 1), ('the chief', 1), ('chief executive', 1), ('executive office', 1), ('this great', 1), ('great and', 1), ('and free', 1), ('free nation', 1), ('nation I', 1), ('I appear', 1), ('appear before', 1), ('before you', 1), ('you fellow-citizens', 1), ('fellow-citizens to', 1), ('to take', 1), ('take the', 1), ('the oaths', 1), ('oaths which', 1), ('Constitution prescribes', 1), ('prescribes as', 1), ('a necessary', 1), ('necessary qualification', 1), ('qualification for', 1), ('the performance', 1), ('performance of', 1), ('its duties', 1), ('duties and', 1), ('in obedience', 1), ('obedience to', 1), ('a custom', 1), ('custom coeval', 1), ('coeval with', 1), ('and what', 1), ('what I', 1), ('believe to', 1), ('be your', 1), ('your expectations', 1), ('expectations I', 1), ('to present', 1), ('present to', 1), ('you a', 1), ('a summary', 1), ('summary of', 1), ('principles which', 1), ('which will', 1), ('will govern', 1), ('govern me', 1), ('duties which', 1), ('be called', 1), ('perform It', 1), ('Roman consul', 1), ('consul in', 1), ('in an', 1), ('an early', 1), ('early period', 1), ('celebrated Republic', 1), ('Republic that', 1), ('most striking', 1), ('striking contrast', 1), ('contrast was', 1), ('observable in', 1), ('the conduct', 1), ('conduct of', 1), ('of candidates', 1), ('candidates for', 1), ('for offices', 1), ('offices of', 1), ('power and', 1), ('and trust', 1), ('trust before', 1), ('before and', 1), ('and after', 1), ('after obtaining', 1), ('obtaining them', 1), ('them they', 1), ('they seldom', 1), ('seldom carrying', 1), ('carrying out', 1), ('out in', 1), ('latter case', 1), ('case the', 1), ('the pledges', 1), ('pledges and', 1), ('and promises', 1), ('promises made', 1), ('made in', 1), ('former However', 1), ('However much', 1), ('much the', 1), ('world may', 1), ('have improved', 1), ('improved in', 1), ('many respects', 1), ('respects in', 1), ('of upward', 1), ('upward of', 1), ('two thousand', 1), ('thousand years', 1), ('years since', 1), ('remark was', 1), ('was made', 1), ('made by', 1), ('the virtuous', 1), ('virtuous and', 1), ('and indignant', 1), ('indignant Roman', 1), ('Roman I', 1), ('I fear', 1), ('fear that', 1), ('a strict', 1), ('strict examination', 1), ('the annals', 1), ('annals of', 1), ('the modern', 1), ('modern elective', 1), ('elective governments', 1), ('governments would', 1), ('would develop', 1), ('develop similar', 1), ('similar instances', 1), ('of violated', 1), ('violated confidence', 1), ('confidence Although', 1), ('Although the', 1), ('the fiat', 1), ('fiat of', 1), ('people has', 1), ('has gone', 1), ('gone forth', 1), ('forth proclaiming', 1), ('proclaiming me', 1), ('me the', 1), ('the Chief', 1), ('Magistrate of', 1), ('this glorious', 1), ('glorious Union', 1), ('Union nothing', 1), ('nothing upon', 1), ('part remaining', 1), ('remaining to', 1), ('be done', 1), ('done it', 1), ('thought that', 1), ('a motive', 1), ('motive may', 1), ('may exist', 1), ('exist to', 1), ('keep up', 1), ('up the', 1), ('the delusion', 1), ('delusion under', 1), ('under which', 1), ('be supposed', 1), ('have acted', 1), ('acted in', 1), ('my principles', 1), ('opinions and', 1), ('perhaps there', 1), ('be some', 1), ('some in', 1), ('this assembly', 1), ('assembly who', 1), ('have come', 1), ('come here', 1), ('here either', 1), ('either prepared', 1), ('prepared to', 1), ('to condemn', 1), ('condemn those', 1), ('those I', 1), ('shall now', 1), ('now deliver', 1), ('deliver or', 1), ('or approving', 1), ('approving them', 1), ('to doubt', 1), ('doubt the', 1), ('the sincerity', 1), ('sincerity with', 1), ('they are', 1), ('are now', 1), ('now uttered', 1), ('uttered But', 1), ('few months', 1), ('months will', 1), ('will confirm', 1), ('confirm or', 1), ('or dispel', 1), ('dispel their', 1), ('their fears', 1), ('fears The', 1), ('The outline', 1), ('outline of', 1), ('of principles', 1), ('principles to', 1), ('govern and', 1), ('and measures', 1), ('measures to', 1), ('be adopted', 1), ('adopted by', 1), ('an Administration', 1), ('Administration not', 1), ('not yet', 1), ('yet begun', 1), ('begun will', 1), ('will soon', 1), ('soon be', 1), ('be exchanged', 1), ('exchanged for', 1), ('for immutable', 1), ('immutable history', 1), ('history and', 1), ('shall stand', 1), ('stand either', 1), ('either exonerated', 1), ('exonerated by', 1), ('countrymen or', 1), ('or classed', 1), ('classed with', 1), ('who promised', 1), ('promised that', 1), ('might deceive', 1), ('deceive and', 1), ('and flattered', 1), ('flattered with', 1), ('the intention', 1), ('to betray', 1), ('betray However', 1), ('However strong', 1), ('strong may', 1), ('be my', 1), ('my present', 1), ('present purpose', 1), ('purpose to', 1), ('to realize', 1), ('realize the', 1), ('the expectations', 1), ('expectations of', 1), ('a magnanimous', 1), ('magnanimous and', 1), ('and confiding', 1), ('confiding people', 1), ('people I', 1), ('I too', 1), ('well understand', 1), ('the dangerous', 1), ('dangerous temptations', 1), ('temptations to', 1), ('be exposed', 1), ('exposed from', 1), ('the magnitude', 1), ('magnitude of', 1), ('the pleasure', 1), ('pleasure of', 1), ('commit to', 1), ('hands not', 1), ('to place', 1), ('place my', 1), ('my chief', 1), ('chief confidence', 1), ('confidence upon', 1), ('that Almighty', 1), ('Almighty Power', 1), ('Power which', 1), ('hitherto protected', 1), ('protected me', 1), ('me and', 1), ('and enabled', 1), ('enabled me', 1), ('bring to', 1), ('to favorable', 1), ('favorable issues', 1), ('issues other', 1), ('other important', 1), ('important but', 1), ('but still', 1), ('still greatly', 1), ('greatly inferior', 1), ('inferior trusts', 1), ('trusts heretofore', 1), ('heretofore confided', 1), ('my country', 1), ('The broad', 1), ('broad foundation', 1), ('foundation upon', 1), ('Constitution rests', 1), ('rests being', 1), ('being the', 1), ('the people--a', 1), ('people--a breath', 1), ('breath of', 1), ('of theirs', 1), ('theirs having', 1), ('having made', 1), ('made as', 1), ('a breath', 1), ('breath can', 1), ('can unmake', 1), ('unmake change', 1), ('change or', 1), ('or modify', 1), ('modify it--it', 1), ('it--it can', 1), ('be assigned', 1), ('to none', 1), ('great divisions', 1), ('divisions of', 1), ('government but', 1), ('democracy If', 1), ('such is', 1), ('is its', 1), ('its theory', 1), ('theory those', 1), ('who are', 1), ('are called', 1), ('to administer', 1), ('administer it', 1), ('it must', 1), ('must recognize', 1), ('recognize as', 1), ('as its', 1), ('its leading', 1), ('leading principle', 1), ('of shaping', 1), ('shaping their', 1), ('their measures', 1), ('measures so', 1), ('so as', 1), ('greatest good', 1), ('good to', 1), ('greatest number', 1), ('number But', 1), ('But with', 1), ('with these', 1), ('these broad', 1), ('broad admissions', 1), ('admissions if', 1), ('if we', 1), ('would compare', 1), ('compare the', 1), ('the sovereignty', 1), ('sovereignty acknowledged', 1), ('acknowledged to', 1), ('to exist', 1), ('exist in', 1), ('people with', 1), ('power claimed', 1), ('claimed by', 1), ('by other', 1), ('other sovereignties', 1), ('sovereignties even', 1), ('even by', 1), ('been considered', 1), ('considered most', 1), ('most purely', 1), ('purely democratic', 1), ('democratic we', 1), ('we shall', 1), ('shall find', 1), ('find a', 1), ('most essential', 1), ('essential difference', 1), ('difference All', 1), ('All others', 1), ('others lay', 1), ('lay claim', 1), ('claim to', 1), ('to power', 1), ('power limited', 1), ('limited only', 1), ('only by', 1), ('own will', 1), ('will The', 1), ('The majority', 1), ('citizens on', 1), ('contrary possess', 1), ('possess a', 1), ('a sovereignty', 1), ('sovereignty with', 1), ('with an', 1), ('an amount', 1), ('power precisely', 1), ('precisely equal', 1), ('equal to', 1), ('parties to', 1), ('national compact', 1), ('compact and', 1), ('and nothing', 1), ('nothing beyond', 1), ('beyond We', 1), ('We admit', 1), ('admit of', 1), ('no government', 1), ('government by', 1), ('by divine', 1), ('divine right', 1), ('right believing', 1), ('believing that', 1), ('that so', 1), ('as power', 1), ('is concerned', 1), ('concerned the', 1), ('the Beneficent', 1), ('Beneficent Creator', 1), ('Creator has', 1), ('has made', 1), ('made no', 1), ('no distinction', 1), ('distinction amongst', 1), ('amongst men', 1), ('men that', 1), ('that all', 1), ('all are', 1), ('are upon', 1), ('upon an', 1), ('an equality', 1), ('equality and', 1), ('only legitimate', 1), ('legitimate right', 1), ('govern is', 1), ('power from', 1), ('the governed', 1), ('governed The', 1), ('States is', 1), ('instrument containing', 1), ('containing this', 1), ('this grant', 1), ('departments composing', 1), ('composing the', 1), ('Government On', 1), ('On an', 1), ('an examination', 1), ('instrument it', 1), ('to contain', 1), ('contain declarations', 1), ('declarations of', 1), ('power granted', 1), ('granted and', 1), ('power withheld', 1), ('withheld The', 1), ('The latter', 1), ('latter is', 1), ('is also', 1), ('also susceptible', 1), ('susceptible of', 1), ('of division', 1), ('division into', 1), ('into power', 1), ('majority had', 1), ('had the', 1), ('grant but', 1), ('but which', 1), ('they do', 1), ('not think', 1), ('think proper', 1), ('proper to', 1), ('to intrust', 1), ('intrust to', 1), ('their agents', 1), ('agents and', 1), ('not have', 1), ('have granted', 1), ('granted not', 1), ('not being', 1), ('being possessed', 1), ('by themselves', 1), ('themselves In', 1), ('In other', 1), ('words there', 1), ('there are', 1), ('are certain', 1), ('certain rights', 1), ('rights possessed', 1), ('by each', 1), ('each individual', 1), ('individual American', 1), ('citizen which', 1), ('his compact', 1), ('compact with', 1), ('others he', 1), ('he has', 1), ('has never', 1), ('never surrendered', 1), ('surrendered Some', 1), ('them indeed', 1), ('indeed he', 1), ('is unable', 1), ('unable to', 1), ('to surrender', 1), ('surrender being', 1), ('being in', 1), ('system unalienable', 1), ('unalienable The', 1), ('The boasted', 1), ('boasted privilege', 1), ('Roman citizen', 1), ('citizen was', 1), ('to him', 1), ('him a', 1), ('a shield', 1), ('shield only', 1), ('only against', 1), ('against a', 1), ('a petty', 1), ('petty provincial', 1), ('provincial ruler', 1), ('ruler whilst', 1), ('the proud', 1), ('proud democrat', 1), ('democrat of', 1), ('Athens would', 1), ('would console', 1), ('console himself', 1), ('himself under', 1), ('a sentence', 1), ('sentence of', 1), ('of death', 1), ('death for', 1), ('a supposed', 1), ('supposed violation', 1), ('violation of', 1), ('national faith--which', 1), ('faith--which no', 1), ('no one', 1), ('one understood', 1), ('which at', 1), ('times was', 1), ('the mockery', 1), ('mockery of', 1), ('of all--or', 1), ('all--or the', 1), ('the banishment', 1), ('banishment from', 1), ('from his', 1), ('his home', 1), ('home his', 1), ('his family', 1), ('family and', 1), ('his country', 1), ('country with', 1), ('without an', 1), ('an alleged', 1), ('alleged cause', 1), ('cause that', 1), ('the act', 1), ('act not', 1), ('single tyrant', 1), ('tyrant or', 1), ('or hated', 1), ('hated aristocracy', 1), ('aristocracy but', 1), ('but of', 1), ('his assembled', 1), ('assembled countrymen', 1), ('countrymen Far', 1), ('Far different', 1), ('different is', 1), ('our sovereignty', 1), ('sovereignty It', 1), ('can interfere', 1), ('interfere with', 1), (\"one's faith\", 1), ('faith prescribe', 1), ('prescribe forms', 1), ('of worship', 1), ('worship for', 1), (\"one's observance\", 1), ('observance inflict', 1), ('inflict no', 1), ('no punishment', 1), ('punishment but', 1), ('but after', 1), ('after well-ascertained', 1), ('well-ascertained guilt', 1), ('guilt the', 1), ('result of', 1), ('of investigation', 1), ('investigation under', 1), ('under rules', 1), ('rules prescribed', 1), ('Constitution itself', 1), ('itself These', 1), ('These precious', 1), ('precious privileges', 1), ('privileges and', 1), ('those scarcely', 1), ('scarcely less', 1), ('less important', 1), ('important of', 1), ('of giving', 1), ('giving expression', 1), ('expression to', 1), ('his thoughts', 1), ('thoughts and', 1), ('opinions either', 1), ('either by', 1), ('by writing', 1), ('writing or', 1), ('or speaking', 1), ('speaking unrestrained', 1), ('unrestrained but', 1), ('the liability', 1), ('liability for', 1), ('for injury', 1), ('others and', 1), ('full participation', 1), ('advantages which', 1), ('which flow', 1), ('flow from', 1), ('acknowledged property', 1), ('property of', 1), ('the American', 1), ('citizen derives', 1), ('derives from', 1), ('from no', 1), ('no charter', 1), ('charter granted', 1), ('his fellow-man', 1), ('fellow-man He', 1), ('He claims', 1), ('claims them', 1), ('them because', 1), ('because he', 1), ('is himself', 1), ('himself a', 1), ('a man', 1), ('man fashioned', 1), ('fashioned by', 1), ('same Almighty', 1), ('Almighty hand', 1), ('hand as', 1), ('rest of', 1), ('his species', 1), ('species and', 1), ('and entitled', 1), ('entitled to', 1), ('full share', 1), ('the blessings', 1), ('blessings with', 1), ('which He', 1), ('He has', 1), ('has endowed', 1), ('endowed them', 1), ('them Notwithstanding', 1), ('Notwithstanding the', 1), ('the limited', 1), ('limited sovereignty', 1), ('sovereignty possessed', 1), ('the restricted', 1), ('restricted grant', 1), ('Government which', 1), ('have adopted', 1), ('adopted enough', 1), ('enough has', 1), ('been given', 1), ('to accomplish', 1), ('accomplish all', 1), ('the objects', 1), ('objects for', 1), ('was created', 1), ('created It', 1), ('It has', 1), ('been found', 1), ('found powerful', 1), ('powerful in', 1), ('in war', 1), ('and hitherto', 1), ('hitherto justice', 1), ('justice has', 1), ('been administered', 1), ('administered and', 1), ('and intimate', 1), ('intimate union', 1), ('union effected', 1), ('effected domestic', 1), ('domestic tranquillity', 1), ('tranquillity preserved', 1), ('preserved and', 1), ('and personal', 1), ('personal liberty', 1), ('liberty secured', 1), ('secured to', 1), ('citizen As', 1), ('As was', 1), ('expected however', 1), ('however from', 1), ('the defect', 1), ('defect of', 1), ('of language', 1), ('language and', 1), ('the necessarily', 1), ('necessarily sententious', 1), ('sententious manner', 1), ('manner in', 1), ('Constitution is', 1), ('is written', 1), ('written disputes', 1), ('disputes have', 1), ('have arisen', 1), ('arisen as', 1), ('has actually', 1), ('actually granted', 1), ('granted or', 1), ('or was', 1), ('grant This', 1), ('particularly the', 1), ('case in', 1), ('that part', 1), ('instrument which', 1), ('which treats', 1), ('treats of', 1), ('legislative branch', 1), ('branch and', 1), ('only as', 1), ('as regards', 1), ('powers claimed', 1), ('claimed under', 1), ('general clause', 1), ('clause giving', 1), ('giving that', 1), ('the authority', 1), ('to pass', 1), ('pass all', 1), ('all laws', 1), ('laws necessary', 1), ('the specified', 1), ('specified powers', 1), ('powers but', 1), ('latter also', 1), ('also It', 1), ('is however', 1), ('however consolatory', 1), ('consolatory to', 1), ('to reflect', 1), ('reflect that', 1), ('that most', 1), ('most of', 1), ('the instances', 1), ('of alleged', 1), ('alleged departure', 1), ('departure from', 1), ('the letter', 1), ('letter or', 1), ('or spirit', 1), ('Constitution have', 1), ('have ultimately', 1), ('ultimately received', 1), ('received the', 1), ('the sanction', 1), ('sanction of', 1), ('a majority', 1), ('people And', 1), ('And the', 1), ('fact that', 1), ('that many', 1), ('our statesmen', 1), ('statesmen most', 1), ('most distinguished', 1), ('distinguished for', 1), ('for talent', 1), ('talent and', 1), ('patriotism have', 1), ('been at', 1), ('time or', 1), ('or other', 1), ('other of', 1), ('political career', 1), ('career on', 1), ('on both', 1), ('both sides', 1), ('sides of', 1), ('most warmly', 1), ('warmly disputed', 1), ('disputed questions', 1), ('questions forces', 1), ('forces upon', 1), ('upon us', 1), ('us the', 1), ('the inference', 1), ('inference that', 1), ('the errors', 1), ('errors if', 1), ('if errors', 1), ('errors there', 1), ('there were', 1), ('were are', 1), ('the intrinsic', 1), ('intrinsic difficulty', 1), ('many instances', 1), ('of ascertaining', 1), ('ascertaining the', 1), ('the intentions', 1), ('intentions of', 1), ('Constitution rather', 1), ('rather than', 1), ('any sinister', 1), ('sinister or', 1), ('or unpatriotic', 1), ('unpatriotic motive', 1), ('motive But', 1), ('great danger', 1), ('institutions does', 1), ('a usurpation', 1), ('usurpation by', 1), ('Government of', 1), ('power not', 1), ('not granted', 1), ('the accumulation', 1), ('accumulation in', 1), ('was assigned', 1), ('others Limited', 1), ('Limited as', 1), ('as are', 1), ('granted still', 1), ('still enough', 1), ('enough have', 1), ('constitute a', 1), ('a despotism', 1), ('despotism if', 1), ('if concentrated', 1), ('concentrated in', 1), ('departments This', 1), ('This danger', 1), ('danger is', 1), ('is greatly', 1), ('greatly heightened', 1), ('heightened as', 1), ('been always', 1), ('always observable', 1), ('observable that', 1), ('that men', 1), ('men are', 1), ('are less', 1), ('less jealous', 1), ('jealous of', 1), ('of encroachments', 1), ('encroachments of', 1), ('one department', 1), ('department upon', 1), ('upon another', 1), ('another than', 1), ('than upon', 1), ('own reserved', 1), ('rights When', 1), ('States first', 1), ('first came', 1), ('came from', 1), ('Convention which', 1), ('which formed', 1), ('formed it', 1), ('it many', 1), ('the sternest', 1), ('sternest republicans', 1), ('republicans of', 1), ('the day', 1), ('day were', 1), ('were alarmed', 1), ('alarmed at', 1), ('particularly of', 1), ('that portion', 1), ('portion which', 1), ('been assigned', 1), ('executive branch', 1), ('branch There', 1), ('There were', 1), ('were in', 1), ('in it', 1), ('it features', 1), ('features which', 1), ('which appeared', 1), ('appeared not', 1), ('in harmony', 1), ('their ideas', 1), ('ideas of', 1), ('a simple', 1), ('simple representative', 1), ('representative democracy', 1), ('democracy or', 1), ('or republic', 1), ('republic and', 1), ('and knowing', 1), ('knowing the', 1), ('itself particularly', 1), ('particularly when', 1), ('when exercised', 1), ('single individual', 1), ('individual predictions', 1), ('predictions were', 1), ('made that', 1), ('at no', 1), ('no very', 1), ('very remote', 1), ('remote period', 1), ('period the', 1), ('Government would', 1), ('would terminate', 1), ('terminate in', 1), ('in virtual', 1), ('virtual monarchy', 1), ('monarchy It', 1), ('become me', 1), ('the fears', 1), ('fears of', 1), ('these patriots', 1), ('patriots have', 1), ('been already', 1), ('already realized', 1), ('realized but', 1), ('but as', 1), ('I sincerely', 1), ('sincerely believe', 1), ('believe that', 1), ('of measures', 1), ('measures and', 1), (\"of men's\", 1), (\"men's opinions\", 1), ('opinions for', 1), ('for some', 1), ('some years', 1), ('years past', 1), ('past has', 1), ('that direction', 1), ('direction it', 1), ('conceive strictly', 1), ('strictly proper', 1), ('should take', 1), ('take this', 1), ('this occasion', 1), ('occasion to', 1), ('to repeat', 1), ('repeat the', 1), ('the assurances', 1), ('assurances I', 1), ('have heretofore', 1), ('given of', 1), ('my determination', 1), ('determination to', 1), ('to arrest', 1), ('arrest the', 1), ('the progress', 1), ('progress of', 1), ('that tendency', 1), ('tendency if', 1), ('it really', 1), ('really exists', 1), ('exists and', 1), ('and restore', 1), ('restore the', 1), ('Government to', 1), ('and vigor', 1), ('vigor as', 1), ('as far', 1), ('as this', 1), ('this can', 1), ('any legitimate', 1), ('legitimate exercise', 1), ('power placed', 1), ('hands I', 1), ('to state', 1), ('state in', 1), ('in as', 1), ('as summary', 1), ('summary a', 1), ('a manner', 1), ('manner as', 1), ('can my', 1), ('the sources', 1), ('sources of', 1), ('evils which', 1), ('been so', 1), ('so extensively', 1), ('extensively complained', 1), ('of and', 1), ('the correctives', 1), ('correctives which', 1), ('be applied', 1), ('applied Some', 1), ('former are', 1), ('are unquestionably', 1), ('unquestionably to', 1), ('found in', 1), ('the defects', 1), ('Constitution others', 1), ('others in', 1), ('my judgment', 1), ('judgment are', 1), ('provisions Of', 1), ('Of the', 1), ('former is', 1), ('the eligibility', 1), ('eligibility of', 1), ('same individual', 1), ('individual to', 1), ('term of', 1), ('the Presidency', 1), ('Presidency The', 1), ('The sagacious', 1), ('sagacious mind', 1), ('of Mr', 1), ('Jefferson early', 1), ('early saw', 1), ('saw and', 1), ('and lamented', 1), ('lamented this', 1), ('error and', 1), ('and attempts', 1), ('attempts have', 1), ('been made', 1), ('made hitherto', 1), ('hitherto without', 1), ('without success', 1), ('success to', 1), ('apply the', 1), ('the amendatory', 1), ('amendatory power', 1), ('States to', 1), ('its correction', 1), ('correction As', 1), ('As however', 1), ('however one', 1), ('one mode', 1), ('of correction', 1), ('correction is', 1), ('every President', 1), ('President and', 1), ('consequently in', 1), ('in mine', 1), ('mine it', 1), ('be useless', 1), ('useless and', 1), ('perhaps invidious', 1), ('invidious to', 1), ('to enumerate', 1), ('enumerate the', 1), ('evils of', 1), ('our fellow-citizens', 1), ('fellow-citizens this', 1), ('error of', 1), ('the sages', 1), ('sages who', 1), ('who framed', 1), ('Constitution may', 1), ('source and', 1), ('the bitter', 1), ('bitter fruits', 1), ('fruits which', 1), ('which we', 1), ('we are', 1), ('are still', 1), ('still to', 1), ('to gather', 1), ('gather from', 1), ('it if', 1), ('it continues', 1), ('to disfigure', 1), ('disfigure our', 1), ('system It', 1), ('however as', 1), ('general remark', 1), ('remark that', 1), ('that republics', 1), ('republics can', 1), ('can commit', 1), ('commit no', 1), ('no greater', 1), ('greater error', 1), ('error than', 1), ('adopt or', 1), ('or continue', 1), ('continue any', 1), ('any feature', 1), ('feature in', 1), ('their systems', 1), ('systems of', 1), ('be calculated', 1), ('calculated to', 1), ('create or', 1), ('or increase', 1), ('increase the', 1), ('the lover', 1), ('lover of', 1), ('whom necessity', 1), ('necessity obliges', 1), ('obliges them', 1), ('commit the', 1), ('affairs and', 1), ('and surely', 1), ('surely nothing', 1), ('nothing is', 1), ('produce such', 1), ('of mind', 1), ('mind than', 1), ('the long', 1), ('long continuance', 1), ('an office', 1), ('of high', 1), ('high trust', 1), ('trust Nothing', 1), ('Nothing can', 1), ('be more', 1), ('more corrupting', 1), ('corrupting nothing', 1), ('more destructive', 1), ('all those', 1), ('those noble', 1), ('noble feelings', 1), ('feelings which', 1), ('which belong', 1), ('belong to', 1), ('a devoted', 1), ('devoted republican', 1), ('republican patriot', 1), ('patriot When', 1), ('When this', 1), ('this corrupting', 1), ('corrupting passion', 1), ('passion once', 1), ('once takes', 1), ('takes possession', 1), ('human mind', 1), ('mind like', 1), ('of gold', 1), ('gold it', 1), ('becomes insatiable', 1), ('insatiable It', 1), ('the never-dying', 1), ('never-dying worm', 1), ('worm in', 1), ('his bosom', 1), ('bosom grows', 1), ('grows with', 1), ('his growth', 1), ('growth and', 1), ('and strengthens', 1), ('strengthens with', 1), ('the declining', 1), ('declining years', 1), ('years of', 1), ('its victim', 1), ('victim If', 1), ('this is', 1), ('true it', 1), ('of wisdom', 1), ('wisdom for', 1), ('republic to', 1), ('to limit', 1), ('limit the', 1), ('the service', 1), ('service of', 1), ('that officer', 1), ('least to', 1), ('whom she', 1), ('she has', 1), ('has intrusted', 1), ('intrusted the', 1), ('her foreign', 1), ('relations the', 1), ('the execution', 1), ('execution of', 1), ('her laws', 1), ('the command', 1), ('command of', 1), ('her armies', 1), ('armies and', 1), ('and navies', 1), ('navies to', 1), ('period so', 1), ('so short', 1), ('short as', 1), ('prevent his', 1), ('his forgetting', 1), ('forgetting that', 1), ('the accountable', 1), ('accountable agent', 1), ('agent not', 1), ('the principal', 1), ('principal the', 1), ('the servant', 1), ('servant not', 1), ('master Until', 1), ('Until an', 1), ('an amendment', 1), ('amendment of', 1), ('Constitution can', 1), ('effected public', 1), ('public opinion', 1), ('opinion may', 1), ('may secure', 1), ('secure the', 1), ('the desired', 1), ('desired object', 1), ('object I', 1), ('I give', 1), ('give my', 1), ('my aid', 1), ('aid to', 1), ('it by', 1), ('pledge heretofore', 1), ('given that', 1), ('that under', 1), ('under no', 1), ('no circumstances', 1), ('circumstances will', 1), ('will I', 1), ('I consent', 1), ('consent to', 1), ('to serve', 1), ('serve a', 1), ('term But', 1), ('is danger', 1), ('to public', 1), ('public liberty', 1), ('liberty from', 1), ('acknowledged defects', 1), ('Constitution in', 1), ('the want', 1), ('of limit', 1), ('limit to', 1), ('Executive power', 1), ('same hands', 1), ('hands there', 1), ('I apprehend', 1), ('apprehend not', 1), ('not much', 1), ('much less', 1), ('less from', 1), ('instrument as', 1), ('it regards', 1), ('powers actually', 1), ('actually given', 1), ('given I', 1), ('not conceive', 1), ('conceive that', 1), ('that by', 1), ('fair construction', 1), ('construction any', 1), ('any or', 1), ('provisions would', 1), ('constitute the', 1), ('President a', 1), ('legislative power', 1), ('power It', 1), ('be claimed', 1), ('claimed from', 1), ('recommend since', 1), ('since although', 1), ('although enjoined', 1), ('enjoined as', 1), ('a duty', 1), ('duty upon', 1), ('upon him', 1), ('him it', 1), ('a privilege', 1), ('privilege which', 1), ('holds in', 1), ('in common', 1), ('common with', 1), ('every other', 1), ('other citizen', 1), ('citizen and', 1), ('and although', 1), ('be something', 1), ('something more', 1), ('more of', 1), ('the propriety', 1), ('propriety of', 1), ('measures recommended', 1), ('recommended in', 1), ('one case', 1), ('case than', 1), ('than in', 1), ('other in', 1), ('the obligations', 1), ('obligations of', 1), ('of ultimate', 1), ('ultimate decision', 1), ('decision there', 1), ('there can', 1), ('be no', 1), ('no difference', 1), ('difference In', 1), ('Constitution all', 1), ('legislative powers', 1), ('it grants', 1), ('grants are', 1), ('are vested', 1), ('vested in', 1), ('the Congress', 1), ('States It', 1), ('be a', 1), ('a solecism', 1), ('solecism in', 1), ('in language', 1), ('language to', 1), ('that any', 1), ('any portion', 1), ('portion of', 1), ('these is', 1), ('not included', 1), ('included in', 1), ('whole It', 1), ('be said', 1), ('said indeed', 1), ('has given', 1), ('to annul', 1), ('annul the', 1), ('body by', 1), ('by refusing', 1), ('refusing to', 1), ('them his', 1), ('his assent', 1), ('assent So', 1), ('So a', 1), ('similar power', 1), ('power has', 1), ('has necessarily', 1), ('necessarily resulted', 1), ('resulted from', 1), ('from that', 1), ('judiciary and', 1), ('yet the', 1), ('judiciary forms', 1), ('forms no', 1), ('Legislature There', 1), ('is it', 1), ('true this', 1), ('this difference', 1), ('difference between', 1), ('between these', 1), ('these grants', 1), ('grants of', 1), ('power The', 1), ('The Executive', 1), ('Executive can', 1), ('can put', 1), ('put his', 1), ('his negative', 1), ('Legislature for', 1), ('for other', 1), ('other cause', 1), ('cause than', 1), ('than that', 1), ('Constitution whilst', 1), ('judiciary can', 1), ('only declare', 1), ('void those', 1), ('which violate', 1), ('violate that', 1), ('instrument But', 1), ('the decision', 1), ('decision of', 1), ('judiciary is', 1), ('is final', 1), ('final in', 1), ('in such', 1), ('a case', 1), ('case whereas', 1), ('whereas in', 1), ('every instance', 1), ('instance where', 1), ('veto of', 1), ('Executive is', 1), ('is applied', 1), ('applied it', 1), ('be overcome', 1), ('overcome by', 1), ('a vote', 1), ('vote of', 1), ('of two-thirds', 1), ('two-thirds of', 1), ('of both', 1), ('The negative', 1), ('legislative by', 1), ('executive authority', 1), ('authority and', 1), ('one individual', 1), ('individual would', 1), ('would seem', 1), ('an incongruity', 1), ('incongruity in', 1), ('system Like', 1), ('Like some', 1), ('some others', 1), ('others of', 1), ('similar character', 1), ('character however', 1), ('however it', 1), ('be highly', 1), ('highly expedient', 1), ('expedient and', 1), ('and if', 1), ('if used', 1), ('the forbearance', 1), ('forbearance and', 1), ('intended by', 1), ('by its', 1), ('its authors', 1), ('authors it', 1), ('be productive', 1), ('great good', 1), ('good and', 1), ('found one', 1), ('best safeguards', 1), ('safeguards to', 1), ('Union At', 1), ('At the', 1), ('the period', 1), ('formation of', 1), ('principle does', 1), ('have enjoyed', 1), ('enjoyed much', 1), ('much favor', 1), ('favor in', 1), ('governments It', 1), ('It existed', 1), ('existed but', 1), ('in two', 1), ('two and', 1), ('these there', 1), ('was a', 1), ('a plural', 1), ('plural executive', 1), ('executive If', 1), ('If we', 1), ('would search', 1), ('search for', 1), ('the motives', 1), ('motives which', 1), ('which operated', 1), ('operated upon', 1), ('the purely', 1), ('purely patriotic', 1), ('patriotic and', 1), ('and enlightened', 1), ('enlightened assembly', 1), ('assembly which', 1), ('which framed', 1), ('Constitution for', 1), ('a provision', 1), ('provision so', 1), ('so apparently', 1), ('apparently repugnant', 1), ('leading democratic', 1), ('democratic principle', 1), ('majority should', 1), ('should govern', 1), ('govern we', 1), ('we must', 1), ('must reject', 1), ('reject the', 1), ('the idea', 1), ('idea that', 1), ('they anticipated', 1), ('anticipated from', 1), ('it any', 1), ('any benefit', 1), ('benefit to', 1), ('the ordinary', 1), ('ordinary course', 1), ('of legislation', 1), ('legislation They', 1), ('They knew', 1), ('knew too', 1), ('well the', 1), ('high degree', 1), ('of intelligence', 1), ('intelligence which', 1), ('which existed', 1), ('existed among', 1), ('the enlightened', 1), ('enlightened character', 1), ('State legislatures', 1), ('legislatures not', 1), ('the fullest', 1), ('fullest confidence', 1), ('confidence that', 1), ('the two', 1), ('two bodies', 1), ('bodies elected', 1), ('elected by', 1), ('them would', 1), ('be worthy', 1), ('worthy representatives', 1), ('such constituents', 1), ('constituents and', 1), ('course that', 1), ('they would', 1), ('would require', 1), ('require no', 1), ('no aid', 1), ('aid in', 1), ('in conceiving', 1), ('conceiving and', 1), ('and maturing', 1), ('maturing the', 1), ('measures which', 1), ('country might', 1), ('might require', 1), ('require And', 1), ('And it', 1), ('is preposterous', 1), ('preposterous to', 1), ('to suppose', 1), ('suppose that', 1), ('a thought', 1), ('thought could', 1), ('could for', 1), ('a moment', 1), ('moment have', 1), ('been entertained', 1), ('entertained that', 1), ('President placed', 1), ('the capital', 1), ('capital in', 1), ('the center', 1), ('center of', 1), ('country could', 1), ('could better', 1), ('better understand', 1), ('and wishes', 1), ('wishes of', 1), ('people than', 1), ('own immediate', 1), ('representatives who', 1), ('who spend', 1), ('spend a', 1), ('every year', 1), ('year among', 1), ('among them', 1), ('them living', 1), ('living with', 1), ('them often', 1), ('often laboring', 1), ('laboring with', 1), ('and bound', 1), ('bound to', 1), ('the triple', 1), ('triple tie', 1), ('interest duty', 1), ('duty and', 1), ('affection To', 1), ('To assist', 1), ('assist or', 1), ('or control', 1), ('control Congress', 1), ('Congress then', 1), ('then in', 1), ('its ordinary', 1), ('ordinary legislation', 1), ('legislation could', 1), ('not I', 1), ('conceive have', 1), ('the motive', 1), ('motive for', 1), ('for conferring', 1), ('conferring the', 1), ('power on', 1), ('President This', 1), ('This argument', 1), ('argument acquires', 1), ('acquires additional', 1), ('additional force', 1), ('force from', 1), ('fact of', 1), ('its never', 1), ('never having', 1), ('having been', 1), ('been thus', 1), ('thus used', 1), ('used by', 1), ('the first', 1), ('first six', 1), ('six Presidents--and', 1), ('Presidents--and two', 1), ('them were', 1), ('were members', 1), ('Convention one', 1), ('one presiding', 1), ('presiding over', 1), ('over its', 1), ('its deliberations', 1), ('deliberations and', 1), ('other bearing', 1), ('bearing a', 1), ('a larger', 1), ('larger share', 1), ('share in', 1), ('in consummating', 1), ('consummating the', 1), ('that august', 1), ('august body', 1), ('body than', 1), ('other person', 1), ('person But', 1), ('if bills', 1), ('bills were', 1), ('were never', 1), ('never returned', 1), ('returned to', 1), ('Congress by', 1), ('by either', 1), ('the Presidents', 1), ('Presidents above', 1), ('above referred', 1), ('referred to', 1), ('to upon', 1), ('the ground', 1), ('ground of', 1), ('their being', 1), ('being inexpedient', 1), ('inexpedient or', 1), ('well adapted', 1), ('adapted as', 1), ('as they', 1), ('be to', 1), ('wants of', 1), ('people the', 1), ('veto was', 1), ('was applied', 1), ('applied upon', 1), ('Constitution or', 1), ('or because', 1), ('because errors', 1), ('errors had', 1), ('committed from', 1), ('a too', 1), ('too hasty', 1), ('hasty enactment', 1), ('enactment There', 1), ('is another', 1), ('another ground', 1), ('ground for', 1), ('veto principle', 1), ('principle which', 1), ('had probably', 1), ('probably more', 1), ('more influence', 1), ('influence in', 1), ('in recommending', 1), ('recommending it', 1), ('Convention than', 1), ('other I', 1), ('I refer', 1), ('refer to', 1), ('security which', 1), ('it gives', 1), ('gives to', 1), ('the just', 1), ('and equitable', 1), ('equitable action', 1), ('action of', 1), ('Legislature upon', 1), ('upon all', 1), ('all parts', 1), ('Union It', 1), ('It could', 1), ('not but', 1), ('but have', 1), ('occurred to', 1), ('Convention that', 1), ('a country', 1), ('country so', 1), ('so extensive', 1), ('extensive embracing', 1), ('embracing so', 1), ('so great', 1), ('great a', 1), ('a variety', 1), ('variety of', 1), ('of soil', 1), ('soil and', 1), ('and climate', 1), ('climate and', 1), ('consequently of', 1), ('of products', 1), ('products and', 1), ('which from', 1), ('causes must', 1), ('must ever', 1), ('ever exhibit', 1), ('exhibit a', 1), ('great difference', 1), ('difference in', 1), ('the population', 1), ('population of', 1), ('its various', 1), ('various sections', 1), ('sections calling', 1), ('calling for', 1), ('great diversity', 1), ('diversity in', 1), ('the employments', 1), ('employments of', 1), ('people that', 1), ('majority might', 1), ('might not', 1), ('not always', 1), ('always justly', 1), ('justly regard', 1), ('regard the', 1), ('rights and', 1), ('and interests', 1), ('the minority', 1), ('minority and', 1), ('that acts', 1), ('this character', 1), ('character might', 1), ('be passed', 1), ('passed under', 1), ('under an', 1), ('grant by', 1), ('the words', 1), ('words of', 1), ('and therefore', 1), ('therefore not', 1), ('not within', 1), ('the competency', 1), ('competency of', 1), ('judiciary to', 1), ('to declare', 1), ('void that', 1), ('that however', 1), ('however enlightened', 1), ('enlightened and', 1), ('and patriotic', 1), ('patriotic they', 1), ('might suppose', 1), ('suppose from', 1), ('from past', 1), ('past experience', 1), ('experience the', 1), ('the members', 1), ('Congress might', 1), ('be and', 1), ('and however', 1), ('however largely', 1), ('largely partaking', 1), ('partaking in', 1), ('general of', 1), ('the liberal', 1), ('liberal feelings', 1), ('people it', 1), ('was impossible', 1), ('impossible to', 1), ('to expect', 1), ('expect that', 1), ('that bodies', 1), ('bodies so', 1), ('so constituted', 1), ('constituted should', 1), ('should not', 1), ('not sometimes', 1), ('be controlled', 1), ('controlled by', 1), ('by local', 1), ('local interests', 1), ('and sectional', 1), ('sectional feelings', 1), ('feelings It', 1), ('was proper', 1), ('proper therefore', 1), ('therefore to', 1), ('to provide', 1), ('provide some', 1), ('some umpire', 1), ('umpire from', 1), ('from whose', 1), ('whose situation', 1), ('situation and', 1), ('and mode', 1), ('of appointment', 1), ('appointment more', 1), ('more independence', 1), ('and freedom', 1), ('freedom from', 1), ('from such', 1), ('such influences', 1), ('influences might', 1), ('expected Such', 1), ('a one', 1), ('one was', 1), ('was afforded', 1), ('afforded by', 1), ('department constituted', 1), ('Constitution A', 1), ('A person', 1), ('person elected', 1), ('elected to', 1), ('office having', 1), ('having his', 1), ('his constituents', 1), ('constituents in', 1), ('every section', 1), ('section State', 1), ('State and', 1), ('and subdivision', 1), ('subdivision of', 1), ('Union must', 1), ('must consider', 1), ('consider himself', 1), ('himself bound', 1), ('bound by', 1), ('most solemn', 1), ('solemn sanctions', 1), ('sanctions to', 1), ('to guard', 1), ('guard protect', 1), ('protect and', 1), ('and defend', 1), ('defend the', 1), ('all and', 1), ('every portion', 1), ('portion great', 1), ('great or', 1), ('or small', 1), ('small from', 1), ('the injustice', 1), ('injustice and', 1), ('and oppression', 1), ('oppression of', 1), ('rest I', 1), ('consider the', 1), ('power therefore', 1), ('therefore given', 1), ('given by', 1), ('Constitution to', 1), ('Executive of', 1), ('States solely', 1), ('solely as', 1), ('a conservative', 1), ('conservative power', 1), ('only first', 1), ('first to', 1), ('to protect', 1), ('protect the', 1), ('Constitution from', 1), ('from violation', 1), ('violation secondly', 1), ('secondly the', 1), ('people from', 1), ('of hasty', 1), ('hasty legislation', 1), ('legislation where', 1), ('where their', 1), ('their will', 1), ('will has', 1), ('been probably', 1), ('probably disregarded', 1), ('disregarded or', 1), ('well understood', 1), ('and thirdly', 1), ('thirdly to', 1), ('of combinations', 1), ('combinations violative', 1), ('violative of', 1), ('of minorities', 1), ('minorities In', 1), ('In reference', 1), ('the second', 1), ('second of', 1), ('these objects', 1), ('objects I', 1), ('I may', 1), ('may observe', 1), ('observe that', 1), ('consider it', 1), ('right and', 1), ('and privilege', 1), ('to decide', 1), ('decide disputed', 1), ('points of', 1), ('Constitution arising', 1), ('arising from', 1), ('general grant', 1), ('Congress to', 1), ('powers expressly', 1), ('expressly given', 1), ('given and', 1), ('believe with', 1), ('with Mr', 1), ('Mr Madison', 1), ('Madison that', 1), ('that repeated', 1), ('repeated recognitions', 1), ('recognitions under', 1), ('under varied', 1), ('varied circumstances', 1), ('circumstances in', 1), ('in acts', 1), ('legislative executive', 1), ('executive and', 1), ('and judicial', 1), ('judicial branches', 1), ('branches of', 1), ('Government accompanied', 1), ('accompanied by', 1), ('by indications', 1), ('indications in', 1), ('in different', 1), ('different modes', 1), ('modes of', 1), ('the concurrence', 1), ('concurrence of', 1), ('general will', 1), ('will of', 1), ('nation as', 1), ('as affording', 1), ('affording to', 1), ('President sufficient', 1), ('sufficient authority', 1), ('authority for', 1), ('his considering', 1), ('considering such', 1), ('such disputed', 1), ('points as', 1), ('as settled', 1), ('settled Upward', 1), ('Upward of', 1), ('of half', 1), ('half a', 1), ('a century', 1), ('century has', 1), ('has elapsed', 1), ('elapsed since', 1), ('present form', 1), ('form of', 1), ('government It', 1), ('an object', 1), ('object more', 1), ('more highly', 1), ('highly desirable', 1), ('desirable than', 1), ('the gratification', 1), ('gratification of', 1), ('the curiosity', 1), ('curiosity of', 1), ('of speculative', 1), ('speculative statesmen', 1), ('statesmen if', 1), ('if its', 1), ('its precise', 1), ('precise situation', 1), ('situation could', 1), ('could be', 1), ('be ascertained', 1), ('ascertained a', 1), ('fair exhibit', 1), ('exhibit made', 1), ('the operations', 1), ('its departments', 1), ('claim and', 1), ('and exercise', 1), ('the collisions', 1), ('collisions which', 1), ('occurred between', 1), ('between them', 1), ('them or', 1), ('or between', 1), ('whole Government', 1), ('States or', 1), ('them We', 1), ('We could', 1), ('could then', 1), ('then compare', 1), ('compare our', 1), ('our actual', 1), ('actual condition', 1), ('condition after', 1), ('after fifty', 1), ('fifty years', 1), ('years trial', 1), ('trial of', 1), ('system with', 1), ('with what', 1), ('what it', 1), ('was in', 1), ('operations and', 1), ('and ascertain', 1), ('ascertain whether', 1), ('whether the', 1), ('the predictions', 1), ('predictions of', 1), ('the patriots', 1), ('patriots who', 1), ('who opposed', 1), ('opposed its', 1), ('its adoption', 1), ('adoption or', 1), ('the confident', 1), ('confident hopes', 1), ('hopes of', 1), ('its advocates', 1), ('advocates have', 1), ('been best', 1), ('best realized', 1), ('realized The', 1), ('The great', 1), ('great dread', 1), ('dread of', 1), ('former seems', 1), ('been that', 1), ('States would', 1), ('be absorbed', 1), ('absorbed by', 1), ('a consolidated', 1), ('consolidated power', 1), ('power established', 1), ('established leaving', 1), ('leaving to', 1), ('States the', 1), ('the shadow', 1), ('shadow only', 1), ('only of', 1), ('that independent', 1), ('independent action', 1), ('action for', 1), ('they had', 1), ('had so', 1), ('so zealously', 1), ('zealously contended', 1), ('contended and', 1), ('and on', 1), ('the preservation', 1), ('preservation of', 1), ('they relied', 1), ('relied as', 1), ('the last', 1), ('last hope', 1), ('hope of', 1), ('liberty Without', 1), ('Without denying', 1), ('denying that', 1), ('result to', 1), ('they looked', 1), ('looked with', 1), ('with so', 1), ('much apprehension', 1), ('apprehension is', 1), ('the way', 1), ('way of', 1), ('of being', 1), ('being realized', 1), ('realized it', 1), ('is obvious', 1), ('obvious that', 1), ('they did', 1), ('did not', 1), ('not clearly', 1), ('clearly see', 1), ('see the', 1), ('its accomplishment', 1), ('accomplishment The', 1), ('The General', 1), ('Government has', 1), ('has seized', 1), ('seized upon', 1), ('upon none', 1), ('States As', 1), ('as any', 1), ('any open', 1), ('open warfare', 1), ('warfare may', 1), ('have gone', 1), ('gone the', 1), ('authorities have', 1), ('have amply', 1), ('amply maintained', 1), ('maintained their', 1), ('rights To', 1), ('To a', 1), ('a casual', 1), ('casual observer', 1), ('observer our', 1), ('system presents', 1), ('presents no', 1), ('no appearance', 1), ('appearance of', 1), ('discord between', 1), ('the different', 1), ('different members', 1), ('members which', 1), ('which compose', 1), ('compose it', 1), ('it Even', 1), ('Even the', 1), ('the addition', 1), ('addition of', 1), ('many new', 1), ('new ones', 1), ('ones has', 1), ('has produced', 1), ('produced no', 1), ('no jarring', 1), ('jarring They', 1), ('They move', 1), ('move in', 1), ('respective orbits', 1), ('orbits in', 1), ('in perfect', 1), ('perfect harmony', 1), ('the central', 1), ('central head', 1), ('head and', 1), ('and with', 1), ('with each', 1), ('other But', 1), ('But there', 1), ('is still', 1), ('still an', 1), ('an undercurrent', 1), ('undercurrent at', 1), ('at work', 1), ('work by', 1), ('which if', 1), ('not seasonably', 1), ('seasonably checked', 1), ('checked the', 1), ('the worst', 1), ('worst apprehensions', 1), ('apprehensions of', 1), ('our antifederal', 1), ('antifederal patriots', 1), ('patriots will', 1), ('realized and', 1), ('only will', 1), ('authorities be', 1), ('be overshadowed', 1), ('overshadowed by', 1), ('increase of', 1), ('that Government', 1), ('Government if', 1), ('not its', 1), ('its designation', 1), ('designation be', 1), ('be essentially', 1), ('essentially and', 1), ('and radically', 1), ('radically changed', 1), ('changed This', 1), ('This state', 1), ('things has', 1), ('part effected', 1), ('by causes', 1), ('causes inherent', 1), ('inherent in', 1), ('part by', 1), ('the never-failing', 1), ('never-failing tendency', 1), ('political power', 1), ('itself By', 1), ('By making', 1), ('making the', 1), ('President the', 1), ('the sole', 1), ('sole distributer', 1), ('distributer of', 1), ('the patronage', 1), ('patronage of', 1), ('Constitution do', 1), ('have anticipated', 1), ('anticipated at', 1), ('at how', 1), ('how short', 1), ('short a', 1), ('period it', 1), ('would become', 1), ('become a', 1), ('a formidable', 1), ('formidable instrument', 1), ('the free', 1), ('free operations', 1), ('governments Of', 1), ('Of trifling', 1), ('trifling importance', 1), ('importance at', 1), ('first it', 1), ('had early', 1), ('early in', 1), ('in Mr', 1), (\"Mr Jefferson's\", 1), (\"Jefferson's Administration\", 1), ('Administration become', 1), ('become so', 1), ('so powerful', 1), ('powerful as', 1), ('create great', 1), ('great alarm', 1), ('alarm in', 1), ('the mind', 1), ('that patriot', 1), ('patriot from', 1), ('the potent', 1), ('potent influence', 1), ('influence it', 1), ('it might', 1), ('might exert', 1), ('exert in', 1), ('franchise If', 1), ('such could', 1), ('have then', 1), ('then been', 1), ('its influence', 1), ('influence how', 1), ('how much', 1), ('much greater', 1), ('greater must', 1), ('danger at', 1), ('time quadrupled', 1), ('quadrupled in', 1), ('in amount', 1), ('amount as', 1), ('it certainly', 1), ('certainly is', 1), ('is and', 1), ('more completely', 1), ('completely under', 1), ('will than', 1), ('their construction', 1), ('their powers', 1), ('powers allowed', 1), ('allowed or', 1), ('the forbearing', 1), ('forbearing characters', 1), ('the early', 1), ('early Presidents', 1), ('Presidents permitted', 1), ('permitted them', 1), ('make But', 1), ('But it', 1), ('not by', 1), ('its patronage', 1), ('patronage alone', 1), ('alone that', 1), ('department has', 1), ('has become', 1), ('become dangerous', 1), ('dangerous but', 1), ('the use', 1), ('use which', 1), ('appears may', 1), ('be made', 1), ('the appointing', 1), ('appointing power', 1), ('bring under', 1), ('under its', 1), ('its control', 1), ('whole revenues', 1), ('revenues of', 1), ('has declared', 1), ('declared it', 1), ('to see', 1), ('see that', 1), ('the laws', 1), ('laws are', 1), ('are executed', 1), ('executed and', 1), ('it makes', 1), ('makes him', 1), ('the Commander', 1), ('Commander in', 1), ('in Chief', 1), ('Chief of', 1), ('the Armies', 1), ('Armies and', 1), ('and Navy', 1), ('Navy of', 1), ('States If', 1), ('If the', 1), ('most approved', 1), ('approved writers', 1), ('writers upon', 1), ('that species', 1), ('species of', 1), ('of mixed', 1), ('mixed government', 1), ('in modern', 1), ('modern Europe', 1), ('Europe is', 1), ('is termed', 1), ('termed monarchy', 1), ('monarchy in', 1), ('in contradistinction', 1), ('contradistinction to', 1), ('to despotism', 1), ('despotism is', 1), ('is correct', 1), ('correct there', 1), ('was wanting', 1), ('wanting no', 1), ('other addition', 1), ('addition to', 1), ('our Chief', 1), ('Magistrate to', 1), ('to stamp', 1), ('stamp a', 1), ('a monarchical', 1), ('monarchical character', 1), ('character on', 1), ('on our', 1), ('public finances', 1), ('finances and', 1), ('appears strange', 1), ('that anyone', 1), ('anyone should', 1), ('should doubt', 1), ('doubt that', 1), ('the entire', 1), ('entire control', 1), ('control which', 1), ('President possesses', 1), ('possesses over', 1), ('over the', 1), ('the officers', 1), ('officers who', 1), ('the custody', 1), ('custody of', 1), ('money by', 1), ('removal with', 1), ('without cause', 1), ('cause does', 1), ('does for', 1), ('for all', 1), ('all mischievous', 1), ('mischievous purposes', 1), ('purposes at', 1), ('least virtually', 1), ('virtually subject', 1), ('subject the', 1), ('the treasure', 1), ('treasure also', 1), ('his disposal', 1), ('disposal The', 1), ('The first', 1), ('first Roman', 1), ('Roman Emperor', 1), ('Emperor in', 1), ('his attempt', 1), ('attempt to', 1), ('to seize', 1), ('seize the', 1), ('the sacred', 1), ('sacred treasure', 1), ('treasure silenced', 1), ('silenced the', 1), ('the opposition', 1), ('opposition of', 1), ('officer to', 1), ('to whose', 1), ('whose charge', 1), ('charge it', 1), ('committed by', 1), ('a significant', 1), ('significant allusion', 1), ('allusion to', 1), ('his sword', 1), ('sword By', 1), ('a selection', 1), ('selection of', 1), ('political instruments', 1), ('instruments for', 1), ('the care', 1), ('care of', 1), ('money a', 1), ('a reference', 1), ('their commissions', 1), ('commissions by', 1), ('a President', 1), ('President would', 1), ('be quite', 1), ('quite as', 1), ('as effectual', 1), ('effectual an', 1), ('an argument', 1), ('argument as', 1), ('as that', 1), ('of Caesar', 1), ('Caesar to', 1), ('Roman knight', 1), ('knight I', 1), ('I am', 1), ('am not', 1), ('not insensible', 1), ('insensible of', 1), ('great difficulty', 1), ('difficulty that', 1), ('that exists', 1), ('in drawing', 1), ('drawing a', 1), ('a proper', 1), ('proper plan', 1), ('plan for', 1), ('the safe-keeping', 1), ('safe-keeping and', 1), ('and disbursement', 1), ('disbursement of', 1), ('public revenues', 1), ('revenues and', 1), ('I know', 1), ('know the', 1), ('the importance', 1), ('importance which', 1), ('been attached', 1), ('attached by', 1), ('by men', 1), ('men of', 1), ('great abilities', 1), ('abilities and', 1), ('patriotism to', 1), ('divorce as', 1), ('called of', 1), ('Treasury from', 1), ('the banking', 1), ('banking institutions', 1), ('institutions It', 1), ('divorce which', 1), ('is complained', 1), ('of but', 1), ('the unhallowed', 1), ('unhallowed union', 1), ('Treasury with', 1), ('department which', 1), ('has created', 1), ('created such', 1), ('such extensive', 1), ('extensive alarm', 1), ('alarm To', 1), ('To this', 1), ('this danger', 1), ('our republican', 1), ('republican institutions', 1), ('institutions and', 1), ('that created', 1), ('created by', 1), ('influence given', 1), ('Executive through', 1), ('the instrumentality', 1), ('instrumentality of', 1), ('Federal officers', 1), ('officers I', 1), ('I propose', 1), ('propose to', 1), ('apply all', 1), ('the remedies', 1), ('remedies which', 1), ('be at', 1), ('at my', 1), ('my command', 1), ('command It', 1), ('was certainly', 1), ('certainly a', 1), ('great error', 1), ('error in', 1), ('Constitution not', 1), ('made the', 1), ('the head', 1), ('head of', 1), ('Treasury Department', 1), ('Department entirely', 1), ('entirely independent', 1), ('independent of', 1), ('Executive He', 1), ('He should', 1), ('should at', 1), ('least have', 1), ('been removable', 1), ('removable only', 1), ('only upon', 1), ('the demand', 1), ('demand of', 1), ('the popular', 1), ('popular branch', 1), ('Legislature I', 1), ('have determined', 1), ('determined never', 1), ('never to', 1), ('to remove', 1), ('remove a', 1), ('a Secretary', 1), ('Secretary of', 1), ('Treasury without', 1), ('without communicating', 1), ('communicating all', 1), ('circumstances attending', 1), ('attending such', 1), ('such removal', 1), ('removal to', 1), ('to both', 1), ('The influence', 1), ('Executive in', 1), ('franchise through', 1), ('the medium', 1), ('medium of', 1), ('public officers', 1), ('officers can', 1), ('be effectually', 1), ('effectually checked', 1), ('checked by', 1), ('the prohibition', 1), ('prohibition published', 1), ('published by', 1), ('Jefferson forbidding', 1), ('forbidding their', 1), ('their interference', 1), ('in elections', 1), ('elections further', 1), ('further than', 1), ('than giving', 1), ('giving their', 1), ('own votes', 1), ('votes and', 1), ('own independence', 1), ('independence secured', 1), ('secured by', 1), ('an assurance', 1), ('assurance of', 1), ('of perfect', 1), ('perfect immunity', 1), ('immunity in', 1), ('in exercising', 1), ('exercising this', 1), ('this sacred', 1), ('sacred privilege', 1), ('of freemen', 1), ('freemen under', 1), ('the dictates', 1), ('dictates of', 1), ('own unbiased', 1), ('unbiased judgments', 1), ('judgments Never', 1), ('Never with', 1), ('with my', 1), ('my consent', 1), ('consent shall', 1), ('shall an', 1), ('an officer', 1), ('officer of', 1), ('people compensated', 1), ('compensated for', 1), ('his services', 1), ('services out', 1), ('out of', 1), ('their pockets', 1), ('pockets become', 1), ('the pliant', 1), ('pliant instrument', 1), ('instrument of', 1), ('will There', 1), ('is no', 1), ('means placed', 1), ('Executive which', 1), ('which might', 1), ('used with', 1), ('with greater', 1), ('greater effect', 1), ('effect for', 1), ('for unhallowed', 1), ('unhallowed purposes', 1), ('purposes than', 1), ('public press', 1), ('press The', 1), ('The maxim', 1), ('maxim which', 1), ('ancestors derived', 1), ('derived from', 1), ('the mother', 1), ('mother country', 1), ('the press', 1), ('press is', 1), ('great bulwark', 1), ('bulwark of', 1), ('most precious', 1), ('precious legacies', 1), ('legacies which', 1), ('have left', 1), ('left us', 1), ('us We', 1), ('have learned', 1), ('learned too', 1), ('too from', 1), ('own as', 1), ('the experience', 1), ('experience of', 1), ('other countries', 1), ('countries that', 1), ('that golden', 1), ('golden shackles', 1), ('shackles by', 1), ('by whomsoever', 1), ('whomsoever or', 1), ('or by', 1), ('by whatever', 1), ('whatever pretense', 1), ('pretense imposed', 1), ('imposed are', 1), ('are as', 1), ('as fatal', 1), ('fatal to', 1), ('it as', 1), ('the iron', 1), ('iron bonds', 1), ('bonds of', 1), ('of despotism', 1), ('despotism The', 1), ('The presses', 1), ('presses in', 1), ('the necessary', 1), ('necessary employment', 1), ('employment of', 1), ('used to', 1), ('to clear', 1), ('clear the', 1), ('the guilty', 1), ('guilty or', 1), ('or to', 1), ('to varnish', 1), ('varnish crime', 1), ('crime A', 1), ('A decent', 1), ('decent and', 1), ('and manly', 1), ('manly examination', 1), ('be not', 1), ('only tolerated', 1), ('tolerated but', 1), ('but encouraged', 1), ('encouraged Upon', 1), ('Upon another', 1), ('another occasion', 1), ('occasion I', 1), ('have given', 1), ('given my', 1), ('opinion at', 1), ('at some', 1), ('some length', 1), ('length upon', 1), ('the impropriety', 1), ('impropriety of', 1), ('Executive interference', 1), ('of Congress--that', 1), ('Congress--that the', 1), ('the article', 1), ('article in', 1), ('Constitution making', 1), ('to communicate', 1), ('communicate information', 1), ('information and', 1), ('and authorizing', 1), ('authorizing him', 1), ('recommend measures', 1), ('measures was', 1), ('was not', 1), ('not intended', 1), ('make him', 1), ('source in', 1), ('in legislation', 1), ('in particular', 1), ('particular that', 1), ('he should', 1), ('be looked', 1), ('looked to', 1), ('to for', 1), ('for schemes', 1), ('of finance', 1), ('finance It', 1), ('be very', 1), ('very strange', 1), ('Constitution should', 1), ('should have', 1), ('have strictly', 1), ('strictly forbidden', 1), ('forbidden one', 1), ('one branch', 1), ('Legislature from', 1), ('from interfering', 1), ('interfering in', 1), ('the origination', 1), ('origination of', 1), ('such bills', 1), ('bills and', 1), ('it should', 1), ('be considered', 1), ('considered proper', 1), ('that an', 1), ('an altogether', 1), ('altogether different', 1), ('different department', 1), ('be permitted', 1), ('permitted to', 1), ('to do', 1), ('do so', 1), ('so Some', 1), ('our best', 1), ('best political', 1), ('political maxims', 1), ('maxims and', 1), ('opinions have', 1), ('been drawn', 1), ('drawn from', 1), ('our parent', 1), ('parent isle', 1), ('isle There', 1), ('There are', 1), ('are others', 1), ('others however', 1), ('however which', 1), ('which can', 1), ('be introduced', 1), ('introduced in', 1), ('system without', 1), ('without singular', 1), ('singular incongruity', 1), ('incongruity and', 1), ('the production', 1), ('production of', 1), ('of much', 1), ('much mischief', 1), ('mischief and', 1), ('this I', 1), ('conceive to', 1), ('be one', 1), ('one No', 1), ('No matter', 1), ('matter in', 1), ('which of', 1), ('the houses', 1), ('houses of', 1), ('of Parliament', 1), ('Parliament a', 1), ('a bill', 1), ('bill may', 1), ('may originate', 1), ('originate nor', 1), ('nor by', 1), ('by whom', 1), ('whom introduced--a', 1), ('introduced--a minister', 1), ('minister or', 1), ('or a', 1), ('a member', 1), ('the opposition--by', 1), ('opposition--by the', 1), ('the fiction', 1), ('fiction of', 1), ('law or', 1), ('or rather', 1), ('rather of', 1), ('of constitutional', 1), ('constitutional principle', 1), ('sovereign is', 1), ('is supposed', 1), ('have prepared', 1), ('prepared it', 1), ('it agreeably', 1), ('agreeably to', 1), ('his will', 1), ('will and', 1), ('and then', 1), ('then submitted', 1), ('submitted it', 1), ('to Parliament', 1), ('Parliament for', 1), ('their advice', 1), ('advice and', 1), ('and consent', 1), ('consent Now', 1), ('Now the', 1), ('very reverse', 1), ('reverse is', 1), ('case here', 1), ('here not', 1), ('with regard', 1), ('regard to', 1), ('principle but', 1), ('forms prescribed', 1), ('Constitution The', 1), ('The principle', 1), ('principle certainly', 1), ('certainly assigns', 1), ('assigns to', 1), ('only body', 1), ('body constituted', 1), ('make laws', 1), ('forms even', 1), ('even direct', 1), ('direct that', 1), ('the enactment', 1), ('enactment should', 1), ('be ascribed', 1), ('ascribed to', 1), ('The Senate', 1), ('Senate in', 1), ('to revenue', 1), ('revenue bills', 1), ('bills have', 1), ('amendments and', 1), ('so has', 1), ('has the', 1), ('Executive by', 1), ('power given', 1), ('given him', 1), ('to return', 1), ('return them', 1), ('the House', 1), ('House of', 1), ('of Representatives', 1), ('Representatives with', 1), ('his objections', 1), ('objections It', 1), ('his power', 1), ('power also', 1), ('amendments in', 1), ('the existing', 1), ('existing revenue', 1), ('revenue laws', 1), ('laws suggested', 1), ('suggested by', 1), ('his observations', 1), ('observations upon', 1), ('their defective', 1), ('defective or', 1), ('or injurious', 1), ('injurious operation', 1), ('operation But', 1), ('the delicate', 1), ('delicate duty', 1), ('of devising', 1), ('devising schemes', 1), ('of revenue', 1), ('revenue should', 1), ('be left', 1), ('left where', 1), ('has placed', 1), ('placed it--with', 1), ('it--with the', 1), ('the immediate', 1), ('people For', 1), ('For similar', 1), ('similar reasons', 1), ('reasons the', 1), ('public treasure', 1), ('treasure should', 1), ('be prescribed', 1), ('the further', 1), ('further removed', 1), ('removed it', 1), ('be from', 1), ('more wholesome', 1), ('wholesome the', 1), ('the arrangement', 1), ('arrangement and', 1), ('more in', 1), ('in accordance', 1), ('accordance with', 1), ('with republican', 1), ('republican principle', 1), ('principle Connected', 1), ('Connected with', 1), ('with this', 1), ('this subject', 1), ('subject is', 1), ('currency The', 1), ('The idea', 1), ('of making', 1), ('it exclusively', 1), ('exclusively metallic', 1), ('metallic however', 1), ('however well', 1), ('well intended', 1), ('intended appears', 1), ('be fraught', 1), ('fraught with', 1), ('with more', 1), ('more fatal', 1), ('fatal consequences', 1), ('other scheme', 1), ('scheme having', 1), ('having no', 1), ('no relation', 1), ('personal rights', 1), ('citizens that', 1), ('that has', 1), ('has ever', 1), ('ever been', 1), ('been devised', 1), ('devised If', 1), ('If any', 1), ('any single', 1), ('single scheme', 1), ('scheme could', 1), ('could produce', 1), ('the effect', 1), ('effect of', 1), ('of arresting', 1), ('arresting at', 1), ('at once', 1), ('once that', 1), ('that mutation', 1), ('mutation of', 1), ('of condition', 1), ('condition by', 1), ('which thousands', 1), ('thousands of', 1), ('our most', 1), ('most indigent', 1), ('indigent fellow-citizens', 1), ('fellow-citizens by', 1), ('their industry', 1), ('industry and', 1), ('and enterprise', 1), ('enterprise are', 1), ('are raised', 1), ('raised to', 1), ('the possession', 1), ('wealth that', 1), ('that is', 1), ('one If', 1), ('one measure', 1), ('measure better', 1), ('better calculated', 1), ('calculated than', 1), ('than another', 1), ('another to', 1), ('produce that', 1), ('that state', 1), ('things so', 1), ('much deprecated', 1), ('by all', 1), ('true republicans', 1), ('republicans by', 1), ('the rich', 1), ('rich are', 1), ('are daily', 1), ('daily adding', 1), ('adding to', 1), ('their hoards', 1), ('hoards and', 1), ('the poor', 1), ('poor sinking', 1), ('sinking deeper', 1), ('deeper into', 1), ('into penury', 1), ('penury it', 1), ('currency Or', 1), ('Or if', 1), ('process by', 1), ('for generosity', 1), ('generosity and', 1), ('and nobleness', 1), ('nobleness of', 1), ('of feeling', 1), ('feeling may', 1), ('be destroyed', 1), ('destroyed by', 1), ('increase and', 1), ('and neck', 1), ('neck toleration', 1), ('toleration of', 1), ('of usury', 1), ('usury it', 1), ('currency Amongst', 1), ('Amongst the', 1), ('other duties', 1), ('a delicate', 1), ('delicate character', 1), ('character which', 1), ('President is', 1), ('perform is', 1), ('the supervision', 1), ('supervision of', 1), ('the Territories', 1), ('Territories of', 1), ('States Those', 1), ('Those of', 1), ('them which', 1), ('are destined', 1), ('destined to', 1), ('to become', 1), ('become members', 1), ('our great', 1), ('great political', 1), ('political family', 1), ('family are', 1), ('are compensated', 1), ('compensated by', 1), ('their rapid', 1), ('rapid progress', 1), ('progress from', 1), ('from infancy', 1), ('infancy to', 1), ('to manhood', 1), ('manhood for', 1), ('the partial', 1), ('partial and', 1), ('and temporary', 1), ('temporary deprivation', 1), ('deprivation of', 1), ('political rights', 1), ('rights It', 1), ('this District', 1), ('District only', 1), ('only where', 1), ('where American', 1), ('citizens are', 1), ('are to', 1), ('found who', 1), ('who under', 1), ('a settled', 1), ('settled policy', 1), ('policy are', 1), ('are deprived', 1), ('deprived of', 1), ('many important', 1), ('important political', 1), ('political privileges', 1), ('privileges without', 1), ('without any', 1), ('any inspiring', 1), ('inspiring hope', 1), ('hope as', 1), ('the future', 1), ('future Their', 1), ('Their only', 1), ('only consolation', 1), ('consolation under', 1), ('under circumstances', 1), ('such deprivation', 1), ('deprivation is', 1), ('is that', 1), ('the devoted', 1), ('devoted exterior', 1), ('exterior guards', 1), ('guards of', 1), ('a camp--that', 1), ('camp--that their', 1), ('their sufferings', 1), ('sufferings secure', 1), ('secure tranquillity', 1), ('tranquillity and', 1), ('safety within', 1), ('within Are', 1), ('there any', 1), ('their countrymen', 1), ('countrymen who', 1), ('would subject', 1), ('subject them', 1), ('to greater', 1), ('greater sacrifices', 1), ('sacrifices to', 1), ('other humiliations', 1), ('humiliations than', 1), ('than those', 1), ('those essentially', 1), ('essentially necessary', 1), ('security of', 1), ('the object', 1), ('object for', 1), ('they were', 1), ('were thus', 1), ('thus separated', 1), ('separated from', 1), ('from their', 1), ('their fellow-citizens', 1), ('fellow-citizens Are', 1), ('Are their', 1), ('rights alone', 1), ('alone not', 1), ('be guaranteed', 1), ('guaranteed by', 1), ('the application', 1), ('application of', 1), ('those great', 1), ('great principles', 1), ('principles upon', 1), ('which all', 1), ('all our', 1), ('our constitutions', 1), ('constitutions are', 1), ('are founded', 1), ('founded We', 1), ('We are', 1), ('are told', 1), ('told by', 1), ('greatest of', 1), ('of British', 1), ('British orators', 1), ('orators and', 1), ('and statesmen', 1), ('statesmen that', 1), ('the War', 1), ('War of', 1), ('the Revolution', 1), ('Revolution the', 1), ('most stupid', 1), ('stupid men', 1), ('men in', 1), ('in England', 1), ('England spoke', 1), ('spoke of', 1), ('their American', 1), ('American subjects', 1), ('subjects Are', 1), ('there indeed', 1), ('indeed citizens', 1), ('our States', 1), ('States who', 1), ('have dreamed', 1), ('dreamed of', 1), ('subjects in', 1), ('Columbia Such', 1), ('Such dreams', 1), ('dreams can', 1), ('realized by', 1), ('any agency', 1), ('agency of', 1), ('mine The', 1), ('The people', 1), ('Columbia are', 1), ('are not', 1), ('the subjects', 1), ('subjects of', 1), ('but free', 1), ('free American', 1), ('citizens Being', 1), ('Being in', 1), ('latter condition', 1), ('condition when', 1), ('when the', 1), ('Constitution was', 1), ('was formed', 1), ('formed no', 1), ('no words', 1), ('words used', 1), ('instrument could', 1), ('been intended', 1), ('to deprive', 1), ('deprive them', 1), ('them of', 1), ('character If', 1), ('is anything', 1), ('anything in', 1), ('great principle', 1), ('principle of', 1), ('of unalienable', 1), ('unalienable rights', 1), ('rights so', 1), ('so emphatically', 1), ('emphatically insisted', 1), ('insisted upon', 1), ('upon in', 1), ('our Declaration', 1), ('Declaration of', 1), ('of Independence', 1), ('Independence they', 1), ('could neither', 1), ('neither make', 1), ('make nor', 1), ('nor the', 1), ('States accept', 1), ('accept a', 1), ('a surrender', 1), ('surrender of', 1), ('their liberties', 1), ('liberties and', 1), ('and become', 1), (\"the subjects'--in\", 1), (\"subjects'--in other\", 1), ('words the', 1), ('the slaves--of', 1), ('slaves--of their', 1), ('former fellow-citizens', 1), ('fellow-citizens If', 1), ('this be', 1), ('be true--and', 1), ('true--and it', 1), ('will scarcely', 1), ('scarcely be', 1), ('be denied', 1), ('denied by', 1), ('by anyone', 1), ('anyone who', 1), ('has a', 1), ('a correct', 1), ('correct idea', 1), ('own rights', 1), ('rights as', 1), ('as an', 1), ('an American', 1), ('American citizen--the', 1), ('citizen--the grant', 1), ('grant to', 1), ('of exclusive', 1), ('exclusive jurisdiction', 1), ('jurisdiction in', 1), ('Columbia can', 1), ('be interpreted', 1), ('interpreted so', 1), ('as respects', 1), ('the aggregate', 1), ('aggregate people', 1), ('States as', 1), ('as meaning', 1), ('meaning nothing', 1), ('more than', 1), ('to allow', 1), ('allow to', 1), ('Congress the', 1), ('the controlling', 1), ('controlling power', 1), ('power necessary', 1), ('to afford', 1), ('afford a', 1), ('and safe', 1), ('safe exercise', 1), ('the functions', 1), ('functions assigned', 1), ('Government by', 1), ('Constitution In', 1), ('In all', 1), ('all other', 1), ('other respects', 1), ('Congress should', 1), ('be adapted', 1), ('adapted to', 1), ('their peculiar', 1), ('peculiar position', 1), ('position and', 1), ('and wants', 1), ('be conformable', 1), ('conformable with', 1), ('their deliberate', 1), ('deliberate opinions', 1), ('opinions of', 1), ('own interests', 1), ('interests I', 1), ('have spoken', 1), ('spoken of', 1), ('the necessity', 1), ('necessity of', 1), ('respective departments', 1), ('Government as', 1), ('as all', 1), ('other authorities', 1), ('country within', 1), ('within their', 1), ('their appropriate', 1), ('appropriate orbits', 1), ('orbits This', 1), ('a matter', 1), ('matter of', 1), ('of difficulty', 1), ('in some', 1), ('some cases', 1), ('cases as', 1), ('claim are', 1), ('are often', 1), ('often not', 1), ('not defined', 1), ('defined by', 1), ('any distinct', 1), ('distinct lines', 1), ('lines Mischievous', 1), ('Mischievous however', 1), ('however in', 1), ('their tendencies', 1), ('tendencies as', 1), ('collisions of', 1), ('this kind', 1), ('kind may', 1), ('be those', 1), ('which arise', 1), ('arise between', 1), ('respective communities', 1), ('communities which', 1), ('which for', 1), ('for certain', 1), ('certain purposes', 1), ('purposes compose', 1), ('compose one', 1), ('one nation', 1), ('nation are', 1), ('are much', 1), ('much more', 1), ('more so', 1), ('so for', 1), ('no such', 1), ('such nation', 1), ('nation can', 1), ('can long', 1), ('long exist', 1), ('exist without', 1), ('without the', 1), ('the careful', 1), ('careful culture', 1), ('culture of', 1), ('those feelings', 1), ('confidence and', 1), ('affection which', 1), ('the effective', 1), ('effective bonds', 1), ('bonds to', 1), ('to union', 1), ('union between', 1), ('between free', 1), ('and confederated', 1), ('confederated states', 1), ('states Strong', 1), ('Strong as', 1), ('as is', 1), ('the tie', 1), ('interest it', 1), ('been often', 1), ('often found', 1), ('found ineffectual', 1), ('ineffectual Men', 1), ('Men blinded', 1), ('blinded by', 1), ('passions have', 1), ('been known', 1), ('known to', 1), ('adopt measures', 1), ('measures for', 1), ('in direct', 1), ('direct opposition', 1), ('opposition to', 1), ('the suggestions', 1), ('suggestions of', 1), ('of policy', 1), ('policy The', 1), ('The alternative', 1), ('alternative then', 1), ('then is', 1), ('to destroy', 1), ('destroy or', 1), ('or keep', 1), ('keep down', 1), ('down a', 1), ('a bad', 1), ('bad passion', 1), ('passion by', 1), ('by creating', 1), ('creating and', 1), ('and fostering', 1), ('fostering a', 1), ('a good', 1), ('good one', 1), ('one and', 1), ('this seems', 1), ('the corner', 1), ('corner stone', 1), ('stone upon', 1), ('our American', 1), ('American political', 1), ('political architects', 1), ('architects have', 1), ('have reared', 1), ('reared the', 1), ('the fabric', 1), ('fabric of', 1), ('Government The', 1), ('The cement', 1), ('cement which', 1), ('to bind', 1), ('bind it', 1), ('it and', 1), ('and perpetuate', 1), ('perpetuate its', 1), ('existence was', 1), ('the affectionate', 1), ('affectionate attachment', 1), ('attachment between', 1), ('between all', 1), ('members To', 1), ('To insure', 1), ('insure the', 1), ('this feeling', 1), ('feeling produced', 1), ('produced at', 1), ('first by', 1), ('a community', 1), ('community of', 1), ('of dangers', 1), ('dangers of', 1), ('of sufferings', 1), ('sufferings and', 1), ('of interests', 1), ('interests the', 1), ('advantages of', 1), ('each were', 1), ('made accessible', 1), ('accessible to', 1), ('all No', 1), ('No participation', 1), ('in any', 1), ('any good', 1), ('good possessed', 1), ('any member', 1), ('our extensive', 1), ('extensive Confederacy', 1), ('Confederacy except', 1), ('except in', 1), ('in domestic', 1), ('domestic government', 1), ('government was', 1), ('was withheld', 1), ('withheld from', 1), ('other member', 1), ('member By', 1), ('process attended', 1), ('attended with', 1), ('no difficulty', 1), ('difficulty no', 1), ('no delay', 1), ('delay no', 1), ('no expense', 1), ('expense but', 1), ('removal the', 1), ('one might', 1), ('might become', 1), ('other and', 1), ('and successively', 1), ('successively of', 1), ('The lines', 1), ('lines too', 1), ('too separating', 1), ('separating powers', 1), ('powers to', 1), ('State from', 1), ('from those', 1), ('another seem', 1), ('be so', 1), ('so distinctly', 1), ('distinctly drawn', 1), ('drawn as', 1), ('to leave', 1), ('leave no', 1), ('no room', 1), ('room for', 1), ('for misunderstanding', 1), ('misunderstanding The', 1), ('The citizens', 1), ('each State', 1), ('State unite', 1), ('their persons', 1), ('persons all', 1), ('the privileges', 1), ('privileges which', 1), ('which that', 1), ('character confers', 1), ('confers and', 1), ('and all', 1), ('all that', 1), ('may claim', 1), ('claim as', 1), ('as citizens', 1), ('in no', 1), ('no case', 1), ('case can', 1), ('can the', 1), ('same persons', 1), ('persons at', 1), ('same time', 1), ('time act', 1), ('act as', 1), ('two separate', 1), ('separate States', 1), ('and he', 1), ('is therefore', 1), ('therefore positively', 1), ('positively precluded', 1), ('precluded from', 1), ('from any', 1), ('any interference', 1), ('interference with', 1), ('any State', 1), ('State but', 1), ('is for', 1), ('the time', 1), ('time being', 1), ('being a', 1), ('a citizen', 1), ('citizen He', 1), ('He may', 1), ('may indeed', 1), ('indeed offer', 1), ('offer to', 1), ('other States', 1), ('States his', 1), ('his advice', 1), ('advice as', 1), ('their management', 1), ('management and', 1), ('the form', 1), ('form in', 1), ('is tendered', 1), ('tendered is', 1), ('is left', 1), ('left to', 1), ('own discretion', 1), ('discretion and', 1), ('and sense', 1), ('of propriety', 1), ('propriety It', 1), ('that organized', 1), ('organized associations', 1), ('associations of', 1), ('citizens requiring', 1), ('requiring compliance', 1), ('compliance with', 1), ('their wishes', 1), ('wishes too', 1), ('too much', 1), ('much resemble', 1), ('resemble the', 1), ('the recommendations', 1), ('recommendations of', 1), ('Athens to', 1), ('to her', 1), ('her allies', 1), ('allies supported', 1), ('supported by', 1), ('an armed', 1), ('armed and', 1), ('and powerful', 1), ('powerful fleet', 1), ('fleet It', 1), ('was indeed', 1), ('indeed to', 1), ('the ambition', 1), ('ambition of', 1), ('leading States', 1), ('States of', 1), ('of Greece', 1), ('Greece to', 1), ('concerns of', 1), ('others that', 1), ('celebrated Confederacy', 1), ('Confederacy and', 1), ('and subsequently', 1), ('subsequently of', 1), ('is mainly', 1), ('mainly to', 1), ('be attributed', 1), ('attributed and', 1), ('is owing', 1), ('owing to', 1), ('the absence', 1), ('absence of', 1), ('spirit that', 1), ('the Helvetic', 1), ('Helvetic Confederacy', 1), ('Confederacy has', 1), ('has for', 1), ('for so', 1), ('so many', 1), ('many years', 1), ('years been', 1), ('been preserved', 1), ('preserved Never', 1), ('Never has', 1), ('has there', 1), ('there been', 1), ('been seen', 1), ('seen in', 1), ('the separate', 1), ('separate members', 1), ('any confederacy', 1), ('confederacy more', 1), ('more elements', 1), ('elements of', 1), ('discord In', 1), ('and religion', 1), ('religion as', 1), ('several Cantons', 1), ('Cantons so', 1), ('so marked', 1), ('marked a', 1), ('a discrepancy', 1), ('discrepancy was', 1), ('observable as', 1), ('to promise', 1), ('promise anything', 1), ('anything but', 1), ('but harmony', 1), ('harmony in', 1), ('their intercourse', 1), ('intercourse or', 1), ('or permanency', 1), ('permanency in', 1), ('their alliance', 1), ('alliance and', 1), ('yet for', 1), ('for ages', 1), ('ages neither', 1), ('neither has', 1), ('been interrupted', 1), ('interrupted Content', 1), ('Content with', 1), ('the positive', 1), ('positive benefits', 1), ('benefits which', 1), ('their union', 1), ('union produced', 1), ('produced with', 1), ('the independence', 1), ('safety from', 1), ('from foreign', 1), ('aggression which', 1), ('it secured', 1), ('secured these', 1), ('these sagacious', 1), ('sagacious people', 1), ('people respected', 1), ('respected the', 1), ('other however', 1), ('however repugnant', 1), ('own principles', 1), ('prejudices Our', 1), ('Confederacy fellow-citizens', 1), ('fellow-citizens can', 1), ('only be', 1), ('be preserved', 1), ('preserved by', 1), ('same forbearance', 1), ('forbearance Our', 1), ('Our citizens', 1), ('citizens must', 1), ('be content', 1), ('content with', 1), ('powers with', 1), ('Constitution clothes', 1), ('clothes them', 1), ('The attempt', 1), ('attempt of', 1), ('State to', 1), ('domestic institutions', 1), ('another can', 1), ('only result', 1), ('in feelings', 1), ('of distrust', 1), ('distrust and', 1), ('and jealousy', 1), ('jealousy the', 1), ('the certain', 1), ('certain harbingers', 1), ('harbingers of', 1), ('of disunion', 1), ('disunion violence', 1), ('violence and', 1), ('and civil', 1), ('civil war', 1), ('the ultimate', 1), ('ultimate destruction', 1), ('our free', 1), ('free institutions', 1), ('institutions Our', 1), ('Confederacy is', 1), ('is perfectly', 1), ('perfectly illustrated', 1), ('illustrated by', 1), ('the terms', 1), ('terms and', 1), ('and principles', 1), ('principles governing', 1), ('governing a', 1), ('a common', 1), ('common copartnership', 1), ('copartnership There', 1), ('a fund', 1), ('fund of', 1), ('exercised under', 1), ('the direction', 1), ('direction of', 1), ('the joint', 1), ('joint councils', 1), ('councils of', 1), ('the allied', 1), ('allied members', 1), ('members but', 1), ('been reserved', 1), ('reserved by', 1), ('is intangible', 1), ('intangible by', 1), ('the common', 1), ('common Government', 1), ('Government or', 1), ('members composing', 1), ('composing it', 1), ('it To', 1), ('To attempt', 1), ('attempt it', 1), ('it finds', 1), ('finds no', 1), ('no support', 1), ('support in', 1), ('Constitution It', 1), ('It should', 1), ('be our', 1), ('our constant', 1), ('constant and', 1), ('and earnest', 1), ('earnest endeavor', 1), ('endeavor mutually', 1), ('mutually to', 1), ('to cultivate', 1), ('cultivate a', 1), ('of concord', 1), ('concord and', 1), ('and harmony', 1), ('harmony among', 1), ('the various', 1), ('various parts', 1), ('our Confederacy', 1), ('Confederacy Experience', 1), ('Experience has', 1), ('has abundantly', 1), ('abundantly taught', 1), ('taught us', 1), ('us that', 1), ('the agitation', 1), ('agitation by', 1), ('by citizens', 1), ('one part', 1), ('Union of', 1), ('a subject', 1), ('subject not', 1), ('not confided', 1), ('but exclusively', 1), ('exclusively under', 1), ('the guardianship', 1), ('guardianship of', 1), ('the local', 1), ('local authorities', 1), ('authorities is', 1), ('is productive', 1), ('other consequences', 1), ('than bitterness', 1), ('bitterness alienation', 1), ('alienation discord', 1), ('discord and', 1), ('and injury', 1), ('very cause', 1), ('cause which', 1), ('is intended', 1), ('be advanced', 1), ('advanced Of', 1), ('Of all', 1), ('great interests', 1), ('interests which', 1), ('which appertain', 1), ('appertain to', 1), ('of union--cordial', 1), ('union--cordial confiding', 1), ('confiding fraternal', 1), ('fraternal union--is', 1), ('union--is by', 1), ('by far', 1), ('far the', 1), ('most important', 1), ('important since', 1), ('since it', 1), ('only true', 1), ('and sure', 1), ('sure guaranty', 1), ('guaranty of', 1), ('all others', 1), ('others In', 1), ('In consequence', 1), ('consequence of', 1), ('the embarrassed', 1), ('embarrassed state', 1), ('of business', 1), ('business and', 1), ('currency some', 1), ('States may', 1), ('may meet', 1), ('meet with', 1), ('with difficulty', 1), ('their financial', 1), ('financial concerns', 1), ('concerns However', 1), ('However deeply', 1), ('deeply we', 1), ('may regret', 1), ('regret anything', 1), ('anything imprudent', 1), ('imprudent or', 1), ('or excessive', 1), ('excessive in', 1), ('the engagements', 1), ('engagements into', 1), ('into which', 1), ('which States', 1), ('States have', 1), ('have entered', 1), ('entered for', 1), ('for purposes', 1), ('purposes of', 1), ('own it', 1), ('it does', 1), ('become us', 1), ('to disparage', 1), ('disparage the', 1), ('States governments', 1), ('governments nor', 1), ('nor to', 1), ('to discourage', 1), ('discourage them', 1), ('from making', 1), ('making proper', 1), ('proper efforts', 1), ('efforts for', 1), ('own relief', 1), ('relief On', 1), ('contrary it', 1), ('is our', 1), ('our duty', 1), ('to encourage', 1), ('encourage them', 1), ('our constitutional', 1), ('constitutional authority', 1), ('apply their', 1), ('best means', 1), ('means and', 1), ('and cheerfully', 1), ('cheerfully to', 1), ('make all', 1), ('necessary sacrifices', 1), ('sacrifices and', 1), ('and submit', 1), ('submit to', 1), ('necessary burdens', 1), ('burdens to', 1), ('to fulfill', 1), ('fulfill their', 1), ('their engagements', 1), ('engagements and', 1), ('and maintain', 1), ('maintain their', 1), ('their credit', 1), ('credit for', 1), ('several States', 1), ('States form', 1), ('form a', 1), ('The resources', 1), ('resources of', 1), ('country are', 1), ('are abundant', 1), ('abundant the', 1), ('the enterprise', 1), ('enterprise and', 1), ('and activity', 1), ('activity of', 1), ('people proverbial', 1), ('proverbial and', 1), ('and we', 1), ('may well', 1), ('well hope', 1), ('hope that', 1), ('that wise', 1), ('wise legislation', 1), ('and prudent', 1), ('prudent administration', 1), ('administration by', 1), ('respective governments', 1), ('governments each', 1), ('each acting', 1), ('acting within', 1), ('within its', 1), ('its own', 1), ('own sphere', 1), ('sphere will', 1), ('will restore', 1), ('restore former', 1), ('former prosperity', 1), ('prosperity Unpleasant', 1), ('Unpleasant and', 1), ('and even', 1), ('even dangerous', 1), ('dangerous as', 1), ('collisions may', 1), ('may sometimes', 1), ('be between', 1), ('the constituted', 1), ('constituted authorities', 1), ('the lines', 1), ('lines which', 1), ('which separate', 1), ('separate their', 1), ('respective jurisdictions', 1), ('jurisdictions the', 1), ('results can', 1), ('be of', 1), ('no vital', 1), ('vital injury', 1), ('institutions if', 1), ('if that', 1), ('that ardent', 1), ('ardent patriotism', 1), ('patriotism that', 1), ('that devoted', 1), ('devoted attachment', 1), ('attachment to', 1), ('liberty that', 1), ('of moderation', 1), ('moderation and', 1), ('and forbearance', 1), ('forbearance for', 1), ('our countrymen', 1), ('countrymen were', 1), ('were once', 1), ('once distinguished', 1), ('distinguished continue', 1), ('continue to', 1), ('be cherished', 1), ('cherished If', 1), ('this continues', 1), ('the ruling', 1), ('ruling passion', 1), ('our souls', 1), ('souls the', 1), ('the weaker', 1), ('weaker feeling', 1), ('feeling of', 1), ('the mistaken', 1), ('mistaken enthusiast', 1), ('enthusiast will', 1), ('be corrected', 1), ('corrected the', 1), ('the Utopian', 1), ('Utopian dreams', 1), ('dreams of', 1), ('the scheming', 1), ('scheming politician', 1), ('politician dissipated', 1), ('dissipated and', 1), ('the complicated', 1), ('complicated intrigues', 1), ('intrigues of', 1), ('the demagogue', 1), ('demagogue rendered', 1), ('rendered harmless', 1), ('harmless The', 1), ('sovereign balm', 1), ('balm for', 1), ('for every', 1), ('every injury', 1), ('injury which', 1), ('institutions may', 1), ('may receive', 1), ('receive On', 1), ('no care', 1), ('care that', 1), ('that can', 1), ('the construction', 1), ('Government no', 1), ('no division', 1), ('division of', 1), ('powers no', 1), ('no distribution', 1), ('distribution of', 1), ('of checks', 1), ('checks in', 1), ('its several', 1), ('departments will', 1), ('will prove', 1), ('prove effectual', 1), ('effectual to', 1), ('keep us', 1), ('us a', 1), ('people if', 1), ('if this', 1), ('this spirit', 1), ('spirit is', 1), ('is suffered', 1), ('suffered to', 1), ('to decay', 1), ('decay and', 1), ('and decay', 1), ('decay it', 1), ('will without', 1), ('without constant', 1), ('constant nurture', 1), ('nurture To', 1), ('To the', 1), ('the neglect', 1), ('neglect of', 1), ('this duty', 1), ('duty the', 1), ('best historians', 1), ('historians agree', 1), ('agree in', 1), ('in attributing', 1), ('attributing the', 1), ('the ruin', 1), ('ruin of', 1), ('the republics', 1), ('republics with', 1), ('with whose', 1), ('whose existence', 1), ('existence and', 1), ('and fall', 1), ('fall their', 1), ('their writings', 1), ('writings have', 1), ('made us', 1), ('us acquainted', 1), ('acquainted The', 1), ('The same', 1), ('causes will', 1), ('ever produce', 1), ('same effects', 1), ('effects and', 1), ('a dominant', 1), ('dominant passion', 1), ('human bosom', 1), ('bosom and', 1), ('the understandings', 1), ('understandings of', 1), ('of men', 1), ('men can', 1), ('be warped', 1), ('warped and', 1), ('their affections', 1), ('affections changed', 1), ('changed by', 1), ('by operations', 1), ('operations upon', 1), ('passions and', 1), ('prejudices so', 1), ('so long', 1), ('long will', 1), ('people depend', 1), ('depend on', 1), ('on their', 1), ('own constant', 1), ('constant attention', 1), ('attention to', 1), ('its preservation', 1), ('preservation The', 1), ('The danger', 1), ('all well-established', 1), ('well-established free', 1), ('free governments', 1), ('governments arises', 1), ('arises from', 1), ('the unwillingness', 1), ('unwillingness of', 1), ('to believe', 1), ('believe in', 1), ('existence or', 1), ('or from', 1), ('of designing', 1), ('designing men', 1), ('men diverting', 1), ('diverting their', 1), ('their attention', 1), ('attention from', 1), ('the quarter', 1), ('quarter whence', 1), ('whence it', 1), ('it approaches', 1), ('approaches to', 1), ('a source', 1), ('source from', 1), ('from which', 1), ('it can', 1), ('never come', 1), ('come This', 1), ('the old', 1), ('old trick', 1), ('trick of', 1), ('would usurp', 1), ('usurp the', 1), ('country In', 1), ('name of', 1), ('democracy they', 1), ('they speak', 1), ('speak warning', 1), ('warning the', 1), ('people against', 1), ('wealth and', 1), ('danger of', 1), ('of aristocracy', 1), ('aristocracy History', 1), ('History ancient', 1), ('ancient and', 1), ('and modern', 1), ('modern is', 1), ('is full', 1), ('full of', 1), ('such examples', 1), ('examples Caesar', 1), ('Caesar became', 1), ('master of', 1), ('Roman people', 1), ('senate under', 1), ('the pretense', 1), ('pretense of', 1), ('of supporting', 1), ('supporting the', 1), ('the democratic', 1), ('democratic claims', 1), ('claims of', 1), ('former against', 1), ('the aristocracy', 1), ('aristocracy of', 1), ('latter Cromwell', 1), ('Cromwell in', 1), ('of protector', 1), ('protector of', 1), ('people became', 1), ('the dictator', 1), ('dictator of', 1), ('of England', 1), ('England and', 1), ('and Bolivar', 1), ('Bolivar possessed', 1), ('possessed himself', 1), ('himself of', 1), ('of unlimited', 1), ('unlimited power', 1), ('power with', 1), ('the title', 1), ('title of', 1), (\"his country's\", 1), (\"country's liberator\", 1), ('liberator There', 1), ('is on', 1), ('no instance', 1), ('instance on', 1), ('on record', 1), ('record of', 1), ('an extensive', 1), ('extensive and', 1), ('and well-established', 1), ('well-established republic', 1), ('republic being', 1), ('being changed', 1), ('changed into', 1), ('into an', 1), ('an aristocracy', 1), ('aristocracy The', 1), ('The tendencies', 1), ('tendencies of', 1), ('all such', 1), ('such governments', 1), ('governments in', 1), ('their decline', 1), ('decline is', 1), ('to monarchy', 1), ('monarchy and', 1), ('the antagonist', 1), ('antagonist principle', 1), ('principle to', 1), ('liberty there', 1), ('of faction--a', 1), ('faction--a spirit', 1), ('which assumes', 1), ('assumes the', 1), ('in times', 1), ('times of', 1), ('great excitement', 1), ('excitement imposes', 1), ('imposes itself', 1), ('people as', 1), ('of freedom', 1), ('freedom and', 1), ('and like', 1), ('false Christs', 1), ('Christs whose', 1), ('whose coming', 1), ('coming was', 1), ('was foretold', 1), ('foretold by', 1), ('the Savior', 1), ('Savior seeks', 1), ('seeks to', 1), ('to and', 1), ('and were', 1), ('were it', 1), ('it possible', 1), ('possible would', 1), ('would impose', 1), ('impose upon', 1), ('and most', 1), ('most faithful', 1), ('faithful disciples', 1), ('disciples of', 1), ('liberty It', 1), ('in periods', 1), ('periods like', 1), ('like this', 1), ('this that', 1), ('it behooves', 1), ('behooves the', 1), ('be most', 1), ('most watchful', 1), ('watchful of', 1), ('whom they', 1), ('have intrusted', 1), ('intrusted power', 1), ('power And', 1), ('And although', 1), ('is at', 1), ('times much', 1), ('much difficulty', 1), ('in distinguishing', 1), ('distinguishing the', 1), ('false from', 1), ('spirit a', 1), ('a calm', 1), ('calm and', 1), ('and dispassionate', 1), ('dispassionate investigation', 1), ('investigation will', 1), ('will detect', 1), ('detect the', 1), ('the counterfeit', 1), ('counterfeit as', 1), ('well by', 1), ('operations as', 1), ('results that', 1), ('that are', 1), ('are produced', 1), ('produced The', 1), ('The true', 1), ('liberty although', 1), ('although devoted', 1), ('devoted persevering', 1), ('persevering bold', 1), ('bold and', 1), ('and uncompromising', 1), ('uncompromising in', 1), ('in principle', 1), ('that secured', 1), ('secured is', 1), ('is mild', 1), ('mild and', 1), ('and tolerant', 1), ('tolerant and', 1), ('and scrupulous', 1), ('scrupulous as', 1), ('means it', 1), ('it employs', 1), ('employs whilst', 1), ('party assuming', 1), ('assuming to', 1), ('be that', 1), ('is harsh', 1), ('harsh vindictive', 1), ('vindictive and', 1), ('and intolerant', 1), ('intolerant and', 1), ('and totally', 1), ('totally reckless', 1), ('reckless as', 1), ('the allies', 1), ('allies which', 1), ('it brings', 1), ('brings to', 1), ('its cause', 1), ('cause When', 1), ('liberty animates', 1), ('animates the', 1), ('the body', 1), ('body of', 1), ('thorough examination', 1), ('affairs it', 1), ('it leads', 1), ('leads to', 1), ('the excision', 1), ('excision of', 1), ('every excrescence', 1), ('excrescence which', 1), ('have fastened', 1), ('fastened itself', 1), ('upon any', 1), ('and restores', 1), ('restores the', 1), ('the system', 1), ('system to', 1), ('beauty But', 1), ('the reign', 1), ('reign of', 1), ('an intolerant', 1), ('intolerant spirit', 1), ('party amongst', 1), ('amongst a', 1), ('people seldom', 1), ('seldom fails', 1), ('fails to', 1), ('to result', 1), ('a dangerous', 1), ('dangerous accession', 1), ('accession to', 1), ('executive power', 1), ('power introduced', 1), ('introduced and', 1), ('and established', 1), ('established amidst', 1), ('amidst unusual', 1), ('unusual professions', 1), ('professions of', 1), ('of devotion', 1), ('devotion to', 1), ('to democracy', 1), ('democracy The', 1), ('The foregoing', 1), ('foregoing remarks', 1), ('remarks relate', 1), ('relate almost', 1), ('almost exclusively', 1), ('exclusively to', 1), ('to matters', 1), ('matters connected', 1), ('our domestic', 1), ('concerns It', 1), ('be proper', 1), ('proper however', 1), ('should give', 1), ('give some', 1), ('some indications', 1), ('indications to', 1), ('fellow-citizens of', 1), ('my proposed', 1), ('proposed course', 1), ('of conduct', 1), ('conduct in', 1), ('our foreign', 1), ('relations I', 1), ('I assure', 1), ('assure them', 1), ('them therefore', 1), ('therefore that', 1), ('is my', 1), ('my intention', 1), ('to use', 1), ('use every', 1), ('every means', 1), ('means in', 1), ('my power', 1), ('preserve the', 1), ('the friendly', 1), ('friendly intercourse', 1), ('intercourse which', 1), ('which now', 1), ('now so', 1), ('so happily', 1), ('happily subsists', 1), ('subsists with', 1), ('every foreign', 1), ('foreign nation', 1), ('nation and', 1), ('that although', 1), ('although of', 1), ('course not', 1), ('well informed', 1), ('informed as', 1), ('the state', 1), ('of pending', 1), ('pending negotiations', 1), ('negotiations with', 1), ('with any', 1), ('them I', 1), ('I see', 1), ('personal characters', 1), ('the sovereigns', 1), ('sovereigns as', 1), ('the mutual', 1), ('mutual interests', 1), ('own and', 1), ('the governments', 1), ('governments with', 1), ('our relations', 1), ('relations are', 1), ('are most', 1), ('most intimate', 1), ('intimate a', 1), ('a pleasing', 1), ('pleasing guaranty', 1), ('guaranty that', 1), ('the harmony', 1), ('harmony so', 1), ('so important', 1), ('important to', 1), ('subjects as', 1), ('as of', 1), ('citizens will', 1), ('be interrupted', 1), ('interrupted by', 1), ('the advancement', 1), ('advancement of', 1), ('any claim', 1), ('claim or', 1), ('or pretension', 1), ('pretension upon', 1), ('part to', 1), ('our honor', 1), ('honor would', 1), ('not permit', 1), ('permit us', 1), ('to yield', 1), ('yield Long', 1), ('Long the', 1), ('the defender', 1), ('defender of', 1), (\"my country's\", 1), (\"country's rights\", 1), ('rights in', 1), ('the field', 1), ('field I', 1), ('I trust', 1), ('trust that', 1), ('that my', 1), ('fellow-citizens will', 1), ('not see', 1), ('my earnest', 1), ('earnest desire', 1), ('desire to', 1), ('preserve peace', 1), ('peace with', 1), ('with foreign', 1), ('foreign powers', 1), ('powers any', 1), ('any indication', 1), ('indication that', 1), ('that their', 1), ('rights will', 1), ('ever be', 1), ('be sacrificed', 1), ('sacrificed or', 1), ('the honor', 1), ('honor of', 1), ('nation tarnished', 1), ('tarnished by', 1), ('any admission', 1), ('admission on', 1), ('their Chief', 1), ('Magistrate unworthy', 1), ('unworthy of', 1), ('former glory', 1), ('glory In', 1), ('In our', 1), ('our intercourse', 1), ('intercourse with', 1), ('our aboriginal', 1), ('aboriginal neighbors', 1), ('neighbors the', 1), ('same liberality', 1), ('liberality and', 1), ('and justice', 1), ('justice which', 1), ('which marked', 1), ('marked the', 1), ('the course', 1), ('course prescribed', 1), ('prescribed to', 1), ('by two', 1), ('my illustrious', 1), ('illustrious predecessors', 1), ('predecessors when', 1), ('when acting', 1), ('acting under', 1), ('under their', 1), ('their direction', 1), ('direction in', 1), ('of superintendent', 1), ('superintendent and', 1), ('and commissioner', 1), ('commissioner shall', 1), ('be strictly', 1), ('strictly observed', 1), ('observed I', 1), ('can conceive', 1), ('conceive of', 1), ('no more', 1), ('more sublime', 1), ('sublime spectacle', 1), ('spectacle none', 1), ('none more', 1), ('to propitiate', 1), ('propitiate an', 1), ('an impartial', 1), ('impartial and', 1), ('and common', 1), ('common Creator', 1), ('Creator than', 1), ('than a', 1), ('a rigid', 1), ('rigid adherence', 1), ('adherence to', 1), ('of justice', 1), ('justice on', 1), ('a powerful', 1), ('powerful nation', 1), ('nation in', 1), ('its transactions', 1), ('transactions with', 1), ('with a', 1), ('a weaker', 1), ('weaker and', 1), ('and uncivilized', 1), ('uncivilized people', 1), ('people whom', 1), ('whom circumstances', 1), ('circumstances have', 1), ('at its', 1), ('its disposal', 1), ('disposal Before', 1), ('Before concluding', 1), ('concluding fellow-citizens', 1), ('fellow-citizens I', 1), ('I must', 1), ('must say', 1), ('say something', 1), ('something to', 1), ('you on', 1), ('parties at', 1), ('time existing', 1), ('existing in', 1), ('country To', 1), ('To me', 1), ('appears perfectly', 1), ('perfectly clear', 1), ('clear that', 1), ('the interest', 1), ('that country', 1), ('country requires', 1), ('requires that', 1), ('the violence', 1), ('violence of', 1), ('spirit by', 1), ('which those', 1), ('those parties', 1), ('parties are', 1), ('are at', 1), ('time governed', 1), ('governed must', 1), ('be greatly', 1), ('greatly mitigated', 1), ('mitigated if', 1), ('not entirely', 1), ('entirely extinguished', 1), ('extinguished or', 1), ('or consequences', 1), ('consequences will', 1), ('will ensue', 1), ('ensue which', 1), ('are appalling', 1), ('appalling to', 1), ('thought of', 1), ('of If', 1), ('If parties', 1), ('parties in', 1), ('republic are', 1), ('are necessary', 1), ('to secure', 1), ('secure a', 1), ('a degree', 1), ('of vigilance', 1), ('vigilance sufficient', 1), ('sufficient to', 1), ('keep the', 1), ('public functionaries', 1), ('functionaries within', 1), ('the bounds', 1), ('bounds of', 1), ('law and', 1), ('and duty', 1), ('duty at', 1), ('at that', 1), ('that point', 1), ('point their', 1), ('their usefulness', 1), ('usefulness ends', 1), ('ends Beyond', 1), ('Beyond that', 1), ('they become', 1), ('become destructive', 1), ('of public', 1), ('public virtue', 1), ('virtue the', 1), ('the parent', 1), ('parent of', 1), ('spirit antagonist', 1), ('antagonist to', 1), ('and eventually', 1), ('eventually its', 1), ('its inevitable', 1), ('inevitable conqueror', 1), ('conqueror We', 1), ('have examples', 1), ('examples of', 1), ('of republics', 1), ('republics where', 1), ('of country', 1), ('country and', 1), ('liberty at', 1), ('time were', 1), ('were the', 1), ('the dominant', 1), ('dominant passions', 1), ('passions of', 1), ('whole mass', 1), ('citizens and', 1), ('yet with', 1), ('name and', 1), ('of free', 1), ('free government', 1), ('government not', 1), ('not a', 1), ('a vestige', 1), ('vestige of', 1), ('these qualities', 1), ('qualities remaining', 1), ('remaining in', 1), ('any one', 1), ('its citizens', 1), ('citizens It', 1), ('the beautiful', 1), ('beautiful remark', 1), ('a distinguished', 1), ('distinguished English', 1), ('English writer', 1), ('writer that', 1), ('Roman senate', 1), ('senate Octavius', 1), ('Octavius had', 1), ('had a', 1), ('party and', 1), ('and Anthony', 1), ('Anthony a', 1), ('Commonwealth had', 1), ('had none', 1), ('none Yet', 1), ('Yet the', 1), ('senate continued', 1), ('continued to', 1), ('to meet', 1), ('meet in', 1), ('the temple', 1), ('temple of', 1), ('liberty to', 1), ('to talk', 1), ('talk of', 1), ('the sacredness', 1), ('sacredness and', 1), ('beauty of', 1), ('Commonwealth and', 1), ('and gaze', 1), ('gaze at', 1), ('the statues', 1), ('statues of', 1), ('the elder', 1), ('elder Brutus', 1), ('Brutus and', 1), ('the Curtii', 1), ('Curtii and', 1), ('and Decii', 1), ('Decii and', 1), ('people assembled', 1), ('assembled in', 1), ('the forum', 1), ('forum not', 1), ('the days', 1), ('days of', 1), ('of Camillus', 1), ('Camillus and', 1), ('the Scipios', 1), ('Scipios to', 1), ('to cast', 1), ('cast their', 1), ('their free', 1), ('free votes', 1), ('votes for', 1), ('for annual', 1), ('annual magistrates', 1), ('magistrates or', 1), ('or pass', 1), ('pass upon', 1), ('senate but', 1), ('to receive', 1), ('receive from', 1), ('the leaders', 1), ('leaders of', 1), ('respective parties', 1), ('parties their', 1), ('their share', 1), ('the spoils', 1), ('spoils and', 1), ('to shout', 1), ('shout for', 1), ('for one', 1), ('one or', 1), ('other as', 1), ('as those', 1), ('those collected', 1), ('collected in', 1), ('in Gaul', 1), ('Gaul or', 1), ('or Egypt', 1), ('Egypt and', 1), ('the lesser', 1), ('lesser Asia', 1), ('Asia would', 1), ('would furnish', 1), ('furnish the', 1), ('the larger', 1), ('larger dividend', 1), ('dividend The', 1), ('liberty had', 1), ('had fled', 1), ('fled and', 1), ('and avoiding', 1), ('avoiding the', 1), ('the abodes', 1), ('abodes of', 1), ('of civilized', 1), ('civilized man', 1), ('man had', 1), ('had sought', 1), ('sought protection', 1), ('protection in', 1), ('the wilds', 1), ('wilds of', 1), ('of Scythia', 1), ('Scythia or', 1), ('or Scandinavia', 1), ('Scandinavia and', 1), ('so under', 1), ('the operation', 1), ('operation of', 1), ('causes and', 1), ('and influences', 1), ('influences it', 1), ('will fly', 1), ('fly from', 1), ('our Capitol', 1), ('Capitol and', 1), ('and our', 1), ('our forums', 1), ('forums A', 1), ('A calamity', 1), ('calamity so', 1), ('so awful', 1), ('awful not', 1), ('only to', 1), ('country but', 1), ('world must', 1), ('be deprecated', 1), ('by every', 1), ('every patriot', 1), ('patriot and', 1), ('and every', 1), ('every tendency', 1), ('tendency to', 1), ('things likely', 1), ('produce it', 1), ('it immediately', 1), ('immediately checked', 1), ('checked Such', 1), ('a tendency', 1), ('tendency has', 1), ('has existed--does', 1), ('existed--does exist', 1), ('exist Always', 1), ('Always the', 1), ('the friend', 1), ('friend of', 1), ('countrymen never', 1), ('never their', 1), ('their flatterer', 1), ('flatterer it', 1), ('becomes my', 1), ('my duty', 1), ('say to', 1), ('from this', 1), ('this high', 1), ('high place', 1), ('place to', 1), ('their partiality', 1), ('partiality has', 1), ('has exalted', 1), ('exalted me', 1), ('me that', 1), ('that there', 1), ('there exists', 1), ('the land', 1), ('land a', 1), ('spirit hostile', 1), ('hostile to', 1), ('best interests--hostile', 1), ('interests--hostile to', 1), ('liberty itself', 1), ('itself It', 1), ('spirit contracted', 1), ('contracted in', 1), ('its views', 1), ('views selfish', 1), ('selfish in', 1), ('its objects', 1), ('objects It', 1), ('It looks', 1), ('looks to', 1), ('the aggrandizement', 1), ('aggrandizement of', 1), ('few even', 1), ('even to', 1), ('The entire', 1), ('entire remedy', 1), ('remedy is', 1), ('is with', 1), ('people Something', 1), ('Something however', 1), ('however may', 1), ('means which', 1), ('hands It', 1), ('is union', 1), ('union that', 1), ('that we', 1), ('we want', 1), ('want not', 1), ('party for', 1), ('that party', 1), ('but a', 1), ('a union', 1), ('its interests', 1), ('and its', 1), ('its honor', 1), ('honor against', 1), ('against foreign', 1), ('aggression for', 1), ('those principles', 1), ('principles for', 1), ('ancestors so', 1), ('so gloriously', 1), ('gloriously contended', 1), ('contended As', 1), ('it depends', 1), ('depends upon', 1), ('upon me', 1), ('it shall', 1), ('be accomplished', 1), ('accomplished All', 1), ('All the', 1), ('influence that', 1), ('I possess', 1), ('possess shall', 1), ('be exerted', 1), ('exerted to', 1), ('formation at', 1), ('least of', 1), ('an Executive', 1), ('Executive party', 1), ('party in', 1), ('the halls', 1), ('halls of', 1), ('body I', 1), ('I wish', 1), ('wish for', 1), ('no member', 1), ('body to', 1), ('any measure', 1), ('measure of', 1), ('mine that', 1), ('that does', 1), ('not satisfy', 1), ('satisfy his', 1), ('his judgment', 1), ('judgment and', 1), ('his sense', 1), ('of duty', 1), ('to those', 1), ('those from', 1), ('from whom', 1), ('whom he', 1), ('holds his', 1), ('his appointment', 1), ('appointment nor', 1), ('nor any', 1), ('any confidence', 1), ('in advance', 1), ('advance from', 1), ('that asked', 1), ('asked for', 1), ('for by', 1), ('Jefferson to', 1), ('to give', 1), ('give firmness', 1), ('firmness and', 1), ('and effect', 1), ('effect to', 1), ('the legal', 1), ('legal administration', 1), ('administration of', 1), ('affairs I', 1), ('I deem', 1), ('deem the', 1), ('present occasion', 1), ('occasion sufficiently', 1), ('sufficiently important', 1), ('important and', 1), ('and solemn', 1), ('solemn to', 1), ('to justify', 1), ('justify me', 1), ('in expressing', 1), ('expressing to', 1), ('fellow-citizens a', 1), ('a profound', 1), ('profound reverence', 1), ('reverence for', 1), ('the Christian', 1), ('Christian religion', 1), ('religion and', 1), ('thorough conviction', 1), ('conviction that', 1), ('that sound', 1), ('sound morals', 1), ('morals religious', 1), ('just sense', 1), ('of religious', 1), ('religious responsibility', 1), ('responsibility are', 1), ('are essentially', 1), ('essentially connected', 1), ('with all', 1), ('and lasting', 1), ('lasting happiness', 1), ('happiness and', 1), ('that good', 1), ('good Being', 1), ('Being who', 1), ('has blessed', 1), ('blessed us', 1), ('us by', 1), ('the gifts', 1), ('gifts of', 1), ('religious freedom', 1), ('freedom who', 1), ('who watched', 1), ('watched over', 1), ('over and', 1), ('and prospered', 1), ('prospered the', 1), ('our fathers', 1), ('fathers and', 1), ('and has', 1), ('hitherto preserved', 1), ('preserved to', 1), ('to us', 1), ('us institutions', 1), ('institutions far', 1), ('far exceeding', 1), ('exceeding in', 1), ('in excellence', 1), ('excellence those', 1), ('other people', 1), ('people let', 1), ('let us', 1), ('us unite', 1), ('in fervently', 1), ('fervently commending', 1), ('commending every', 1), ('every interest', 1), ('our beloved', 1), ('beloved country', 1), ('all future', 1), ('future time', 1), ('time Fellow-citizens', 1), ('Fellow-citizens being', 1), ('being fully', 1), ('fully invested', 1), ('invested with', 1), ('with that', 1), ('office to', 1), ('the partiality', 1), ('partiality of', 1), ('countrymen has', 1), ('has called', 1), ('called me', 1), ('me I', 1), ('I now', 1), ('now take', 1), ('take an', 1), ('an affectionate', 1), ('affectionate leave', 1), ('leave of', 1), ('of you', 1), ('you You', 1), ('You will', 1), ('will bear', 1), ('bear with', 1), ('with you', 1), ('you to', 1), ('to your', 1), ('your homes', 1), ('homes the', 1), ('the remembrance', 1), ('remembrance of', 1), ('pledge I', 1), ('have this', 1), ('this day', 1), ('day given', 1), ('to discharge', 1), ('discharge all', 1), ('high duties', 1), ('my exalted', 1), ('exalted station', 1), ('station according', 1), ('according to', 1), ('best of', 1), ('my ability', 1), ('ability and', 1), ('shall enter', 1), ('enter upon', 1), ('their performance', 1), ('performance with', 1), ('with entire', 1), ('entire confidence', 1), ('and generous', 1), ('generous people', 1)]\n"
     ]
    }
   ],
   "source": [
    "import operator\n",
    "def ngrams(input,n):\n",
    "    input=cleanInput(input)\n",
    "    output={}\n",
    "    for i in range(len(input)-n+1):\n",
    "        ngramTemp=' '.join(input[i:i+n])\n",
    "        if ngramTemp not in output:\n",
    "            output[ngramTemp]=0\n",
    "        output[ngramTemp]+=1\n",
    "    return output\n",
    "\n",
    "content=str(\n",
    "    urlopen('http://pythonscraping.com/files/inaugurationSpeech.txt').read(),\n",
    "    'utf-8')\n",
    "ngrams=ngrams(content,2)\n",
    "sortedNGrams=sorted(ngrams.items(),key=operator.itemgetter(1),reverse=True)\n",
    "print(sortedNGrams)"
   ]
  },
  {
   "cell_type": "code",
   "execution_count": 8,
   "metadata": {
    "scrolled": true
   },
   "outputs": [
    {
     "name": "stdout",
     "output_type": "stream",
     "text": [
      "I shall be used only upon us institutions and were made that which he holds in one was in the most warmly disputed points as collisions of this feeling may be prescribed by the District of the Constitution (the legislative body of the reserved powers which our duty to whom they had been always justly regard to keep up the evils which has necessarily resulted from infancy to their will soon be ascertained , the other addition to be something to adopt or classed with the abodes of power which the public liberty there , to prevent the Constitution rather \n"
     ]
    }
   ],
   "source": [
    "#马尔科夫\n",
    "def wordListSum(wordlist):\n",
    "    sum=0\n",
    "    for word,value in wordlist.items():\n",
    "        sum+=value\n",
    "    return sum\n",
    "\n",
    "def retrieveRandomWord(wordlist):\n",
    "    randIndex=random.randint(1,wordListSum(wordlist))\n",
    "    for word,value in wordlist.items():\n",
    "        randIndex-=value\n",
    "        if randIndex<=0:\n",
    "            return word\n",
    "\n",
    "def buildwordDict(text):\n",
    "    text=text.replace('\\n',' ');\n",
    "    text=text.replace('\\\"',' ');\n",
    "    \n",
    "    punctuation=[',','.',';',':']\n",
    "    for symbol in punctuation:\n",
    "        text=text.replace(symbol,' '+symbol+' ');\n",
    "    words=text.split(' ')\n",
    "    words=[word for word in words if word !='']\n",
    "    wordDict={}\n",
    "    for i in range(1,len(words)):\n",
    "        if words[i-1] not in wordDict:\n",
    "            wordDict[words[i-1]]={}\n",
    "        if words[i] not in wordDict[words[i-1]]:\n",
    "            wordDict[words[i-1]][words[i]]=0\n",
    "        wordDict[words[i-1]][words[i]]=wordDict[words[i-1]][words[i]]+1\n",
    "    return wordDict\n",
    "text=str(\n",
    "    urlopen('http://pythonscraping.com/files/inaugurationSpeech.txt').read(),\n",
    "    'utf-8')\n",
    "wordDict=buildwordDict(text)\n",
    "\n",
    "length=100\n",
    "chain=''\n",
    "currentWord='I'\n",
    "for i in range(0,length):\n",
    "    chain+=currentWord+' '\n",
    "    currentWord=retrieveRandomWord(wordDict[currentWord])\n",
    "print(chain)"
   ]
  },
  {
   "cell_type": "code",
   "execution_count": 2,
   "metadata": {},
   "outputs": [
    {
     "name": "stdout",
     "output_type": "stream",
     "text": [
      "showing info https://raw.githubusercontent.com/nltk/nltk_data/gh-pages/index.xml\n"
     ]
    },
    {
     "data": {
      "text/plain": [
       "True"
      ]
     },
     "execution_count": 2,
     "metadata": {},
     "output_type": "execute_result"
    }
   ],
   "source": [
    "import nltk\n",
    "nltk.download()"
   ]
  },
  {
   "cell_type": "markdown",
   "metadata": {},
   "source": [
    "### 9穿越网页表单与登录窗口进行采集"
   ]
  },
  {
   "cell_type": "code",
   "execution_count": 2,
   "metadata": {},
   "outputs": [
    {
     "name": "stdout",
     "output_type": "stream",
     "text": [
      "Hello there, ryan mitchell!\n"
     ]
    }
   ],
   "source": [
    "import requests\n",
    "params={'firstname':'ryan','lastname':'mitchell'}\n",
    "r=requests.post('http://www.pythonscraping.com/pages/files/processing.php',data=params)\n",
    "print(r.text)"
   ]
  },
  {
   "cell_type": "code",
   "execution_count": 7,
   "metadata": {},
   "outputs": [
    {
     "name": "stdout",
     "output_type": "stream",
     "text": [
      "uploads/logo.jpg\n",
      "The file logo.jpg has been uploaded.\n"
     ]
    }
   ],
   "source": [
    "files={'uploadFile':open('./logo.jpg','rb')}\n",
    "r=requests.post('http://pythonscraping.com/pages/files/processing2.php',files=files)\n",
    "print(r.text)"
   ]
  },
  {
   "cell_type": "code",
   "execution_count": 15,
   "metadata": {},
   "outputs": [
    {
     "name": "stdout",
     "output_type": "stream",
     "text": [
      "cookie is set to:\n",
      "---------\n",
      "going to profile page......\n",
      "Hey www! Looks like you're still logged into the site!\n",
      "<RequestsCookieJar[]>\n"
     ]
    }
   ],
   "source": [
    "params={'username':'www','password':'password'}\n",
    "r=requests.post('http://pythonscraping.com/pages/cookies/welcome.php',params)\n",
    "print('cookie is set to:')\n",
    "print('---------')\n",
    "print('going to profile page......')\n",
    "r=requests.get('http://pythonscraping.com/pages/cookies/profile.php',cookies=r.cookies)\n",
    "print(r.text)"
   ]
  },
  {
   "cell_type": "code",
   "execution_count": 12,
   "metadata": {},
   "outputs": [
    {
     "name": "stdout",
     "output_type": "stream",
     "text": [
      "cookie is set to:\n",
      "{'loggedin': '1', 'username': 'www'}\n",
      "-------------------\n",
      "going to profile page.........\n",
      "Hey www! Looks like you're still logged into the site!\n"
     ]
    }
   ],
   "source": [
    "session=requests.Session()\n",
    "params={'username':'www','password':'password'}\n",
    "s=session.post('http://pythonscraping.com/pages/cookies/welcome.php',params)\n",
    "print('cookie is set to:')\n",
    "print(s.cookies.get_dict())\n",
    "print('-------------------')\n",
    "print('going to profile page.........')\n",
    "s=session.get('http://pythonscraping.com/pages/cookies/profile.php')\n",
    "print(s.text)"
   ]
  },
  {
   "cell_type": "code",
   "execution_count": 19,
   "metadata": {},
   "outputs": [
    {
     "name": "stdout",
     "output_type": "stream",
     "text": [
      "<p>Hello ryan.</p><p>You entered password as your password.</p>\n"
     ]
    }
   ],
   "source": [
    "from requests.auth import AuthBase\n",
    "from requests.auth import HTTPBasicAuth\n",
    "auth=HTTPBasicAuth('ryan','password')\n",
    "r=requests.post(url='http://pythonscraping.com/pages/auth/login.php',auth=auth)\n",
    "print(r.text)"
   ]
  },
  {
   "cell_type": "markdown",
   "metadata": {},
   "source": [
    "### 10采集JavaScript"
   ]
  },
  {
   "cell_type": "code",
   "execution_count": 5,
   "metadata": {},
   "outputs": [
    {
     "name": "stdout",
     "output_type": "stream",
     "text": [
      "This is some content that will appear on the page while it's loading. You don't care about scraping this.\n"
     ]
    }
   ],
   "source": [
    "from selenium import webdriver\n",
    "import time\n",
    "driver=webdriver.PhantomJS()\n",
    "driver.get('http://pythonscraping.com/pages/javascript/ajaxDemo.html')\n",
    "time.sleep(3)\n",
    "print(driver.find_element_by_id('content').text)\n",
    "driver.close()"
   ]
  },
  {
   "cell_type": "code",
   "execution_count": 6,
   "metadata": {},
   "outputs": [
    {
     "name": "stderr",
     "output_type": "stream",
     "text": [
      "e:\\python3.9\\lib\\site-packages\\selenium\\webdriver\\phantomjs\\webdriver.py:49: UserWarning: Selenium support for PhantomJS has been deprecated, please use headless versions of Chrome or Firefox instead\n",
      "  warnings.warn('Selenium support for PhantomJS has been deprecated, please use headless '\n"
     ]
    },
    {
     "name": "stdout",
     "output_type": "stream",
     "text": [
      "Here is some important text you want to retrieve!\n",
      "A button to click!\n"
     ]
    }
   ],
   "source": [
    "from selenium.webdriver.common.by import By\n",
    "from selenium.webdriver.support.ui import WebDriverWait\n",
    "from selenium.webdriver.support import expected_conditions as EC\n",
    "driver=webdriver.PhantomJS()\n",
    "driver.get('http://pythonscraping.com/pages/javascript/ajaxDemo.html')\n",
    "try:\n",
    "    element=WebDriverWait(driver,10).until(\n",
    "    EC.presence_of_element_located((By.ID,'loadedButton')))\n",
    "finally:\n",
    "    print(driver.find_element_by_id('content').text)\n",
    "    driver.close()"
   ]
  },
  {
   "cell_type": "code",
   "execution_count": 14,
   "metadata": {},
   "outputs": [
    {
     "name": "stdout",
     "output_type": "stream",
     "text": [
      "This page will be redirecting soon...\n",
      "<html><head>\n",
      "<title>The Destination Page!</title>\n",
      "\n",
      "</head>\n",
      "<body>\n",
      "This is the page you are looking for!\n",
      "\n",
      "</body></html>\n"
     ]
    }
   ],
   "source": [
    "from selenium import webdriver\n",
    "import time\n",
    "from selenium.webdriver.remote.webelement import WebElement\n",
    "from selenium.common.exceptions import StaleElementReferenceException\n",
    "from selenium.common.exceptions import NoSuchElementException\n",
    "\n",
    "def waitForLoad(driver):\n",
    "    elem=driver.find_element_by_tag_name('div')\n",
    "    print(elem.text)\n",
    "    count=0\n",
    "    while True:\n",
    "        count+=1\n",
    "        if count>20:\n",
    "            print('timing out after 10 seconds and returning')\n",
    "            return \n",
    "        time.sleep(.5)\n",
    "        try:\n",
    "            elem==driver.find_element_by_tag_name('div')\n",
    "        except NoSuchElementException:\n",
    "            return\n",
    "        \n",
    "driver=webdriver.PhantomJS()\n",
    "driver.get('http://pythonscraping.com/pages/javascript/redirectDemo1.html')\n",
    "waitForLoad(driver)\n",
    "print(driver.page_source)"
   ]
  },
  {
   "cell_type": "markdown",
   "metadata": {},
   "source": [
    "### 11图像识别与文字处理"
   ]
  },
  {
   "cell_type": "code",
   "execution_count": 15,
   "metadata": {},
   "outputs": [],
   "source": [
    "from PIL import Image,ImageFilter\n",
    "kitten=Image.open('txt.jpg')\n",
    "blurryk=kitten.filter(ImageFilter.GaussianBlur)\n",
    "blurryk.save('txtb.jpg')\n",
    "blurryk.show()"
   ]
  },
  {
   "cell_type": "code",
   "execution_count": 4,
   "metadata": {},
   "outputs": [
    {
     "name": "stdout",
     "output_type": "stream",
     "text": [
      "three most famous attractions in china\n",
      "\f",
      "\n"
     ]
    }
   ],
   "source": [
    "from PIL import Image\n",
    "import subprocess\n",
    "def cleanFile(filepath,newfilepath):\n",
    "    image=Image.open(filepath)\n",
    "    #对图片进行阀值过滤，然后保存\n",
    "    image=image.point(lambda x: 0 if x<143 else 255)\n",
    "    image.save(newfilepath)\n",
    "    #调用系统的tesseract命令对图片进行ocr识别\n",
    "    subprocess.call(['tesseract',newfilepath,'output'])\n",
    "    #打开文件读取结果\n",
    "    outputfile=open('output.txt','r')\n",
    "    print(outputfile.read())\n",
    "    outputfile.close()\n",
    "cleanFile('txt1.jpg','txt1c.png')"
   ]
  },
  {
   "cell_type": "code",
   "execution_count": 2,
   "metadata": {},
   "outputs": [
    {
     "name": "stderr",
     "output_type": "stream",
     "text": [
      "e:\\python3.9\\lib\\site-packages\\selenium\\webdriver\\phantomjs\\webdriver.py:49: UserWarning: Selenium support for PhantomJS has been deprecated, please use headless versions of Chrome or Firefox instead\n",
      "  warnings.warn('Selenium support for PhantomJS has been deprecated, please use headless '\n"
     ]
    },
    {
     "ename": "KeyboardInterrupt",
     "evalue": "",
     "output_type": "error",
     "traceback": [
      "\u001b[1;31m----------------------------------------------------------\u001b[0m",
      "\u001b[1;31mKeyboardInterrupt\u001b[0m        Traceback (most recent call last)",
      "\u001b[1;32m<ipython-input-2-e91037568cb9>\u001b[0m in \u001b[0;36m<module>\u001b[1;34m\u001b[0m\n\u001b[0;32m      3\u001b[0m \u001b[1;32mimport\u001b[0m \u001b[0msubprocess\u001b[0m\u001b[1;33m\u001b[0m\u001b[1;33m\u001b[0m\u001b[0m\n\u001b[0;32m      4\u001b[0m \u001b[1;32mfrom\u001b[0m \u001b[0mselenium\u001b[0m \u001b[1;32mimport\u001b[0m \u001b[0mwebdriver\u001b[0m\u001b[1;33m\u001b[0m\u001b[1;33m\u001b[0m\u001b[0m\n\u001b[1;32m----> 5\u001b[1;33m \u001b[0mdriver\u001b[0m\u001b[1;33m=\u001b[0m\u001b[0mwebdriver\u001b[0m\u001b[1;33m.\u001b[0m\u001b[0mPhantomJS\u001b[0m\u001b[1;33m(\u001b[0m\u001b[1;33m)\u001b[0m\u001b[1;33m\u001b[0m\u001b[1;33m\u001b[0m\u001b[0m\n\u001b[0m\u001b[0;32m      6\u001b[0m \u001b[1;31m#driver=webdriver.Firefix()\u001b[0m\u001b[1;33m\u001b[0m\u001b[1;33m\u001b[0m\u001b[1;33m\u001b[0m\u001b[0m\n\u001b[0;32m      7\u001b[0m \u001b[0mdriver\u001b[0m\u001b[1;33m.\u001b[0m\u001b[0mget\u001b[0m\u001b[1;33m(\u001b[0m\u001b[1;34m'http://www.amazon.com/War-Peace-Leo-Nikplayevich-Tolstoy/dp/1427030200'\u001b[0m\u001b[1;33m)\u001b[0m\u001b[1;33m\u001b[0m\u001b[1;33m\u001b[0m\u001b[0m\n",
      "\u001b[1;32me:\\python3.9\\lib\\site-packages\\selenium\\webdriver\\phantomjs\\webdriver.py\u001b[0m in \u001b[0;36m__init__\u001b[1;34m(self, executable_path, port, desired_capabilities, service_args, service_log_path)\u001b[0m\n\u001b[0;32m     54\u001b[0m             \u001b[0mservice_args\u001b[0m\u001b[1;33m=\u001b[0m\u001b[0mservice_args\u001b[0m\u001b[1;33m,\u001b[0m\u001b[1;33m\u001b[0m\u001b[1;33m\u001b[0m\u001b[0m\n\u001b[0;32m     55\u001b[0m             log_path=service_log_path)\n\u001b[1;32m---> 56\u001b[1;33m         \u001b[0mself\u001b[0m\u001b[1;33m.\u001b[0m\u001b[0mservice\u001b[0m\u001b[1;33m.\u001b[0m\u001b[0mstart\u001b[0m\u001b[1;33m(\u001b[0m\u001b[1;33m)\u001b[0m\u001b[1;33m\u001b[0m\u001b[1;33m\u001b[0m\u001b[0m\n\u001b[0m\u001b[0;32m     57\u001b[0m \u001b[1;33m\u001b[0m\u001b[0m\n\u001b[0;32m     58\u001b[0m         \u001b[1;32mtry\u001b[0m\u001b[1;33m:\u001b[0m\u001b[1;33m\u001b[0m\u001b[1;33m\u001b[0m\u001b[0m\n",
      "\u001b[1;32me:\\python3.9\\lib\\site-packages\\selenium\\webdriver\\common\\service.py\u001b[0m in \u001b[0;36mstart\u001b[1;34m(self)\u001b[0m\n\u001b[0;32m    100\u001b[0m                 \u001b[1;32mbreak\u001b[0m\u001b[1;33m\u001b[0m\u001b[1;33m\u001b[0m\u001b[0m\n\u001b[0;32m    101\u001b[0m             \u001b[0mcount\u001b[0m \u001b[1;33m+=\u001b[0m \u001b[1;36m1\u001b[0m\u001b[1;33m\u001b[0m\u001b[1;33m\u001b[0m\u001b[0m\n\u001b[1;32m--> 102\u001b[1;33m             \u001b[0mtime\u001b[0m\u001b[1;33m.\u001b[0m\u001b[0msleep\u001b[0m\u001b[1;33m(\u001b[0m\u001b[1;36m1\u001b[0m\u001b[1;33m)\u001b[0m\u001b[1;33m\u001b[0m\u001b[1;33m\u001b[0m\u001b[0m\n\u001b[0m\u001b[0;32m    103\u001b[0m             \u001b[1;32mif\u001b[0m \u001b[0mcount\u001b[0m \u001b[1;33m==\u001b[0m \u001b[1;36m30\u001b[0m\u001b[1;33m:\u001b[0m\u001b[1;33m\u001b[0m\u001b[1;33m\u001b[0m\u001b[0m\n\u001b[0;32m    104\u001b[0m                 \u001b[1;32mraise\u001b[0m \u001b[0mWebDriverException\u001b[0m\u001b[1;33m(\u001b[0m\u001b[1;34m\"Can not connect to the Service %s\"\u001b[0m \u001b[1;33m%\u001b[0m \u001b[0mself\u001b[0m\u001b[1;33m.\u001b[0m\u001b[0mpath\u001b[0m\u001b[1;33m)\u001b[0m\u001b[1;33m\u001b[0m\u001b[1;33m\u001b[0m\u001b[0m\n",
      "\u001b[1;31mKeyboardInterrupt\u001b[0m: "
     ]
    }
   ],
   "source": [
    "import time\n",
    "from urllib.request import urlretrieve\n",
    "import subprocess\n",
    "from selenium import webdriver\n",
    "driver=webdriver.PhantomJS()\n",
    "#driver=webdriver.Firefix()\n",
    "driver.get('http://www.amazon.com/War-Peace-Leo-Nikplayevich-Tolstoy/dp/1427030200')\n",
    "time.sleep(2)\n",
    "\n",
    "driver.find_element_by_id('sitbLogoImg').click()\n",
    "imageList=set()\n",
    "\n",
    "time.sleep(8)\n",
    "\n",
    "while 'pointer' in driver.find_element_by_id('sitbReaderRightPageTurner').get_attribute('style'):\n",
    "    driver.find_element_by_id('sitbReaderRightPageTurner').click()\n",
    "    time.sleep(2)\n",
    "    \n",
    "    pages=driver.find_elements_by_xpath(\"//div[@class='pageImage']/div/img\")\n",
    "    for page in pages:\n",
    "        image=page.get_attribute('src')\n",
    "        imageList.add(image)\n",
    "driver.quit()\n",
    "\n",
    "for image in sorted(imageList):\n",
    "    urlretrieve(image,'page.jpg')\n",
    "    p=subprocess.Popen(['tesseract','page.jpg','page'],stdout=subprocess.PIPE,stderr=subprocess.PIPE)\n",
    "    p.wait()\n",
    "    f=open('page.txt','r')\n",
    "    print(f.read())"
   ]
  },
  {
   "cell_type": "code",
   "execution_count": 26,
   "metadata": {
    "scrolled": true
   },
   "outputs": [
    {
     "name": "stdout",
     "output_type": "stream",
     "text": [
      "captcha solution attempt:AMHrb\f",
      "\n"
     ]
    },
    {
     "data": {
      "image/png": "[encoded data removed]",
      "text/plain": [
       "<Figure size 432x288 with 1 Axes>"
      ]
     },
     "metadata": {
      "needs_background": "light"
     },
     "output_type": "display_data"
    },
    {
     "name": "stdout",
     "output_type": "stream",
     "text": [
      "there was a problem reading the captcha correctly!\n",
      "AMHr6\n",
      "\n",
      "Status message\n",
      "Your comment has been queued for review by site administrators and will be published after approval.\n"
     ]
    }
   ],
   "source": [
    "%matplotlib inline\n",
    "from urllib.request import urlretrieve\n",
    "from urllib.request import urlopen\n",
    "from bs4 import BeautifulSoup\n",
    "import matplotlib.pyplot as plt\n",
    "import subprocess\n",
    "import requests\n",
    "from PIL import Image\n",
    "from PIL import ImageOps\n",
    "\n",
    "def cleanimage(imagepath):\n",
    "    image=Image.open(imagepath)\n",
    "    image=image.point(lambda x:0 if x<143 else 255)\n",
    "    borderImage=ImageOps.expand(image,border=20,fill='white')\n",
    "    borderImage.save(imagepath)\n",
    "    \n",
    "html=urlopen('http://www.pythonscraping.com/humans-only')\n",
    "bsObj=BeautifulSoup(html)\n",
    "\n",
    "imageLoction=bsObj.find('img',{'title':'Image CAPTCHA'})['src']\n",
    "formBuildId=bsObj.find('input',{'name':'form_build_id'})['value']\n",
    "captchaSid=bsObj.find('input',{'name':'captcha_sid'})['value']\n",
    "captchaToken=bsObj.find('input',{'name':'captcha_token'})['value']\n",
    "\n",
    "captchaUrl='http://pythonscraping.com'+imageLoction\n",
    "urlretrieve(captchaUrl,'captcha.jpg')\n",
    "cleanimage('captcha.jpg')\n",
    "p=subprocess.Popen(['tesseract','captcha.jpg','captcha'],stdout=subprocess.PIPE,stderr=subprocess.PIPE)\n",
    "p.wait()\n",
    "f=open('captcha.txt','r')\n",
    "captchaResponse=f.read().replace(' ','').replace('\\n','')\n",
    "print('captcha solution attempt:'+captchaResponse)\n",
    "\n",
    "if len(captchaResponse)==5:\n",
    "    params={'captcha_token':captchaToken,'captcha_sid':captchaSid,'form_id':'comment_node_page_form','form_build_id':formBuildId,\n",
    "           'captcha_response':captchaResponse,'name':'wones','subject':'i come to seek the grail',\n",
    "           'comment_body[und][0][value]':'...and i am not a bot'}\n",
    "    r=requests.post('http://www.pythonscraping.com/comment/reply/10',data=params)\n",
    "    responseObj=BeautifulSoup(r.text)\n",
    "    if responseObj.find('div',{'class':'messages'}) is not None:\n",
    "        print(responseObj.find('div',{'class':'messages'}).get_text())\n",
    "else:\n",
    "    \n",
    "    pil_im = Image.open('captcha.jpg')\n",
    "    plt.figure()\n",
    "    plt.imshow(pil_im)\n",
    "    plt.show()\n",
    "    \n",
    "    print('there was a problem reading the captcha correctly!')\n",
    "    captchaResponse=input()\n",
    "    params={'captcha_token':captchaToken,'captcha_sid':captchaSid,'form_id':'comment_node_page_form','form_build_id':formBuildId,\n",
    "           'captcha_response':captchaResponse,'name':'wones','subject':'i come to seek the grail',\n",
    "           'comment_body[und][0][value]':'...and i am not a bot'}\n",
    "    r=requests.post('http://www.pythonscraping.com/comment/reply/10',data=params)\n",
    "    responseObj=BeautifulSoup(r.text)\n",
    "    if responseObj.find('div',{'class':'messages'}) is not None:\n",
    "        print(responseObj.find('div',{'class':'messages'}).get_text())"
   ]
  },
  {
   "cell_type": "markdown",
   "metadata": {},
   "source": [
    "### 12避开采集陷阱"
   ]
  },
  {
   "cell_type": "code",
   "execution_count": 13,
   "metadata": {},
   "outputs": [
    {
     "name": "stdout",
     "output_type": "stream",
     "text": [
      "Mozilla/5.0(Macintosh;Intel Mac OS X 10_9_5 )AppleWebKit 537.36 (KHTML,like Gecko)Chrome\n"
     ]
    }
   ],
   "source": [
    "import requests\n",
    "from bs4 import BeautifulSoup\n",
    "session=requests.Session()\n",
    "headers={'User-Agent':'Mozilla/5.0(Macintosh;Intel Mac OS X 10_9_5 )AppleWebKit 537.36 (KHTML,like Gecko)Chrome',\n",
    "        'Accept':'text/html,application/xhtml+xml,application/xml;q=0.9,image/webp,*/*;q=0.8'}\n",
    "url='https://www.whatismybrowser.com/'\n",
    "req=session.get(url,headers=headers)\n",
    "bsObj=BeautifulSoup(req.text)\n",
    "print(bsObj.find('a',{'class':'useragent terminal terminal-block'}).text)ee"
   ]
  },
  {
   "cell_type": "markdown",
   "metadata": {},
   "source": [
    "### 13用爬虫测试网站"
   ]
  },
  {
   "cell_type": "code",
   "execution_count": 5,
   "metadata": {
    "scrolled": true
   },
   "outputs": [
    {
     "name": "stderr",
     "output_type": "stream",
     "text": [
      "E\n",
      "======================================================================\n",
      "ERROR: C:\\Users\\王生辉\\AppData\\Roaming\\jupyter\\runtime\\kernel-1dc8c43d-7dc4-4e32-ac4a-884af022e3a4 (unittest.loader._FailedTest)\n",
      "----------------------------------------------------------------------\n",
      "AttributeError: module '__main__' has no attribute 'C:\\Users\\王生辉\\AppData\\Roaming\\jupyter\\runtime\\kernel-1dc8c43d-7dc4-4e32-ac4a-884af022e3a4'\n",
      "\n",
      "----------------------------------------------------------------------\n",
      "Ran 1 test in 0.001s\n",
      "\n",
      "FAILED (errors=1)\n"
     ]
    },
    {
     "ename": "SystemExit",
     "evalue": "True",
     "output_type": "error",
     "traceback": [
      "An exception has occurred, use %tb to see the full traceback.\n",
      "\u001b[1;31mSystemExit\u001b[0m\u001b[1;31m:\u001b[0m True\n"
     ]
    },
    {
     "name": "stderr",
     "output_type": "stream",
     "text": [
      "e:\\python3.9\\lib\\site-packages\\IPython\\core\\interactiveshell.py:3426: UserWarning: To exit: use 'exit', 'quit', or Ctrl-D.\n",
      "  warn(\"To exit: use 'exit', 'quit', or Ctrl-D.\", stacklevel=1)\n"
     ]
    }
   ],
   "source": [
    "import unittest\n",
    "class TestAddition(unittest.TestCase):\n",
    "    def setUp(self):\n",
    "        print('setting up the test')\n",
    "    def tearDown(self):\n",
    "        print('tearing down the test')\n",
    "    def test_twoPlusTwo(self):\n",
    "        total=2+2\n",
    "        self.assertEqual(4,total)\n",
    "        \n",
    "if __name__=='__main__':\n",
    "    unittest.main()"
   ]
  },
  {
   "cell_type": "code",
   "execution_count": 7,
   "metadata": {},
   "outputs": [
    {
     "name": "stdout",
     "output_type": "stream",
     "text": [
      "Hello there, www com!\n"
     ]
    }
   ],
   "source": [
    "from selenium import webdriver\n",
    "from selenium.webdriver.remote.webelement import WebElement\n",
    "from selenium.webdriver.common.keys import Keys\n",
    "from selenium.webdriver import ActionChains\n",
    "driver=webdriver.PhantomJS()\n",
    "driver.get('http://www.pythonscraping.com/pages/files/form.html')\n",
    "\n",
    "firstnameFiled=driver.find_element_by_name('firstname')\n",
    "lastnameFiled=driver.find_element_by_name('lastname')\n",
    "submitButton=driver.find_element_by_id('submit')\n",
    "###方法1###\n",
    "# firstnameFiled.send_keys('www')\n",
    "# lastnameFiled.send_keys('com')\n",
    "# submitButton.click()\n",
    "###方法2###\n",
    "actions=ActionChains(driver).click(firstnameFiled).send_keys('www').click(lastnameFiled).send_keys('com').send_keys(Keys.RETURN)\n",
    "actions.perform()\n",
    "##############\n",
    "print(driver.find_element_by_tag_name('body').text)\n",
    "driver.close()"
   ]
  },
  {
   "cell_type": "code",
   "execution_count": null,
   "metadata": {},
   "outputs": [
    {
     "name": "stderr",
     "output_type": "stream",
     "text": [
      "e:\\python3.9\\lib\\site-packages\\selenium\\webdriver\\phantomjs\\webdriver.py:49: UserWarning: Selenium support for PhantomJS has been deprecated, please use headless versions of Chrome or Firefox instead\n",
      "  warnings.warn('Selenium support for PhantomJS has been deprecated, please use headless '\n"
     ]
    }
   ],
   "source": [
    "from selenium import webdriver\n",
    "from selenium.webdriver.remote.webelement import WebElement\n",
    "from selenium.webdriver.common.keys import Keys\n",
    "from selenium.webdriver import ActionChains\n",
    "driver=webdriver.PhantomJS()\n",
    "driver.get('http://www.pythonscraping.com/pages/javascript/draggableDemo.html')\n",
    "print(driver.find_element_by_id('message').text)\n",
    "element=driver.find_element_by_id('draggable')\n",
    "target=driver.find_element_by_id('div2')\n",
    "actions=ActionChains(driver)\n",
    "actions.drag_and_drop(element,target).perform()\n",
    "print(driver.find_element_by_id('message').text)"
   ]
  },
  {
   "cell_type": "code",
   "execution_count": 4,
   "metadata": {
    "scrolled": true
   },
   "outputs": [
    {
     "name": "stderr",
     "output_type": "stream",
     "text": [
      "e:\\python3.9\\lib\\site-packages\\selenium\\webdriver\\phantomjs\\webdriver.py:49: UserWarning: Selenium support for PhantomJS has been deprecated, please use headless versions of Chrome or Firefox instead\n",
      "  warnings.warn('Selenium support for PhantomJS has been deprecated, please use headless '\n",
      "e:\\python3.9\\lib\\site-packages\\selenium\\webdriver\\remote\\webdriver.py:1030: UserWarning: name used for saved screenshot does not match file type. It should end with a `.png` extension\n",
      "  warnings.warn(\"name used for saved screenshot does not match file \"\n"
     ]
    },
    {
     "data": {
      "text/plain": [
       "True"
      ]
     },
     "execution_count": 4,
     "metadata": {},
     "output_type": "execute_result"
    }
   ],
   "source": [
    "from selenium import webdriver\n",
    "from selenium.webdriver.remote.webelement import WebElement\n",
    "from selenium.webdriver.common.keys import Keys\n",
    "from selenium.webdriver import ActionChains\n",
    "driver=webdriver.PhantomJS()\n",
    "driver.get('http://www.pythonscraping.com')\n",
    "driver.get_screenshot_as_file('tmp.jpg')"
   ]
  },
  {
   "cell_type": "markdown",
   "metadata": {},
   "source": [
    "### 14远程采集"
   ]
  }
 ],
 "metadata": {
  "kernelspec": {
   "display_name": "Python 3 (ipykernel)",
   "language": "python",
   "name": "python3"
  },
  "language_info": {
   "codemirror_mode": {
    "name": "ipython",
    "version": 3
   },
   "file_extension": ".py",
   "mimetype": "text/x-python",
   "name": "python",
   "nbconvert_exporter": "python",
   "pygments_lexer": "ipython3",
   "version": "3.9.7"
  }
 },
 "nbformat": 4,
 "nbformat_minor": 4
}
